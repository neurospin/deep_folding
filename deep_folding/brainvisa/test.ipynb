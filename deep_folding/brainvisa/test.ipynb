{
 "cells": [
  {
   "cell_type": "code",
   "execution_count": 1,
   "metadata": {},
   "outputs": [],
   "source": [
    "import os\n",
    "import pandas as pd\n",
    "import numpy as np\n",
    "\n",
    "from deep_folding.brainvisa.utils.save_data import save_to_numpy"
   ]
  },
  {
   "cell_type": "code",
   "execution_count": 2,
   "metadata": {},
   "outputs": [
    {
     "name": "stderr",
     "output_type": "stream",
     "text": [
      "INFO:save_data.py: \n",
      "\n",
      "--------------------------------\n",
      "Now generating numpy array: 4 steps\n",
      "--------------------------------\n",
      "\n",
      "INFO:save_data.py: STEP 1. Now reading cropped dir...\n"
     ]
    },
    {
     "name": "stdout",
     "output_type": "stream",
     "text": [
      "subset 551 ['sub-4365823', 'sub-4301081', 'sub-5913724', 'sub-5057186', 'sub-3568910']\n"
     ]
    },
    {
     "name": "stderr",
     "output_type": "stream",
     "text": [
      "INFO:save_data.py: Reading cropped dir is done SERIALLY\n"
     ]
    },
    {
     "name": "stdout",
     "output_type": "stream",
     "text": [
      "before filter 21072 ['sub-3174845_cropped_foldlabel.nii.gz', 'sub-5045483_cropped_foldlabel.nii.gz', 'sub-2819492_cropped_foldlabel.nii.gz', 'sub-4160863_cropped_foldlabel.nii.gz', 'sub-4213848_cropped_foldlabel.nii.gz']\n",
      "after filter 551 ['sub-4160863_cropped_foldlabel.nii.gz', 'sub-3450590_cropped_foldlabel.nii.gz', 'sub-4258004_cropped_foldlabel.nii.gz', 'sub-4854469_cropped_foldlabel.nii.gz', 'sub-5572886_cropped_foldlabel.nii.gz']\n"
     ]
    },
    {
     "name": "stderr",
     "output_type": "stream",
     "text": [
      "  0%|          | 0/551 [00:00<?, ?it/s]"
     ]
    },
    {
     "name": "stdout",
     "output_type": "stream",
     "text": [
      "/neurospin/dico/data/deep_folding/current/datasets/UkBioBank/crops/2mm/CINGULATE/mask/Rlabels/sub-1004170_cropped_foldlabel.nii.gz\n"
     ]
    },
    {
     "name": "stderr",
     "output_type": "stream",
     "text": [
      "  0%|          | 2/551 [00:00<02:18,  3.96it/s]"
     ]
    },
    {
     "name": "stdout",
     "output_type": "stream",
     "text": [
      "/neurospin/dico/data/deep_folding/current/datasets/UkBioBank/crops/2mm/CINGULATE/mask/Rlabels/sub-1005970_cropped_foldlabel.nii.gz\n",
      "/neurospin/dico/data/deep_folding/current/datasets/UkBioBank/crops/2mm/CINGULATE/mask/Rlabels/sub-1007202_cropped_foldlabel.nii.gz\n"
     ]
    },
    {
     "name": "stderr",
     "output_type": "stream",
     "text": [
      "  1%|          | 4/551 [00:00<01:49,  4.99it/s]"
     ]
    },
    {
     "name": "stdout",
     "output_type": "stream",
     "text": [
      "/neurospin/dico/data/deep_folding/current/datasets/UkBioBank/crops/2mm/CINGULATE/mask/Rlabels/sub-1009981_cropped_foldlabel.nii.gz\n",
      "/neurospin/dico/data/deep_folding/current/datasets/UkBioBank/crops/2mm/CINGULATE/mask/Rlabels/sub-1048157_cropped_foldlabel.nii.gz\n"
     ]
    },
    {
     "name": "stderr",
     "output_type": "stream",
     "text": [
      "  1%|          | 5/551 [00:01<01:35,  5.69it/s]"
     ]
    },
    {
     "name": "stdout",
     "output_type": "stream",
     "text": [
      "/neurospin/dico/data/deep_folding/current/datasets/UkBioBank/crops/2mm/CINGULATE/mask/Rlabels/sub-1067830_cropped_foldlabel.nii.gz\n"
     ]
    },
    {
     "name": "stderr",
     "output_type": "stream",
     "text": [
      "  1%|▏         | 7/551 [00:01<01:30,  5.99it/s]"
     ]
    },
    {
     "name": "stdout",
     "output_type": "stream",
     "text": [
      "/neurospin/dico/data/deep_folding/current/datasets/UkBioBank/crops/2mm/CINGULATE/mask/Rlabels/sub-1082777_cropped_foldlabel.nii.gz\n",
      "/neurospin/dico/data/deep_folding/current/datasets/UkBioBank/crops/2mm/CINGULATE/mask/Rlabels/sub-1113588_cropped_foldlabel.nii.gz\n",
      "/neurospin/dico/data/deep_folding/current/datasets/UkBioBank/crops/2mm/CINGULATE/mask/Rlabels/sub-1134887_cropped_foldlabel.nii.gz\n"
     ]
    },
    {
     "name": "stderr",
     "output_type": "stream",
     "text": [
      "  2%|▏         | 11/551 [00:01<01:04,  8.41it/s]"
     ]
    },
    {
     "name": "stdout",
     "output_type": "stream",
     "text": [
      "/neurospin/dico/data/deep_folding/current/datasets/UkBioBank/crops/2mm/CINGULATE/mask/Rlabels/sub-1140601_cropped_foldlabel.nii.gz\n",
      "/neurospin/dico/data/deep_folding/current/datasets/UkBioBank/crops/2mm/CINGULATE/mask/Rlabels/sub-1151600_cropped_foldlabel.nii.gz\n",
      "/neurospin/dico/data/deep_folding/current/datasets/UkBioBank/crops/2mm/CINGULATE/mask/Rlabels/sub-1153017_cropped_foldlabel.nii.gz\n"
     ]
    },
    {
     "name": "stderr",
     "output_type": "stream",
     "text": [
      "  2%|▏         | 13/551 [00:02<01:17,  6.96it/s]"
     ]
    },
    {
     "name": "stdout",
     "output_type": "stream",
     "text": [
      "/neurospin/dico/data/deep_folding/current/datasets/UkBioBank/crops/2mm/CINGULATE/mask/Rlabels/sub-1158325_cropped_foldlabel.nii.gz\n",
      "/neurospin/dico/data/deep_folding/current/datasets/UkBioBank/crops/2mm/CINGULATE/mask/Rlabels/sub-1166750_cropped_foldlabel.nii.gz\n"
     ]
    },
    {
     "name": "stderr",
     "output_type": "stream",
     "text": [
      "  3%|▎         | 14/551 [00:02<01:16,  7.04it/s]"
     ]
    },
    {
     "name": "stdout",
     "output_type": "stream",
     "text": [
      "/neurospin/dico/data/deep_folding/current/datasets/UkBioBank/crops/2mm/CINGULATE/mask/Rlabels/sub-1185514_cropped_foldlabel.nii.gz\n"
     ]
    },
    {
     "name": "stderr",
     "output_type": "stream",
     "text": [
      "  3%|▎         | 16/551 [00:02<01:58,  4.51it/s]"
     ]
    },
    {
     "name": "stdout",
     "output_type": "stream",
     "text": [
      "/neurospin/dico/data/deep_folding/current/datasets/UkBioBank/crops/2mm/CINGULATE/mask/Rlabels/sub-1195093_cropped_foldlabel.nii.gz\n",
      "/neurospin/dico/data/deep_folding/current/datasets/UkBioBank/crops/2mm/CINGULATE/mask/Rlabels/sub-1198675_cropped_foldlabel.nii.gz\n"
     ]
    },
    {
     "name": "stderr",
     "output_type": "stream",
     "text": [
      "  3%|▎         | 18/551 [00:03<01:40,  5.32it/s]"
     ]
    },
    {
     "name": "stdout",
     "output_type": "stream",
     "text": [
      "/neurospin/dico/data/deep_folding/current/datasets/UkBioBank/crops/2mm/CINGULATE/mask/Rlabels/sub-1208599_cropped_foldlabel.nii.gz\n",
      "/neurospin/dico/data/deep_folding/current/datasets/UkBioBank/crops/2mm/CINGULATE/mask/Rlabels/sub-1216714_cropped_foldlabel.nii.gz\n"
     ]
    },
    {
     "name": "stderr",
     "output_type": "stream",
     "text": [
      "  4%|▎         | 20/551 [00:03<01:29,  5.93it/s]"
     ]
    },
    {
     "name": "stdout",
     "output_type": "stream",
     "text": [
      "/neurospin/dico/data/deep_folding/current/datasets/UkBioBank/crops/2mm/CINGULATE/mask/Rlabels/sub-1217337_cropped_foldlabel.nii.gz\n",
      "/neurospin/dico/data/deep_folding/current/datasets/UkBioBank/crops/2mm/CINGULATE/mask/Rlabels/sub-1226337_cropped_foldlabel.nii.gz\n"
     ]
    },
    {
     "name": "stderr",
     "output_type": "stream",
     "text": [
      "  4%|▍         | 21/551 [00:03<01:36,  5.48it/s]"
     ]
    },
    {
     "name": "stdout",
     "output_type": "stream",
     "text": [
      "/neurospin/dico/data/deep_folding/current/datasets/UkBioBank/crops/2mm/CINGULATE/mask/Rlabels/sub-1272986_cropped_foldlabel.nii.gz\n",
      "/neurospin/dico/data/deep_folding/current/datasets/UkBioBank/crops/2mm/CINGULATE/mask/Rlabels/sub-1273006_cropped_foldlabel.nii.gz\n"
     ]
    },
    {
     "name": "stderr",
     "output_type": "stream",
     "text": [
      "  4%|▍         | 24/551 [00:04<01:23,  6.34it/s]"
     ]
    },
    {
     "name": "stdout",
     "output_type": "stream",
     "text": [
      "/neurospin/dico/data/deep_folding/current/datasets/UkBioBank/crops/2mm/CINGULATE/mask/Rlabels/sub-1285582_cropped_foldlabel.nii.gz\n",
      "/neurospin/dico/data/deep_folding/current/datasets/UkBioBank/crops/2mm/CINGULATE/mask/Rlabels/sub-1288577_cropped_foldlabel.nii.gz\n"
     ]
    },
    {
     "name": "stderr",
     "output_type": "stream",
     "text": [
      "  5%|▍         | 26/551 [00:04<01:27,  6.00it/s]"
     ]
    },
    {
     "name": "stdout",
     "output_type": "stream",
     "text": [
      "/neurospin/dico/data/deep_folding/current/datasets/UkBioBank/crops/2mm/CINGULATE/mask/Rlabels/sub-1307822_cropped_foldlabel.nii.gz\n",
      "/neurospin/dico/data/deep_folding/current/datasets/UkBioBank/crops/2mm/CINGULATE/mask/Rlabels/sub-1308501_cropped_foldlabel.nii.gz\n"
     ]
    },
    {
     "name": "stderr",
     "output_type": "stream",
     "text": [
      "  5%|▌         | 28/551 [00:04<01:14,  6.98it/s]"
     ]
    },
    {
     "name": "stdout",
     "output_type": "stream",
     "text": [
      "/neurospin/dico/data/deep_folding/current/datasets/UkBioBank/crops/2mm/CINGULATE/mask/Rlabels/sub-1313396_cropped_foldlabel.nii.gz\n",
      "/neurospin/dico/data/deep_folding/current/datasets/UkBioBank/crops/2mm/CINGULATE/mask/Rlabels/sub-1314271_cropped_foldlabel.nii.gz\n"
     ]
    },
    {
     "name": "stderr",
     "output_type": "stream",
     "text": [
      "  5%|▌         | 30/551 [00:04<00:59,  8.73it/s]"
     ]
    },
    {
     "name": "stdout",
     "output_type": "stream",
     "text": [
      "/neurospin/dico/data/deep_folding/current/datasets/UkBioBank/crops/2mm/CINGULATE/mask/Rlabels/sub-1334564_cropped_foldlabel.nii.gz\n",
      "/neurospin/dico/data/deep_folding/current/datasets/UkBioBank/crops/2mm/CINGULATE/mask/Rlabels/sub-1336459_cropped_foldlabel.nii.gz\n"
     ]
    },
    {
     "name": "stderr",
     "output_type": "stream",
     "text": [
      "  6%|▌         | 32/551 [00:05<01:18,  6.60it/s]"
     ]
    },
    {
     "name": "stdout",
     "output_type": "stream",
     "text": [
      "/neurospin/dico/data/deep_folding/current/datasets/UkBioBank/crops/2mm/CINGULATE/mask/Rlabels/sub-1372087_cropped_foldlabel.nii.gz\n",
      "/neurospin/dico/data/deep_folding/current/datasets/UkBioBank/crops/2mm/CINGULATE/mask/Rlabels/sub-1373922_cropped_foldlabel.nii.gz\n"
     ]
    },
    {
     "name": "stderr",
     "output_type": "stream",
     "text": [
      "  6%|▌         | 33/551 [00:05<01:25,  6.06it/s]"
     ]
    },
    {
     "name": "stdout",
     "output_type": "stream",
     "text": [
      "/neurospin/dico/data/deep_folding/current/datasets/UkBioBank/crops/2mm/CINGULATE/mask/Rlabels/sub-1374382_cropped_foldlabel.nii.gz\n"
     ]
    },
    {
     "name": "stderr",
     "output_type": "stream",
     "text": [
      "  6%|▌         | 34/551 [00:05<01:31,  5.67it/s]"
     ]
    },
    {
     "name": "stdout",
     "output_type": "stream",
     "text": [
      "/neurospin/dico/data/deep_folding/current/datasets/UkBioBank/crops/2mm/CINGULATE/mask/Rlabels/sub-1389309_cropped_foldlabel.nii.gz\n"
     ]
    },
    {
     "name": "stderr",
     "output_type": "stream",
     "text": [
      "  6%|▋         | 35/551 [00:05<01:35,  5.41it/s]"
     ]
    },
    {
     "name": "stdout",
     "output_type": "stream",
     "text": [
      "/neurospin/dico/data/deep_folding/current/datasets/UkBioBank/crops/2mm/CINGULATE/mask/Rlabels/sub-1391059_cropped_foldlabel.nii.gz\n",
      "/neurospin/dico/data/deep_folding/current/datasets/UkBioBank/crops/2mm/CINGULATE/mask/Rlabels/sub-1406912_cropped_foldlabel.nii.gz\n"
     ]
    },
    {
     "name": "stderr",
     "output_type": "stream",
     "text": [
      "  7%|▋         | 37/551 [00:06<01:15,  6.77it/s]"
     ]
    },
    {
     "name": "stdout",
     "output_type": "stream",
     "text": [
      "/neurospin/dico/data/deep_folding/current/datasets/UkBioBank/crops/2mm/CINGULATE/mask/Rlabels/sub-1414697_cropped_foldlabel.nii.gz\n"
     ]
    },
    {
     "name": "stderr",
     "output_type": "stream",
     "text": [
      "  7%|▋         | 39/551 [00:06<01:25,  5.99it/s]"
     ]
    },
    {
     "name": "stdout",
     "output_type": "stream",
     "text": [
      "/neurospin/dico/data/deep_folding/current/datasets/UkBioBank/crops/2mm/CINGULATE/mask/Rlabels/sub-1428212_cropped_foldlabel.nii.gz\n",
      "/neurospin/dico/data/deep_folding/current/datasets/UkBioBank/crops/2mm/CINGULATE/mask/Rlabels/sub-1451456_cropped_foldlabel.nii.gz\n"
     ]
    },
    {
     "name": "stderr",
     "output_type": "stream",
     "text": [
      "  7%|▋         | 40/551 [00:06<01:32,  5.54it/s]"
     ]
    },
    {
     "name": "stdout",
     "output_type": "stream",
     "text": [
      "/neurospin/dico/data/deep_folding/current/datasets/UkBioBank/crops/2mm/CINGULATE/mask/Rlabels/sub-1451990_cropped_foldlabel.nii.gz\n"
     ]
    },
    {
     "name": "stderr",
     "output_type": "stream",
     "text": [
      "  7%|▋         | 41/551 [00:06<01:37,  5.24it/s]"
     ]
    },
    {
     "name": "stdout",
     "output_type": "stream",
     "text": [
      "/neurospin/dico/data/deep_folding/current/datasets/UkBioBank/crops/2mm/CINGULATE/mask/Rlabels/sub-1460286_cropped_foldlabel.nii.gz\n"
     ]
    },
    {
     "name": "stderr",
     "output_type": "stream",
     "text": [
      "  8%|▊         | 43/551 [00:07<01:29,  5.65it/s]"
     ]
    },
    {
     "name": "stdout",
     "output_type": "stream",
     "text": [
      "/neurospin/dico/data/deep_folding/current/datasets/UkBioBank/crops/2mm/CINGULATE/mask/Rlabels/sub-1462420_cropped_foldlabel.nii.gz\n",
      "/neurospin/dico/data/deep_folding/current/datasets/UkBioBank/crops/2mm/CINGULATE/mask/Rlabels/sub-1473302_cropped_foldlabel.nii.gz\n"
     ]
    },
    {
     "name": "stderr",
     "output_type": "stream",
     "text": [
      "  8%|▊         | 45/551 [00:07<01:18,  6.46it/s]"
     ]
    },
    {
     "name": "stdout",
     "output_type": "stream",
     "text": [
      "/neurospin/dico/data/deep_folding/current/datasets/UkBioBank/crops/2mm/CINGULATE/mask/Rlabels/sub-1478688_cropped_foldlabel.nii.gz\n",
      "/neurospin/dico/data/deep_folding/current/datasets/UkBioBank/crops/2mm/CINGULATE/mask/Rlabels/sub-1480889_cropped_foldlabel.nii.gz\n"
     ]
    },
    {
     "name": "stderr",
     "output_type": "stream",
     "text": [
      "  9%|▊         | 47/551 [00:07<01:17,  6.49it/s]"
     ]
    },
    {
     "name": "stdout",
     "output_type": "stream",
     "text": [
      "/neurospin/dico/data/deep_folding/current/datasets/UkBioBank/crops/2mm/CINGULATE/mask/Rlabels/sub-1480994_cropped_foldlabel.nii.gz\n",
      "/neurospin/dico/data/deep_folding/current/datasets/UkBioBank/crops/2mm/CINGULATE/mask/Rlabels/sub-1488021_cropped_foldlabel.nii.gz\n"
     ]
    },
    {
     "name": "stderr",
     "output_type": "stream",
     "text": [
      "  9%|▉         | 49/551 [00:08<02:13,  3.75it/s]"
     ]
    },
    {
     "name": "stdout",
     "output_type": "stream",
     "text": [
      "/neurospin/dico/data/deep_folding/current/datasets/UkBioBank/crops/2mm/CINGULATE/mask/Rlabels/sub-1488332_cropped_foldlabel.nii.gz\n",
      "/neurospin/dico/data/deep_folding/current/datasets/UkBioBank/crops/2mm/CINGULATE/mask/Rlabels/sub-1511236_cropped_foldlabel.nii.gz\n"
     ]
    },
    {
     "name": "stderr",
     "output_type": "stream",
     "text": [
      "  9%|▉         | 51/551 [00:09<01:50,  4.54it/s]"
     ]
    },
    {
     "name": "stdout",
     "output_type": "stream",
     "text": [
      "/neurospin/dico/data/deep_folding/current/datasets/UkBioBank/crops/2mm/CINGULATE/mask/Rlabels/sub-1514526_cropped_foldlabel.nii.gz\n",
      "/neurospin/dico/data/deep_folding/current/datasets/UkBioBank/crops/2mm/CINGULATE/mask/Rlabels/sub-1516814_cropped_foldlabel.nii.gz\n"
     ]
    },
    {
     "name": "stderr",
     "output_type": "stream",
     "text": [
      " 10%|▉         | 53/551 [00:09<01:30,  5.49it/s]"
     ]
    },
    {
     "name": "stdout",
     "output_type": "stream",
     "text": [
      "/neurospin/dico/data/deep_folding/current/datasets/UkBioBank/crops/2mm/CINGULATE/mask/Rlabels/sub-1525890_cropped_foldlabel.nii.gz\n",
      "/neurospin/dico/data/deep_folding/current/datasets/UkBioBank/crops/2mm/CINGULATE/mask/Rlabels/sub-1525994_cropped_foldlabel.nii.gz\n"
     ]
    },
    {
     "name": "stderr",
     "output_type": "stream",
     "text": [
      " 10%|▉         | 55/551 [00:09<01:16,  6.45it/s]"
     ]
    },
    {
     "name": "stdout",
     "output_type": "stream",
     "text": [
      "/neurospin/dico/data/deep_folding/current/datasets/UkBioBank/crops/2mm/CINGULATE/mask/Rlabels/sub-1549678_cropped_foldlabel.nii.gz\n",
      "/neurospin/dico/data/deep_folding/current/datasets/UkBioBank/crops/2mm/CINGULATE/mask/Rlabels/sub-1564830_cropped_foldlabel.nii.gz\n"
     ]
    },
    {
     "name": "stderr",
     "output_type": "stream",
     "text": [
      " 10%|█         | 57/551 [00:09<01:10,  6.97it/s]"
     ]
    },
    {
     "name": "stdout",
     "output_type": "stream",
     "text": [
      "/neurospin/dico/data/deep_folding/current/datasets/UkBioBank/crops/2mm/CINGULATE/mask/Rlabels/sub-1569549_cropped_foldlabel.nii.gz\n",
      "/neurospin/dico/data/deep_folding/current/datasets/UkBioBank/crops/2mm/CINGULATE/mask/Rlabels/sub-1574610_cropped_foldlabel.nii.gz\n"
     ]
    },
    {
     "name": "stderr",
     "output_type": "stream",
     "text": [
      " 11%|█         | 59/551 [00:10<01:13,  6.74it/s]"
     ]
    },
    {
     "name": "stdout",
     "output_type": "stream",
     "text": [
      "/neurospin/dico/data/deep_folding/current/datasets/UkBioBank/crops/2mm/CINGULATE/mask/Rlabels/sub-1584549_cropped_foldlabel.nii.gz\n",
      "/neurospin/dico/data/deep_folding/current/datasets/UkBioBank/crops/2mm/CINGULATE/mask/Rlabels/sub-1603639_cropped_foldlabel.nii.gz\n"
     ]
    },
    {
     "name": "stderr",
     "output_type": "stream",
     "text": [
      " 11%|█         | 61/551 [00:10<01:11,  6.82it/s]"
     ]
    },
    {
     "name": "stdout",
     "output_type": "stream",
     "text": [
      "/neurospin/dico/data/deep_folding/current/datasets/UkBioBank/crops/2mm/CINGULATE/mask/Rlabels/sub-1609954_cropped_foldlabel.nii.gz\n",
      "/neurospin/dico/data/deep_folding/current/datasets/UkBioBank/crops/2mm/CINGULATE/mask/Rlabels/sub-1612755_cropped_foldlabel.nii.gz\n"
     ]
    },
    {
     "name": "stderr",
     "output_type": "stream",
     "text": [
      " 11%|█▏        | 63/551 [00:10<01:10,  6.96it/s]"
     ]
    },
    {
     "name": "stdout",
     "output_type": "stream",
     "text": [
      "/neurospin/dico/data/deep_folding/current/datasets/UkBioBank/crops/2mm/CINGULATE/mask/Rlabels/sub-1620450_cropped_foldlabel.nii.gz\n",
      "/neurospin/dico/data/deep_folding/current/datasets/UkBioBank/crops/2mm/CINGULATE/mask/Rlabels/sub-1635113_cropped_foldlabel.nii.gz\n"
     ]
    },
    {
     "name": "stderr",
     "output_type": "stream",
     "text": [
      " 12%|█▏        | 65/551 [00:11<01:03,  7.71it/s]"
     ]
    },
    {
     "name": "stdout",
     "output_type": "stream",
     "text": [
      "/neurospin/dico/data/deep_folding/current/datasets/UkBioBank/crops/2mm/CINGULATE/mask/Rlabels/sub-1640360_cropped_foldlabel.nii.gz\n",
      "/neurospin/dico/data/deep_folding/current/datasets/UkBioBank/crops/2mm/CINGULATE/mask/Rlabels/sub-1647006_cropped_foldlabel.nii.gz\n"
     ]
    },
    {
     "name": "stderr",
     "output_type": "stream",
     "text": [
      " 12%|█▏        | 67/551 [00:11<01:07,  7.20it/s]"
     ]
    },
    {
     "name": "stdout",
     "output_type": "stream",
     "text": [
      "/neurospin/dico/data/deep_folding/current/datasets/UkBioBank/crops/2mm/CINGULATE/mask/Rlabels/sub-1666078_cropped_foldlabel.nii.gz\n",
      "/neurospin/dico/data/deep_folding/current/datasets/UkBioBank/crops/2mm/CINGULATE/mask/Rlabels/sub-1666601_cropped_foldlabel.nii.gz\n"
     ]
    },
    {
     "name": "stderr",
     "output_type": "stream",
     "text": [
      " 12%|█▏        | 68/551 [00:11<01:12,  6.65it/s]"
     ]
    },
    {
     "name": "stdout",
     "output_type": "stream",
     "text": [
      "/neurospin/dico/data/deep_folding/current/datasets/UkBioBank/crops/2mm/CINGULATE/mask/Rlabels/sub-1679078_cropped_foldlabel.nii.gz\n"
     ]
    },
    {
     "name": "stderr",
     "output_type": "stream",
     "text": [
      " 13%|█▎        | 70/551 [00:11<01:26,  5.54it/s]"
     ]
    },
    {
     "name": "stdout",
     "output_type": "stream",
     "text": [
      "/neurospin/dico/data/deep_folding/current/datasets/UkBioBank/crops/2mm/CINGULATE/mask/Rlabels/sub-1681996_cropped_foldlabel.nii.gz\n"
     ]
    },
    {
     "name": "stderr",
     "output_type": "stream",
     "text": [
      " 13%|█▎        | 72/551 [00:12<01:28,  5.42it/s]"
     ]
    },
    {
     "name": "stdout",
     "output_type": "stream",
     "text": [
      "/neurospin/dico/data/deep_folding/current/datasets/UkBioBank/crops/2mm/CINGULATE/mask/Rlabels/sub-1686476_cropped_foldlabel.nii.gz\n",
      "/neurospin/dico/data/deep_folding/current/datasets/UkBioBank/crops/2mm/CINGULATE/mask/Rlabels/sub-1699171_cropped_foldlabel.nii.gz\n",
      "/neurospin/dico/data/deep_folding/current/datasets/UkBioBank/crops/2mm/CINGULATE/mask/Rlabels/sub-1702968_cropped_foldlabel.nii.gz\n"
     ]
    },
    {
     "name": "stderr",
     "output_type": "stream",
     "text": [
      " 13%|█▎        | 74/551 [00:12<01:23,  5.71it/s]"
     ]
    },
    {
     "name": "stdout",
     "output_type": "stream",
     "text": [
      "/neurospin/dico/data/deep_folding/current/datasets/UkBioBank/crops/2mm/CINGULATE/mask/Rlabels/sub-1709070_cropped_foldlabel.nii.gz\n",
      "/neurospin/dico/data/deep_folding/current/datasets/UkBioBank/crops/2mm/CINGULATE/mask/Rlabels/sub-1710077_cropped_foldlabel.nii.gz\n"
     ]
    },
    {
     "name": "stderr",
     "output_type": "stream",
     "text": [
      " 14%|█▍        | 76/551 [00:12<01:15,  6.27it/s]"
     ]
    },
    {
     "name": "stdout",
     "output_type": "stream",
     "text": [
      "/neurospin/dico/data/deep_folding/current/datasets/UkBioBank/crops/2mm/CINGULATE/mask/Rlabels/sub-1731824_cropped_foldlabel.nii.gz\n",
      "/neurospin/dico/data/deep_folding/current/datasets/UkBioBank/crops/2mm/CINGULATE/mask/Rlabels/sub-1747653_cropped_foldlabel.nii.gz\n"
     ]
    },
    {
     "name": "stderr",
     "output_type": "stream",
     "text": [
      " 14%|█▍        | 78/551 [00:13<01:10,  6.70it/s]"
     ]
    },
    {
     "name": "stdout",
     "output_type": "stream",
     "text": [
      "/neurospin/dico/data/deep_folding/current/datasets/UkBioBank/crops/2mm/CINGULATE/mask/Rlabels/sub-1769614_cropped_foldlabel.nii.gz\n",
      "/neurospin/dico/data/deep_folding/current/datasets/UkBioBank/crops/2mm/CINGULATE/mask/Rlabels/sub-1778458_cropped_foldlabel.nii.gz\n"
     ]
    },
    {
     "name": "stderr",
     "output_type": "stream",
     "text": [
      " 15%|█▍        | 80/551 [00:14<02:19,  3.37it/s]"
     ]
    },
    {
     "name": "stdout",
     "output_type": "stream",
     "text": [
      "/neurospin/dico/data/deep_folding/current/datasets/UkBioBank/crops/2mm/CINGULATE/mask/Rlabels/sub-1796059_cropped_foldlabel.nii.gz\n",
      "/neurospin/dico/data/deep_folding/current/datasets/UkBioBank/crops/2mm/CINGULATE/mask/Rlabels/sub-1797887_cropped_foldlabel.nii.gz\n"
     ]
    },
    {
     "name": "stderr",
     "output_type": "stream",
     "text": [
      " 15%|█▍        | 82/551 [00:14<01:42,  4.59it/s]"
     ]
    },
    {
     "name": "stdout",
     "output_type": "stream",
     "text": [
      "/neurospin/dico/data/deep_folding/current/datasets/UkBioBank/crops/2mm/CINGULATE/mask/Rlabels/sub-1803061_cropped_foldlabel.nii.gz\n",
      "/neurospin/dico/data/deep_folding/current/datasets/UkBioBank/crops/2mm/CINGULATE/mask/Rlabels/sub-1812064_cropped_foldlabel.nii.gz\n"
     ]
    },
    {
     "name": "stderr",
     "output_type": "stream",
     "text": [
      " 15%|█▌        | 84/551 [00:14<01:25,  5.48it/s]"
     ]
    },
    {
     "name": "stdout",
     "output_type": "stream",
     "text": [
      "/neurospin/dico/data/deep_folding/current/datasets/UkBioBank/crops/2mm/CINGULATE/mask/Rlabels/sub-1813860_cropped_foldlabel.nii.gz\n",
      "/neurospin/dico/data/deep_folding/current/datasets/UkBioBank/crops/2mm/CINGULATE/mask/Rlabels/sub-1822141_cropped_foldlabel.nii.gz\n"
     ]
    },
    {
     "name": "stderr",
     "output_type": "stream",
     "text": [
      " 15%|█▌        | 85/551 [00:14<01:23,  5.55it/s]"
     ]
    },
    {
     "name": "stdout",
     "output_type": "stream",
     "text": [
      "/neurospin/dico/data/deep_folding/current/datasets/UkBioBank/crops/2mm/CINGULATE/mask/Rlabels/sub-1824906_cropped_foldlabel.nii.gz\n"
     ]
    },
    {
     "name": "stderr",
     "output_type": "stream",
     "text": [
      " 16%|█▌        | 87/551 [00:15<01:26,  5.39it/s]"
     ]
    },
    {
     "name": "stdout",
     "output_type": "stream",
     "text": [
      "/neurospin/dico/data/deep_folding/current/datasets/UkBioBank/crops/2mm/CINGULATE/mask/Rlabels/sub-1829574_cropped_foldlabel.nii.gz\n",
      "/neurospin/dico/data/deep_folding/current/datasets/UkBioBank/crops/2mm/CINGULATE/mask/Rlabels/sub-1832571_cropped_foldlabel.nii.gz\n"
     ]
    },
    {
     "name": "stderr",
     "output_type": "stream",
     "text": [
      " 16%|█▌        | 89/551 [00:15<01:19,  5.81it/s]"
     ]
    },
    {
     "name": "stdout",
     "output_type": "stream",
     "text": [
      "/neurospin/dico/data/deep_folding/current/datasets/UkBioBank/crops/2mm/CINGULATE/mask/Rlabels/sub-1846590_cropped_foldlabel.nii.gz\n",
      "/neurospin/dico/data/deep_folding/current/datasets/UkBioBank/crops/2mm/CINGULATE/mask/Rlabels/sub-1863557_cropped_foldlabel.nii.gz\n"
     ]
    },
    {
     "name": "stderr",
     "output_type": "stream",
     "text": [
      " 17%|█▋        | 91/551 [00:15<01:08,  6.74it/s]"
     ]
    },
    {
     "name": "stdout",
     "output_type": "stream",
     "text": [
      "/neurospin/dico/data/deep_folding/current/datasets/UkBioBank/crops/2mm/CINGULATE/mask/Rlabels/sub-1866616_cropped_foldlabel.nii.gz\n",
      "/neurospin/dico/data/deep_folding/current/datasets/UkBioBank/crops/2mm/CINGULATE/mask/Rlabels/sub-1877310_cropped_foldlabel.nii.gz\n"
     ]
    },
    {
     "name": "stderr",
     "output_type": "stream",
     "text": [
      " 17%|█▋        | 93/551 [00:16<01:10,  6.49it/s]"
     ]
    },
    {
     "name": "stdout",
     "output_type": "stream",
     "text": [
      "/neurospin/dico/data/deep_folding/current/datasets/UkBioBank/crops/2mm/CINGULATE/mask/Rlabels/sub-1882867_cropped_foldlabel.nii.gz\n",
      "/neurospin/dico/data/deep_folding/current/datasets/UkBioBank/crops/2mm/CINGULATE/mask/Rlabels/sub-1897786_cropped_foldlabel.nii.gz\n",
      "/neurospin/dico/data/deep_folding/current/datasets/UkBioBank/crops/2mm/CINGULATE/mask/Rlabels/sub-1909558_cropped_foldlabel.nii.gz\n"
     ]
    },
    {
     "name": "stderr",
     "output_type": "stream",
     "text": [
      " 17%|█▋        | 96/551 [00:16<01:04,  7.11it/s]"
     ]
    },
    {
     "name": "stdout",
     "output_type": "stream",
     "text": [
      "/neurospin/dico/data/deep_folding/current/datasets/UkBioBank/crops/2mm/CINGULATE/mask/Rlabels/sub-1914009_cropped_foldlabel.nii.gz\n",
      "/neurospin/dico/data/deep_folding/current/datasets/UkBioBank/crops/2mm/CINGULATE/mask/Rlabels/sub-1915611_cropped_foldlabel.nii.gz\n"
     ]
    },
    {
     "name": "stderr",
     "output_type": "stream",
     "text": [
      " 18%|█▊        | 98/551 [00:16<01:06,  6.77it/s]"
     ]
    },
    {
     "name": "stdout",
     "output_type": "stream",
     "text": [
      "/neurospin/dico/data/deep_folding/current/datasets/UkBioBank/crops/2mm/CINGULATE/mask/Rlabels/sub-1925325_cropped_foldlabel.nii.gz\n",
      "/neurospin/dico/data/deep_folding/current/datasets/UkBioBank/crops/2mm/CINGULATE/mask/Rlabels/sub-1935008_cropped_foldlabel.nii.gz\n"
     ]
    },
    {
     "name": "stderr",
     "output_type": "stream",
     "text": [
      " 18%|█▊        | 100/551 [00:17<01:05,  6.91it/s]"
     ]
    },
    {
     "name": "stdout",
     "output_type": "stream",
     "text": [
      "/neurospin/dico/data/deep_folding/current/datasets/UkBioBank/crops/2mm/CINGULATE/mask/Rlabels/sub-1943335_cropped_foldlabel.nii.gz\n",
      "/neurospin/dico/data/deep_folding/current/datasets/UkBioBank/crops/2mm/CINGULATE/mask/Rlabels/sub-1971557_cropped_foldlabel.nii.gz\n"
     ]
    },
    {
     "name": "stderr",
     "output_type": "stream",
     "text": [
      " 19%|█▊        | 102/551 [00:17<01:05,  6.85it/s]"
     ]
    },
    {
     "name": "stdout",
     "output_type": "stream",
     "text": [
      "/neurospin/dico/data/deep_folding/current/datasets/UkBioBank/crops/2mm/CINGULATE/mask/Rlabels/sub-1982092_cropped_foldlabel.nii.gz\n",
      "/neurospin/dico/data/deep_folding/current/datasets/UkBioBank/crops/2mm/CINGULATE/mask/Rlabels/sub-1997299_cropped_foldlabel.nii.gz\n"
     ]
    },
    {
     "name": "stderr",
     "output_type": "stream",
     "text": [
      " 19%|█▉        | 104/551 [00:17<01:08,  6.53it/s]"
     ]
    },
    {
     "name": "stdout",
     "output_type": "stream",
     "text": [
      "/neurospin/dico/data/deep_folding/current/datasets/UkBioBank/crops/2mm/CINGULATE/mask/Rlabels/sub-2003146_cropped_foldlabel.nii.gz\n",
      "/neurospin/dico/data/deep_folding/current/datasets/UkBioBank/crops/2mm/CINGULATE/mask/Rlabels/sub-2017012_cropped_foldlabel.nii.gz\n"
     ]
    },
    {
     "name": "stderr",
     "output_type": "stream",
     "text": [
      " 19%|█▉        | 106/551 [00:18<01:08,  6.52it/s]"
     ]
    },
    {
     "name": "stdout",
     "output_type": "stream",
     "text": [
      "/neurospin/dico/data/deep_folding/current/datasets/UkBioBank/crops/2mm/CINGULATE/mask/Rlabels/sub-2018793_cropped_foldlabel.nii.gz\n",
      "/neurospin/dico/data/deep_folding/current/datasets/UkBioBank/crops/2mm/CINGULATE/mask/Rlabels/sub-2019917_cropped_foldlabel.nii.gz\n"
     ]
    },
    {
     "name": "stderr",
     "output_type": "stream",
     "text": [
      " 19%|█▉        | 107/551 [00:18<01:05,  6.79it/s]"
     ]
    },
    {
     "name": "stdout",
     "output_type": "stream",
     "text": [
      "/neurospin/dico/data/deep_folding/current/datasets/UkBioBank/crops/2mm/CINGULATE/mask/Rlabels/sub-2021210_cropped_foldlabel.nii.gz\n",
      "/neurospin/dico/data/deep_folding/current/datasets/UkBioBank/crops/2mm/CINGULATE/mask/Rlabels/sub-2028259_cropped_foldlabel.nii.gz\n"
     ]
    },
    {
     "name": "stderr",
     "output_type": "stream",
     "text": [
      " 20%|█▉        | 110/551 [00:18<00:57,  7.62it/s]"
     ]
    },
    {
     "name": "stdout",
     "output_type": "stream",
     "text": [
      "/neurospin/dico/data/deep_folding/current/datasets/UkBioBank/crops/2mm/CINGULATE/mask/Rlabels/sub-2028851_cropped_foldlabel.nii.gz\n",
      "/neurospin/dico/data/deep_folding/current/datasets/UkBioBank/crops/2mm/CINGULATE/mask/Rlabels/sub-2064667_cropped_foldlabel.nii.gz\n"
     ]
    },
    {
     "name": "stderr",
     "output_type": "stream",
     "text": [
      " 20%|██        | 112/551 [00:18<01:03,  6.92it/s]"
     ]
    },
    {
     "name": "stdout",
     "output_type": "stream",
     "text": [
      "/neurospin/dico/data/deep_folding/current/datasets/UkBioBank/crops/2mm/CINGULATE/mask/Rlabels/sub-2079914_cropped_foldlabel.nii.gz\n",
      "/neurospin/dico/data/deep_folding/current/datasets/UkBioBank/crops/2mm/CINGULATE/mask/Rlabels/sub-2086815_cropped_foldlabel.nii.gz\n"
     ]
    },
    {
     "name": "stderr",
     "output_type": "stream",
     "text": [
      " 21%|██        | 114/551 [00:19<01:02,  7.03it/s]"
     ]
    },
    {
     "name": "stdout",
     "output_type": "stream",
     "text": [
      "/neurospin/dico/data/deep_folding/current/datasets/UkBioBank/crops/2mm/CINGULATE/mask/Rlabels/sub-2090127_cropped_foldlabel.nii.gz\n",
      "/neurospin/dico/data/deep_folding/current/datasets/UkBioBank/crops/2mm/CINGULATE/mask/Rlabels/sub-2095126_cropped_foldlabel.nii.gz\n"
     ]
    },
    {
     "name": "stderr",
     "output_type": "stream",
     "text": [
      " 21%|██        | 116/551 [00:19<01:05,  6.60it/s]"
     ]
    },
    {
     "name": "stdout",
     "output_type": "stream",
     "text": [
      "/neurospin/dico/data/deep_folding/current/datasets/UkBioBank/crops/2mm/CINGULATE/mask/Rlabels/sub-2096666_cropped_foldlabel.nii.gz\n",
      "/neurospin/dico/data/deep_folding/current/datasets/UkBioBank/crops/2mm/CINGULATE/mask/Rlabels/sub-2099735_cropped_foldlabel.nii.gz\n",
      "/neurospin/dico/data/deep_folding/current/datasets/UkBioBank/crops/2mm/CINGULATE/mask/Rlabels/sub-2102249_cropped_foldlabel.nii.gz\n"
     ]
    },
    {
     "name": "stderr",
     "output_type": "stream",
     "text": [
      " 22%|██▏       | 119/551 [00:19<00:57,  7.47it/s]"
     ]
    },
    {
     "name": "stdout",
     "output_type": "stream",
     "text": [
      "/neurospin/dico/data/deep_folding/current/datasets/UkBioBank/crops/2mm/CINGULATE/mask/Rlabels/sub-2105952_cropped_foldlabel.nii.gz\n",
      "/neurospin/dico/data/deep_folding/current/datasets/UkBioBank/crops/2mm/CINGULATE/mask/Rlabels/sub-2122485_cropped_foldlabel.nii.gz\n"
     ]
    },
    {
     "name": "stderr",
     "output_type": "stream",
     "text": [
      " 22%|██▏       | 121/551 [00:20<01:02,  6.93it/s]"
     ]
    },
    {
     "name": "stdout",
     "output_type": "stream",
     "text": [
      "/neurospin/dico/data/deep_folding/current/datasets/UkBioBank/crops/2mm/CINGULATE/mask/Rlabels/sub-2126502_cropped_foldlabel.nii.gz\n",
      "/neurospin/dico/data/deep_folding/current/datasets/UkBioBank/crops/2mm/CINGULATE/mask/Rlabels/sub-2146417_cropped_foldlabel.nii.gz\n"
     ]
    },
    {
     "name": "stderr",
     "output_type": "stream",
     "text": [
      " 22%|██▏       | 123/551 [00:20<01:03,  6.72it/s]"
     ]
    },
    {
     "name": "stdout",
     "output_type": "stream",
     "text": [
      "/neurospin/dico/data/deep_folding/current/datasets/UkBioBank/crops/2mm/CINGULATE/mask/Rlabels/sub-2159521_cropped_foldlabel.nii.gz\n",
      "/neurospin/dico/data/deep_folding/current/datasets/UkBioBank/crops/2mm/CINGULATE/mask/Rlabels/sub-2169184_cropped_foldlabel.nii.gz\n"
     ]
    },
    {
     "name": "stderr",
     "output_type": "stream",
     "text": [
      " 23%|██▎       | 125/551 [00:20<00:54,  7.77it/s]"
     ]
    },
    {
     "name": "stdout",
     "output_type": "stream",
     "text": [
      "/neurospin/dico/data/deep_folding/current/datasets/UkBioBank/crops/2mm/CINGULATE/mask/Rlabels/sub-2173936_cropped_foldlabel.nii.gz\n",
      "/neurospin/dico/data/deep_folding/current/datasets/UkBioBank/crops/2mm/CINGULATE/mask/Rlabels/sub-2177059_cropped_foldlabel.nii.gz\n"
     ]
    },
    {
     "name": "stderr",
     "output_type": "stream",
     "text": [
      " 23%|██▎       | 127/551 [00:21<01:02,  6.81it/s]"
     ]
    },
    {
     "name": "stdout",
     "output_type": "stream",
     "text": [
      "/neurospin/dico/data/deep_folding/current/datasets/UkBioBank/crops/2mm/CINGULATE/mask/Rlabels/sub-2178905_cropped_foldlabel.nii.gz\n",
      "/neurospin/dico/data/deep_folding/current/datasets/UkBioBank/crops/2mm/CINGULATE/mask/Rlabels/sub-2206604_cropped_foldlabel.nii.gz\n"
     ]
    },
    {
     "name": "stderr",
     "output_type": "stream",
     "text": [
      " 23%|██▎       | 129/551 [00:21<01:09,  6.08it/s]"
     ]
    },
    {
     "name": "stdout",
     "output_type": "stream",
     "text": [
      "/neurospin/dico/data/deep_folding/current/datasets/UkBioBank/crops/2mm/CINGULATE/mask/Rlabels/sub-2214718_cropped_foldlabel.nii.gz\n",
      "/neurospin/dico/data/deep_folding/current/datasets/UkBioBank/crops/2mm/CINGULATE/mask/Rlabels/sub-2225492_cropped_foldlabel.nii.gz\n"
     ]
    },
    {
     "name": "stderr",
     "output_type": "stream",
     "text": [
      " 24%|██▍       | 131/551 [00:21<01:11,  5.88it/s]"
     ]
    },
    {
     "name": "stdout",
     "output_type": "stream",
     "text": [
      "/neurospin/dico/data/deep_folding/current/datasets/UkBioBank/crops/2mm/CINGULATE/mask/Rlabels/sub-2225663_cropped_foldlabel.nii.gz\n",
      "/neurospin/dico/data/deep_folding/current/datasets/UkBioBank/crops/2mm/CINGULATE/mask/Rlabels/sub-2226986_cropped_foldlabel.nii.gz\n",
      "/neurospin/dico/data/deep_folding/current/datasets/UkBioBank/crops/2mm/CINGULATE/mask/Rlabels/sub-2232598_cropped_foldlabel.nii.gz\n"
     ]
    },
    {
     "name": "stderr",
     "output_type": "stream",
     "text": [
      " 24%|██▍       | 133/551 [00:22<01:06,  6.33it/s]"
     ]
    },
    {
     "name": "stdout",
     "output_type": "stream",
     "text": [
      "/neurospin/dico/data/deep_folding/current/datasets/UkBioBank/crops/2mm/CINGULATE/mask/Rlabels/sub-2241947_cropped_foldlabel.nii.gz\n"
     ]
    },
    {
     "name": "stderr",
     "output_type": "stream",
     "text": [
      " 25%|██▍       | 135/551 [00:22<01:07,  6.16it/s]"
     ]
    },
    {
     "name": "stdout",
     "output_type": "stream",
     "text": [
      "/neurospin/dico/data/deep_folding/current/datasets/UkBioBank/crops/2mm/CINGULATE/mask/Rlabels/sub-2247652_cropped_foldlabel.nii.gz\n",
      "/neurospin/dico/data/deep_folding/current/datasets/UkBioBank/crops/2mm/CINGULATE/mask/Rlabels/sub-2248178_cropped_foldlabel.nii.gz\n"
     ]
    },
    {
     "name": "stderr",
     "output_type": "stream",
     "text": [
      " 25%|██▍       | 137/551 [00:22<01:11,  5.76it/s]"
     ]
    },
    {
     "name": "stdout",
     "output_type": "stream",
     "text": [
      "/neurospin/dico/data/deep_folding/current/datasets/UkBioBank/crops/2mm/CINGULATE/mask/Rlabels/sub-2258152_cropped_foldlabel.nii.gz\n",
      "/neurospin/dico/data/deep_folding/current/datasets/UkBioBank/crops/2mm/CINGULATE/mask/Rlabels/sub-2261687_cropped_foldlabel.nii.gz\n"
     ]
    },
    {
     "name": "stderr",
     "output_type": "stream",
     "text": [
      " 25%|██▌       | 139/551 [00:23<01:12,  5.69it/s]"
     ]
    },
    {
     "name": "stdout",
     "output_type": "stream",
     "text": [
      "/neurospin/dico/data/deep_folding/current/datasets/UkBioBank/crops/2mm/CINGULATE/mask/Rlabels/sub-2282000_cropped_foldlabel.nii.gz\n",
      "/neurospin/dico/data/deep_folding/current/datasets/UkBioBank/crops/2mm/CINGULATE/mask/Rlabels/sub-2287650_cropped_foldlabel.nii.gz\n"
     ]
    },
    {
     "name": "stderr",
     "output_type": "stream",
     "text": [
      " 26%|██▌       | 141/551 [00:23<01:03,  6.42it/s]"
     ]
    },
    {
     "name": "stdout",
     "output_type": "stream",
     "text": [
      "/neurospin/dico/data/deep_folding/current/datasets/UkBioBank/crops/2mm/CINGULATE/mask/Rlabels/sub-2322763_cropped_foldlabel.nii.gz\n",
      "/neurospin/dico/data/deep_folding/current/datasets/UkBioBank/crops/2mm/CINGULATE/mask/Rlabels/sub-2327978_cropped_foldlabel.nii.gz\n"
     ]
    },
    {
     "name": "stderr",
     "output_type": "stream",
     "text": [
      " 26%|██▌       | 142/551 [00:23<01:01,  6.61it/s]"
     ]
    },
    {
     "name": "stdout",
     "output_type": "stream",
     "text": [
      "/neurospin/dico/data/deep_folding/current/datasets/UkBioBank/crops/2mm/CINGULATE/mask/Rlabels/sub-2333126_cropped_foldlabel.nii.gz\n",
      "/neurospin/dico/data/deep_folding/current/datasets/UkBioBank/crops/2mm/CINGULATE/mask/Rlabels/sub-2353834_cropped_foldlabel.nii.gz\n"
     ]
    },
    {
     "name": "stderr",
     "output_type": "stream",
     "text": [
      " 26%|██▋       | 145/551 [00:23<00:54,  7.49it/s]"
     ]
    },
    {
     "name": "stdout",
     "output_type": "stream",
     "text": [
      "/neurospin/dico/data/deep_folding/current/datasets/UkBioBank/crops/2mm/CINGULATE/mask/Rlabels/sub-2364580_cropped_foldlabel.nii.gz\n",
      "/neurospin/dico/data/deep_folding/current/datasets/UkBioBank/crops/2mm/CINGULATE/mask/Rlabels/sub-2381040_cropped_foldlabel.nii.gz\n"
     ]
    },
    {
     "name": "stderr",
     "output_type": "stream",
     "text": [
      " 27%|██▋       | 148/551 [00:24<00:44,  9.03it/s]"
     ]
    },
    {
     "name": "stdout",
     "output_type": "stream",
     "text": [
      "/neurospin/dico/data/deep_folding/current/datasets/UkBioBank/crops/2mm/CINGULATE/mask/Rlabels/sub-2407239_cropped_foldlabel.nii.gz\n",
      "/neurospin/dico/data/deep_folding/current/datasets/UkBioBank/crops/2mm/CINGULATE/mask/Rlabels/sub-2408225_cropped_foldlabel.nii.gz\n",
      "/neurospin/dico/data/deep_folding/current/datasets/UkBioBank/crops/2mm/CINGULATE/mask/Rlabels/sub-2413012_cropped_foldlabel.nii.gz\n"
     ]
    },
    {
     "name": "stderr",
     "output_type": "stream",
     "text": [
      " 27%|██▋       | 150/551 [00:24<00:48,  8.32it/s]"
     ]
    },
    {
     "name": "stdout",
     "output_type": "stream",
     "text": [
      "/neurospin/dico/data/deep_folding/current/datasets/UkBioBank/crops/2mm/CINGULATE/mask/Rlabels/sub-2415359_cropped_foldlabel.nii.gz\n",
      "/neurospin/dico/data/deep_folding/current/datasets/UkBioBank/crops/2mm/CINGULATE/mask/Rlabels/sub-2419452_cropped_foldlabel.nii.gz\n"
     ]
    },
    {
     "name": "stderr",
     "output_type": "stream",
     "text": [
      " 28%|██▊       | 152/551 [00:24<00:53,  7.47it/s]"
     ]
    },
    {
     "name": "stdout",
     "output_type": "stream",
     "text": [
      "/neurospin/dico/data/deep_folding/current/datasets/UkBioBank/crops/2mm/CINGULATE/mask/Rlabels/sub-2421824_cropped_foldlabel.nii.gz\n",
      "/neurospin/dico/data/deep_folding/current/datasets/UkBioBank/crops/2mm/CINGULATE/mask/Rlabels/sub-2424630_cropped_foldlabel.nii.gz\n"
     ]
    },
    {
     "name": "stderr",
     "output_type": "stream",
     "text": [
      " 28%|██▊       | 154/551 [00:25<00:54,  7.22it/s]"
     ]
    },
    {
     "name": "stdout",
     "output_type": "stream",
     "text": [
      "/neurospin/dico/data/deep_folding/current/datasets/UkBioBank/crops/2mm/CINGULATE/mask/Rlabels/sub-2426768_cropped_foldlabel.nii.gz\n",
      "/neurospin/dico/data/deep_folding/current/datasets/UkBioBank/crops/2mm/CINGULATE/mask/Rlabels/sub-2428250_cropped_foldlabel.nii.gz\n"
     ]
    },
    {
     "name": "stderr",
     "output_type": "stream",
     "text": [
      " 28%|██▊       | 156/551 [00:25<01:01,  6.43it/s]"
     ]
    },
    {
     "name": "stdout",
     "output_type": "stream",
     "text": [
      "/neurospin/dico/data/deep_folding/current/datasets/UkBioBank/crops/2mm/CINGULATE/mask/Rlabels/sub-2434840_cropped_foldlabel.nii.gz\n",
      "/neurospin/dico/data/deep_folding/current/datasets/UkBioBank/crops/2mm/CINGULATE/mask/Rlabels/sub-2455416_cropped_foldlabel.nii.gz\n"
     ]
    },
    {
     "name": "stderr",
     "output_type": "stream",
     "text": [
      " 29%|██▊       | 158/551 [00:26<01:33,  4.22it/s]"
     ]
    },
    {
     "name": "stdout",
     "output_type": "stream",
     "text": [
      "/neurospin/dico/data/deep_folding/current/datasets/UkBioBank/crops/2mm/CINGULATE/mask/Rlabels/sub-2460243_cropped_foldlabel.nii.gz\n",
      "/neurospin/dico/data/deep_folding/current/datasets/UkBioBank/crops/2mm/CINGULATE/mask/Rlabels/sub-2467084_cropped_foldlabel.nii.gz\n"
     ]
    },
    {
     "name": "stderr",
     "output_type": "stream",
     "text": [
      " 29%|██▉       | 160/551 [00:26<01:15,  5.19it/s]"
     ]
    },
    {
     "name": "stdout",
     "output_type": "stream",
     "text": [
      "/neurospin/dico/data/deep_folding/current/datasets/UkBioBank/crops/2mm/CINGULATE/mask/Rlabels/sub-2481728_cropped_foldlabel.nii.gz\n",
      "/neurospin/dico/data/deep_folding/current/datasets/UkBioBank/crops/2mm/CINGULATE/mask/Rlabels/sub-2492434_cropped_foldlabel.nii.gz\n"
     ]
    },
    {
     "name": "stderr",
     "output_type": "stream",
     "text": [
      " 29%|██▉       | 162/551 [00:26<01:04,  6.03it/s]"
     ]
    },
    {
     "name": "stdout",
     "output_type": "stream",
     "text": [
      "/neurospin/dico/data/deep_folding/current/datasets/UkBioBank/crops/2mm/CINGULATE/mask/Rlabels/sub-2499105_cropped_foldlabel.nii.gz\n",
      "/neurospin/dico/data/deep_folding/current/datasets/UkBioBank/crops/2mm/CINGULATE/mask/Rlabels/sub-2511287_cropped_foldlabel.nii.gz\n"
     ]
    },
    {
     "name": "stderr",
     "output_type": "stream",
     "text": [
      " 30%|██▉       | 163/551 [00:26<01:00,  6.47it/s]"
     ]
    },
    {
     "name": "stdout",
     "output_type": "stream",
     "text": [
      "/neurospin/dico/data/deep_folding/current/datasets/UkBioBank/crops/2mm/CINGULATE/mask/Rlabels/sub-2516583_cropped_foldlabel.nii.gz\n"
     ]
    },
    {
     "name": "stderr",
     "output_type": "stream",
     "text": [
      " 30%|██▉       | 165/551 [00:27<01:07,  5.75it/s]"
     ]
    },
    {
     "name": "stdout",
     "output_type": "stream",
     "text": [
      "/neurospin/dico/data/deep_folding/current/datasets/UkBioBank/crops/2mm/CINGULATE/mask/Rlabels/sub-2521602_cropped_foldlabel.nii.gz\n",
      "/neurospin/dico/data/deep_folding/current/datasets/UkBioBank/crops/2mm/CINGULATE/mask/Rlabels/sub-2534660_cropped_foldlabel.nii.gz\n"
     ]
    },
    {
     "name": "stderr",
     "output_type": "stream",
     "text": [
      " 30%|███       | 167/551 [00:27<00:57,  6.71it/s]"
     ]
    },
    {
     "name": "stdout",
     "output_type": "stream",
     "text": [
      "/neurospin/dico/data/deep_folding/current/datasets/UkBioBank/crops/2mm/CINGULATE/mask/Rlabels/sub-2538087_cropped_foldlabel.nii.gz\n",
      "/neurospin/dico/data/deep_folding/current/datasets/UkBioBank/crops/2mm/CINGULATE/mask/Rlabels/sub-2556376_cropped_foldlabel.nii.gz\n"
     ]
    },
    {
     "name": "stderr",
     "output_type": "stream",
     "text": [
      " 31%|███       | 170/551 [00:27<00:48,  7.93it/s]"
     ]
    },
    {
     "name": "stdout",
     "output_type": "stream",
     "text": [
      "/neurospin/dico/data/deep_folding/current/datasets/UkBioBank/crops/2mm/CINGULATE/mask/Rlabels/sub-2559192_cropped_foldlabel.nii.gz\n",
      "/neurospin/dico/data/deep_folding/current/datasets/UkBioBank/crops/2mm/CINGULATE/mask/Rlabels/sub-2577033_cropped_foldlabel.nii.gz\n",
      "/neurospin/dico/data/deep_folding/current/datasets/UkBioBank/crops/2mm/CINGULATE/mask/Rlabels/sub-2585431_cropped_foldlabel.nii.gz\n"
     ]
    },
    {
     "name": "stderr",
     "output_type": "stream",
     "text": [
      " 31%|███       | 172/551 [00:28<00:54,  7.01it/s]"
     ]
    },
    {
     "name": "stdout",
     "output_type": "stream",
     "text": [
      "/neurospin/dico/data/deep_folding/current/datasets/UkBioBank/crops/2mm/CINGULATE/mask/Rlabels/sub-2602678_cropped_foldlabel.nii.gz\n",
      "/neurospin/dico/data/deep_folding/current/datasets/UkBioBank/crops/2mm/CINGULATE/mask/Rlabels/sub-2611103_cropped_foldlabel.nii.gz\n"
     ]
    },
    {
     "name": "stderr",
     "output_type": "stream",
     "text": [
      " 32%|███▏      | 174/551 [00:28<00:51,  7.29it/s]"
     ]
    },
    {
     "name": "stdout",
     "output_type": "stream",
     "text": [
      "/neurospin/dico/data/deep_folding/current/datasets/UkBioBank/crops/2mm/CINGULATE/mask/Rlabels/sub-2621329_cropped_foldlabel.nii.gz\n",
      "/neurospin/dico/data/deep_folding/current/datasets/UkBioBank/crops/2mm/CINGULATE/mask/Rlabels/sub-2623365_cropped_foldlabel.nii.gz\n"
     ]
    },
    {
     "name": "stderr",
     "output_type": "stream",
     "text": [
      " 32%|███▏      | 175/551 [00:28<00:54,  6.88it/s]"
     ]
    },
    {
     "name": "stdout",
     "output_type": "stream",
     "text": [
      "/neurospin/dico/data/deep_folding/current/datasets/UkBioBank/crops/2mm/CINGULATE/mask/Rlabels/sub-2625764_cropped_foldlabel.nii.gz\n"
     ]
    },
    {
     "name": "stderr",
     "output_type": "stream",
     "text": [
      " 32%|███▏      | 177/551 [00:28<01:04,  5.78it/s]"
     ]
    },
    {
     "name": "stdout",
     "output_type": "stream",
     "text": [
      "/neurospin/dico/data/deep_folding/current/datasets/UkBioBank/crops/2mm/CINGULATE/mask/Rlabels/sub-2632310_cropped_foldlabel.nii.gz\n",
      "/neurospin/dico/data/deep_folding/current/datasets/UkBioBank/crops/2mm/CINGULATE/mask/Rlabels/sub-2632623_cropped_foldlabel.nii.gz\n"
     ]
    },
    {
     "name": "stderr",
     "output_type": "stream",
     "text": [
      " 32%|███▏      | 179/551 [00:29<01:05,  5.68it/s]"
     ]
    },
    {
     "name": "stdout",
     "output_type": "stream",
     "text": [
      "/neurospin/dico/data/deep_folding/current/datasets/UkBioBank/crops/2mm/CINGULATE/mask/Rlabels/sub-2633634_cropped_foldlabel.nii.gz\n",
      "/neurospin/dico/data/deep_folding/current/datasets/UkBioBank/crops/2mm/CINGULATE/mask/Rlabels/sub-2636476_cropped_foldlabel.nii.gz\n",
      "/neurospin/dico/data/deep_folding/current/datasets/UkBioBank/crops/2mm/CINGULATE/mask/Rlabels/sub-2649285_cropped_foldlabel.nii.gz\n"
     ]
    },
    {
     "name": "stderr",
     "output_type": "stream",
     "text": [
      " 33%|███▎      | 182/551 [00:29<00:53,  6.86it/s]"
     ]
    },
    {
     "name": "stdout",
     "output_type": "stream",
     "text": [
      "/neurospin/dico/data/deep_folding/current/datasets/UkBioBank/crops/2mm/CINGULATE/mask/Rlabels/sub-2670069_cropped_foldlabel.nii.gz\n",
      "/neurospin/dico/data/deep_folding/current/datasets/UkBioBank/crops/2mm/CINGULATE/mask/Rlabels/sub-2685729_cropped_foldlabel.nii.gz\n"
     ]
    },
    {
     "name": "stderr",
     "output_type": "stream",
     "text": [
      " 33%|███▎      | 184/551 [00:30<00:55,  6.59it/s]"
     ]
    },
    {
     "name": "stdout",
     "output_type": "stream",
     "text": [
      "/neurospin/dico/data/deep_folding/current/datasets/UkBioBank/crops/2mm/CINGULATE/mask/Rlabels/sub-2701375_cropped_foldlabel.nii.gz\n",
      "/neurospin/dico/data/deep_folding/current/datasets/UkBioBank/crops/2mm/CINGULATE/mask/Rlabels/sub-2705226_cropped_foldlabel.nii.gz\n"
     ]
    },
    {
     "name": "stderr",
     "output_type": "stream",
     "text": [
      " 34%|███▍      | 186/551 [00:30<00:48,  7.55it/s]"
     ]
    },
    {
     "name": "stdout",
     "output_type": "stream",
     "text": [
      "/neurospin/dico/data/deep_folding/current/datasets/UkBioBank/crops/2mm/CINGULATE/mask/Rlabels/sub-2705290_cropped_foldlabel.nii.gz\n",
      "/neurospin/dico/data/deep_folding/current/datasets/UkBioBank/crops/2mm/CINGULATE/mask/Rlabels/sub-2714776_cropped_foldlabel.nii.gz\n"
     ]
    },
    {
     "name": "stderr",
     "output_type": "stream",
     "text": [
      " 34%|███▍      | 188/551 [00:30<00:44,  8.15it/s]"
     ]
    },
    {
     "name": "stdout",
     "output_type": "stream",
     "text": [
      "/neurospin/dico/data/deep_folding/current/datasets/UkBioBank/crops/2mm/CINGULATE/mask/Rlabels/sub-2718550_cropped_foldlabel.nii.gz\n",
      "/neurospin/dico/data/deep_folding/current/datasets/UkBioBank/crops/2mm/CINGULATE/mask/Rlabels/sub-2723171_cropped_foldlabel.nii.gz\n"
     ]
    },
    {
     "name": "stderr",
     "output_type": "stream",
     "text": [
      " 34%|███▍      | 189/551 [00:30<00:46,  7.79it/s]"
     ]
    },
    {
     "name": "stdout",
     "output_type": "stream",
     "text": [
      "/neurospin/dico/data/deep_folding/current/datasets/UkBioBank/crops/2mm/CINGULATE/mask/Rlabels/sub-2755675_cropped_foldlabel.nii.gz\n"
     ]
    },
    {
     "name": "stderr",
     "output_type": "stream",
     "text": [
      " 35%|███▍      | 191/551 [00:31<00:56,  6.34it/s]"
     ]
    },
    {
     "name": "stdout",
     "output_type": "stream",
     "text": [
      "/neurospin/dico/data/deep_folding/current/datasets/UkBioBank/crops/2mm/CINGULATE/mask/Rlabels/sub-2767640_cropped_foldlabel.nii.gz\n",
      "/neurospin/dico/data/deep_folding/current/datasets/UkBioBank/crops/2mm/CINGULATE/mask/Rlabels/sub-2770246_cropped_foldlabel.nii.gz\n"
     ]
    },
    {
     "name": "stderr",
     "output_type": "stream",
     "text": [
      " 35%|███▌      | 193/551 [00:31<00:53,  6.75it/s]"
     ]
    },
    {
     "name": "stdout",
     "output_type": "stream",
     "text": [
      "/neurospin/dico/data/deep_folding/current/datasets/UkBioBank/crops/2mm/CINGULATE/mask/Rlabels/sub-2773611_cropped_foldlabel.nii.gz\n",
      "/neurospin/dico/data/deep_folding/current/datasets/UkBioBank/crops/2mm/CINGULATE/mask/Rlabels/sub-2777982_cropped_foldlabel.nii.gz\n"
     ]
    },
    {
     "name": "stderr",
     "output_type": "stream",
     "text": [
      " 35%|███▌      | 195/551 [00:31<00:59,  6.03it/s]"
     ]
    },
    {
     "name": "stdout",
     "output_type": "stream",
     "text": [
      "/neurospin/dico/data/deep_folding/current/datasets/UkBioBank/crops/2mm/CINGULATE/mask/Rlabels/sub-2787477_cropped_foldlabel.nii.gz\n",
      "/neurospin/dico/data/deep_folding/current/datasets/UkBioBank/crops/2mm/CINGULATE/mask/Rlabels/sub-2803011_cropped_foldlabel.nii.gz\n"
     ]
    },
    {
     "name": "stderr",
     "output_type": "stream",
     "text": [
      " 36%|███▌      | 197/551 [00:31<00:53,  6.57it/s]"
     ]
    },
    {
     "name": "stdout",
     "output_type": "stream",
     "text": [
      "/neurospin/dico/data/deep_folding/current/datasets/UkBioBank/crops/2mm/CINGULATE/mask/Rlabels/sub-2807485_cropped_foldlabel.nii.gz\n",
      "/neurospin/dico/data/deep_folding/current/datasets/UkBioBank/crops/2mm/CINGULATE/mask/Rlabels/sub-2809323_cropped_foldlabel.nii.gz\n"
     ]
    },
    {
     "name": "stderr",
     "output_type": "stream",
     "text": [
      " 36%|███▌      | 199/551 [00:32<00:55,  6.35it/s]"
     ]
    },
    {
     "name": "stdout",
     "output_type": "stream",
     "text": [
      "/neurospin/dico/data/deep_folding/current/datasets/UkBioBank/crops/2mm/CINGULATE/mask/Rlabels/sub-2819471_cropped_foldlabel.nii.gz\n",
      "/neurospin/dico/data/deep_folding/current/datasets/UkBioBank/crops/2mm/CINGULATE/mask/Rlabels/sub-2839696_cropped_foldlabel.nii.gz\n"
     ]
    },
    {
     "name": "stderr",
     "output_type": "stream",
     "text": [
      " 36%|███▋      | 201/551 [00:32<00:54,  6.37it/s]"
     ]
    },
    {
     "name": "stdout",
     "output_type": "stream",
     "text": [
      "/neurospin/dico/data/deep_folding/current/datasets/UkBioBank/crops/2mm/CINGULATE/mask/Rlabels/sub-2846866_cropped_foldlabel.nii.gz\n",
      "/neurospin/dico/data/deep_folding/current/datasets/UkBioBank/crops/2mm/CINGULATE/mask/Rlabels/sub-2861984_cropped_foldlabel.nii.gz\n"
     ]
    },
    {
     "name": "stderr",
     "output_type": "stream",
     "text": [
      " 37%|███▋      | 202/551 [00:32<00:52,  6.65it/s]"
     ]
    },
    {
     "name": "stdout",
     "output_type": "stream",
     "text": [
      "/neurospin/dico/data/deep_folding/current/datasets/UkBioBank/crops/2mm/CINGULATE/mask/Rlabels/sub-2865167_cropped_foldlabel.nii.gz\n",
      "/neurospin/dico/data/deep_folding/current/datasets/UkBioBank/crops/2mm/CINGULATE/mask/Rlabels/sub-2874075_cropped_foldlabel.nii.gz\n"
     ]
    },
    {
     "name": "stderr",
     "output_type": "stream",
     "text": [
      " 37%|███▋      | 205/551 [00:33<00:47,  7.35it/s]"
     ]
    },
    {
     "name": "stdout",
     "output_type": "stream",
     "text": [
      "/neurospin/dico/data/deep_folding/current/datasets/UkBioBank/crops/2mm/CINGULATE/mask/Rlabels/sub-2877958_cropped_foldlabel.nii.gz\n",
      "/neurospin/dico/data/deep_folding/current/datasets/UkBioBank/crops/2mm/CINGULATE/mask/Rlabels/sub-2883993_cropped_foldlabel.nii.gz\n"
     ]
    },
    {
     "name": "stderr",
     "output_type": "stream",
     "text": [
      " 38%|███▊      | 207/551 [00:33<00:51,  6.63it/s]"
     ]
    },
    {
     "name": "stdout",
     "output_type": "stream",
     "text": [
      "/neurospin/dico/data/deep_folding/current/datasets/UkBioBank/crops/2mm/CINGULATE/mask/Rlabels/sub-2898165_cropped_foldlabel.nii.gz\n",
      "/neurospin/dico/data/deep_folding/current/datasets/UkBioBank/crops/2mm/CINGULATE/mask/Rlabels/sub-2919907_cropped_foldlabel.nii.gz\n"
     ]
    },
    {
     "name": "stderr",
     "output_type": "stream",
     "text": [
      " 38%|███▊      | 209/551 [00:33<00:55,  6.21it/s]"
     ]
    },
    {
     "name": "stdout",
     "output_type": "stream",
     "text": [
      "/neurospin/dico/data/deep_folding/current/datasets/UkBioBank/crops/2mm/CINGULATE/mask/Rlabels/sub-2924975_cropped_foldlabel.nii.gz\n",
      "/neurospin/dico/data/deep_folding/current/datasets/UkBioBank/crops/2mm/CINGULATE/mask/Rlabels/sub-2955962_cropped_foldlabel.nii.gz\n"
     ]
    },
    {
     "name": "stderr",
     "output_type": "stream",
     "text": [
      " 38%|███▊      | 211/551 [00:34<00:50,  6.69it/s]"
     ]
    },
    {
     "name": "stdout",
     "output_type": "stream",
     "text": [
      "/neurospin/dico/data/deep_folding/current/datasets/UkBioBank/crops/2mm/CINGULATE/mask/Rlabels/sub-2959581_cropped_foldlabel.nii.gz\n",
      "/neurospin/dico/data/deep_folding/current/datasets/UkBioBank/crops/2mm/CINGULATE/mask/Rlabels/sub-2964392_cropped_foldlabel.nii.gz\n"
     ]
    },
    {
     "name": "stderr",
     "output_type": "stream",
     "text": [
      " 39%|███▊      | 213/551 [00:34<00:47,  7.16it/s]"
     ]
    },
    {
     "name": "stdout",
     "output_type": "stream",
     "text": [
      "/neurospin/dico/data/deep_folding/current/datasets/UkBioBank/crops/2mm/CINGULATE/mask/Rlabels/sub-2967264_cropped_foldlabel.nii.gz\n",
      "/neurospin/dico/data/deep_folding/current/datasets/UkBioBank/crops/2mm/CINGULATE/mask/Rlabels/sub-2992126_cropped_foldlabel.nii.gz\n"
     ]
    },
    {
     "name": "stderr",
     "output_type": "stream",
     "text": [
      " 39%|███▉      | 215/551 [00:34<00:49,  6.85it/s]"
     ]
    },
    {
     "name": "stdout",
     "output_type": "stream",
     "text": [
      "/neurospin/dico/data/deep_folding/current/datasets/UkBioBank/crops/2mm/CINGULATE/mask/Rlabels/sub-2994513_cropped_foldlabel.nii.gz\n",
      "/neurospin/dico/data/deep_folding/current/datasets/UkBioBank/crops/2mm/CINGULATE/mask/Rlabels/sub-2998650_cropped_foldlabel.nii.gz\n"
     ]
    },
    {
     "name": "stderr",
     "output_type": "stream",
     "text": [
      " 39%|███▉      | 217/551 [00:34<00:50,  6.63it/s]"
     ]
    },
    {
     "name": "stdout",
     "output_type": "stream",
     "text": [
      "/neurospin/dico/data/deep_folding/current/datasets/UkBioBank/crops/2mm/CINGULATE/mask/Rlabels/sub-3003806_cropped_foldlabel.nii.gz\n",
      "/neurospin/dico/data/deep_folding/current/datasets/UkBioBank/crops/2mm/CINGULATE/mask/Rlabels/sub-3012613_cropped_foldlabel.nii.gz\n"
     ]
    },
    {
     "name": "stderr",
     "output_type": "stream",
     "text": [
      " 40%|███▉      | 219/551 [00:35<00:45,  7.37it/s]"
     ]
    },
    {
     "name": "stdout",
     "output_type": "stream",
     "text": [
      "/neurospin/dico/data/deep_folding/current/datasets/UkBioBank/crops/2mm/CINGULATE/mask/Rlabels/sub-3021290_cropped_foldlabel.nii.gz\n",
      "/neurospin/dico/data/deep_folding/current/datasets/UkBioBank/crops/2mm/CINGULATE/mask/Rlabels/sub-3024354_cropped_foldlabel.nii.gz\n"
     ]
    },
    {
     "name": "stderr",
     "output_type": "stream",
     "text": [
      " 40%|████      | 221/551 [00:35<00:47,  6.91it/s]"
     ]
    },
    {
     "name": "stdout",
     "output_type": "stream",
     "text": [
      "/neurospin/dico/data/deep_folding/current/datasets/UkBioBank/crops/2mm/CINGULATE/mask/Rlabels/sub-3026279_cropped_foldlabel.nii.gz\n",
      "/neurospin/dico/data/deep_folding/current/datasets/UkBioBank/crops/2mm/CINGULATE/mask/Rlabels/sub-3044755_cropped_foldlabel.nii.gz\n"
     ]
    },
    {
     "name": "stderr",
     "output_type": "stream",
     "text": [
      " 40%|████      | 222/551 [00:35<00:44,  7.47it/s]"
     ]
    },
    {
     "name": "stdout",
     "output_type": "stream",
     "text": [
      "/neurospin/dico/data/deep_folding/current/datasets/UkBioBank/crops/2mm/CINGULATE/mask/Rlabels/sub-3072197_cropped_foldlabel.nii.gz\n"
     ]
    },
    {
     "name": "stderr",
     "output_type": "stream",
     "text": [
      " 40%|████      | 223/551 [00:35<00:52,  6.30it/s]"
     ]
    },
    {
     "name": "stdout",
     "output_type": "stream",
     "text": [
      "/neurospin/dico/data/deep_folding/current/datasets/UkBioBank/crops/2mm/CINGULATE/mask/Rlabels/sub-3073986_cropped_foldlabel.nii.gz\n"
     ]
    },
    {
     "name": "stderr",
     "output_type": "stream",
     "text": [
      " 41%|████      | 225/551 [00:36<00:52,  6.21it/s]"
     ]
    },
    {
     "name": "stdout",
     "output_type": "stream",
     "text": [
      "/neurospin/dico/data/deep_folding/current/datasets/UkBioBank/crops/2mm/CINGULATE/mask/Rlabels/sub-3093232_cropped_foldlabel.nii.gz\n",
      "/neurospin/dico/data/deep_folding/current/datasets/UkBioBank/crops/2mm/CINGULATE/mask/Rlabels/sub-3094705_cropped_foldlabel.nii.gz\n"
     ]
    },
    {
     "name": "stderr",
     "output_type": "stream",
     "text": [
      " 41%|████      | 227/551 [00:36<00:50,  6.37it/s]"
     ]
    },
    {
     "name": "stdout",
     "output_type": "stream",
     "text": [
      "/neurospin/dico/data/deep_folding/current/datasets/UkBioBank/crops/2mm/CINGULATE/mask/Rlabels/sub-3097518_cropped_foldlabel.nii.gz\n",
      "/neurospin/dico/data/deep_folding/current/datasets/UkBioBank/crops/2mm/CINGULATE/mask/Rlabels/sub-3103854_cropped_foldlabel.nii.gz\n"
     ]
    },
    {
     "name": "stderr",
     "output_type": "stream",
     "text": [
      " 42%|████▏     | 229/551 [00:36<00:46,  6.87it/s]"
     ]
    },
    {
     "name": "stdout",
     "output_type": "stream",
     "text": [
      "/neurospin/dico/data/deep_folding/current/datasets/UkBioBank/crops/2mm/CINGULATE/mask/Rlabels/sub-3105839_cropped_foldlabel.nii.gz\n",
      "/neurospin/dico/data/deep_folding/current/datasets/UkBioBank/crops/2mm/CINGULATE/mask/Rlabels/sub-3117302_cropped_foldlabel.nii.gz\n"
     ]
    },
    {
     "name": "stderr",
     "output_type": "stream",
     "text": [
      " 42%|████▏     | 230/551 [00:36<00:49,  6.54it/s]"
     ]
    },
    {
     "name": "stdout",
     "output_type": "stream",
     "text": [
      "/neurospin/dico/data/deep_folding/current/datasets/UkBioBank/crops/2mm/CINGULATE/mask/Rlabels/sub-3128224_cropped_foldlabel.nii.gz\n"
     ]
    },
    {
     "name": "stderr",
     "output_type": "stream",
     "text": [
      " 42%|████▏     | 232/551 [00:37<00:52,  6.11it/s]"
     ]
    },
    {
     "name": "stdout",
     "output_type": "stream",
     "text": [
      "/neurospin/dico/data/deep_folding/current/datasets/UkBioBank/crops/2mm/CINGULATE/mask/Rlabels/sub-3129006_cropped_foldlabel.nii.gz\n",
      "/neurospin/dico/data/deep_folding/current/datasets/UkBioBank/crops/2mm/CINGULATE/mask/Rlabels/sub-3133956_cropped_foldlabel.nii.gz\n"
     ]
    },
    {
     "name": "stderr",
     "output_type": "stream",
     "text": [
      " 42%|████▏     | 234/551 [00:37<00:49,  6.36it/s]"
     ]
    },
    {
     "name": "stdout",
     "output_type": "stream",
     "text": [
      "/neurospin/dico/data/deep_folding/current/datasets/UkBioBank/crops/2mm/CINGULATE/mask/Rlabels/sub-3146788_cropped_foldlabel.nii.gz\n",
      "/neurospin/dico/data/deep_folding/current/datasets/UkBioBank/crops/2mm/CINGULATE/mask/Rlabels/sub-3170677_cropped_foldlabel.nii.gz\n"
     ]
    },
    {
     "name": "stderr",
     "output_type": "stream",
     "text": [
      " 43%|████▎     | 236/551 [00:37<00:46,  6.72it/s]"
     ]
    },
    {
     "name": "stdout",
     "output_type": "stream",
     "text": [
      "/neurospin/dico/data/deep_folding/current/datasets/UkBioBank/crops/2mm/CINGULATE/mask/Rlabels/sub-3175323_cropped_foldlabel.nii.gz\n",
      "/neurospin/dico/data/deep_folding/current/datasets/UkBioBank/crops/2mm/CINGULATE/mask/Rlabels/sub-3197380_cropped_foldlabel.nii.gz\n"
     ]
    },
    {
     "name": "stderr",
     "output_type": "stream",
     "text": [
      " 43%|████▎     | 238/551 [00:38<00:47,  6.60it/s]"
     ]
    },
    {
     "name": "stdout",
     "output_type": "stream",
     "text": [
      "/neurospin/dico/data/deep_folding/current/datasets/UkBioBank/crops/2mm/CINGULATE/mask/Rlabels/sub-3203697_cropped_foldlabel.nii.gz\n",
      "/neurospin/dico/data/deep_folding/current/datasets/UkBioBank/crops/2mm/CINGULATE/mask/Rlabels/sub-3211880_cropped_foldlabel.nii.gz\n"
     ]
    },
    {
     "name": "stderr",
     "output_type": "stream",
     "text": [
      " 44%|████▎     | 240/551 [00:38<01:00,  5.17it/s]"
     ]
    },
    {
     "name": "stdout",
     "output_type": "stream",
     "text": [
      "/neurospin/dico/data/deep_folding/current/datasets/UkBioBank/crops/2mm/CINGULATE/mask/Rlabels/sub-3219159_cropped_foldlabel.nii.gz\n",
      "/neurospin/dico/data/deep_folding/current/datasets/UkBioBank/crops/2mm/CINGULATE/mask/Rlabels/sub-3219927_cropped_foldlabel.nii.gz\n"
     ]
    },
    {
     "name": "stderr",
     "output_type": "stream",
     "text": [
      " 44%|████▍     | 242/551 [00:39<00:55,  5.61it/s]"
     ]
    },
    {
     "name": "stdout",
     "output_type": "stream",
     "text": [
      "/neurospin/dico/data/deep_folding/current/datasets/UkBioBank/crops/2mm/CINGULATE/mask/Rlabels/sub-3225477_cropped_foldlabel.nii.gz\n",
      "/neurospin/dico/data/deep_folding/current/datasets/UkBioBank/crops/2mm/CINGULATE/mask/Rlabels/sub-3230361_cropped_foldlabel.nii.gz\n"
     ]
    },
    {
     "name": "stderr",
     "output_type": "stream",
     "text": [
      " 44%|████▍     | 244/551 [00:39<00:44,  6.91it/s]"
     ]
    },
    {
     "name": "stdout",
     "output_type": "stream",
     "text": [
      "/neurospin/dico/data/deep_folding/current/datasets/UkBioBank/crops/2mm/CINGULATE/mask/Rlabels/sub-3231868_cropped_foldlabel.nii.gz\n",
      "/neurospin/dico/data/deep_folding/current/datasets/UkBioBank/crops/2mm/CINGULATE/mask/Rlabels/sub-3246567_cropped_foldlabel.nii.gz\n"
     ]
    },
    {
     "name": "stderr",
     "output_type": "stream",
     "text": [
      " 44%|████▍     | 245/551 [00:39<00:42,  7.25it/s]"
     ]
    },
    {
     "name": "stdout",
     "output_type": "stream",
     "text": [
      "/neurospin/dico/data/deep_folding/current/datasets/UkBioBank/crops/2mm/CINGULATE/mask/Rlabels/sub-3251710_cropped_foldlabel.nii.gz\n"
     ]
    },
    {
     "name": "stderr",
     "output_type": "stream",
     "text": [
      " 45%|████▍     | 247/551 [00:39<00:47,  6.37it/s]"
     ]
    },
    {
     "name": "stdout",
     "output_type": "stream",
     "text": [
      "/neurospin/dico/data/deep_folding/current/datasets/UkBioBank/crops/2mm/CINGULATE/mask/Rlabels/sub-3278687_cropped_foldlabel.nii.gz\n",
      "/neurospin/dico/data/deep_folding/current/datasets/UkBioBank/crops/2mm/CINGULATE/mask/Rlabels/sub-3287262_cropped_foldlabel.nii.gz\n"
     ]
    },
    {
     "name": "stderr",
     "output_type": "stream",
     "text": [
      " 45%|████▌     | 248/551 [00:39<00:51,  5.83it/s]"
     ]
    },
    {
     "name": "stdout",
     "output_type": "stream",
     "text": [
      "/neurospin/dico/data/deep_folding/current/datasets/UkBioBank/crops/2mm/CINGULATE/mask/Rlabels/sub-3290259_cropped_foldlabel.nii.gz\n"
     ]
    },
    {
     "name": "stderr",
     "output_type": "stream",
     "text": [
      " 45%|████▌     | 249/551 [00:40<00:58,  5.18it/s]"
     ]
    },
    {
     "name": "stdout",
     "output_type": "stream",
     "text": [
      "/neurospin/dico/data/deep_folding/current/datasets/UkBioBank/crops/2mm/CINGULATE/mask/Rlabels/sub-3303598_cropped_foldlabel.nii.gz\n",
      "/neurospin/dico/data/deep_folding/current/datasets/UkBioBank/crops/2mm/CINGULATE/mask/Rlabels/sub-3304271_cropped_foldlabel.nii.gz\n"
     ]
    },
    {
     "name": "stderr",
     "output_type": "stream",
     "text": [
      " 46%|████▌     | 252/551 [00:40<00:49,  5.99it/s]"
     ]
    },
    {
     "name": "stdout",
     "output_type": "stream",
     "text": [
      "/neurospin/dico/data/deep_folding/current/datasets/UkBioBank/crops/2mm/CINGULATE/mask/Rlabels/sub-3313116_cropped_foldlabel.nii.gz\n",
      "/neurospin/dico/data/deep_folding/current/datasets/UkBioBank/crops/2mm/CINGULATE/mask/Rlabels/sub-3313845_cropped_foldlabel.nii.gz\n"
     ]
    },
    {
     "name": "stderr",
     "output_type": "stream",
     "text": [
      " 46%|████▌     | 254/551 [00:40<00:52,  5.64it/s]"
     ]
    },
    {
     "name": "stdout",
     "output_type": "stream",
     "text": [
      "/neurospin/dico/data/deep_folding/current/datasets/UkBioBank/crops/2mm/CINGULATE/mask/Rlabels/sub-3320590_cropped_foldlabel.nii.gz\n",
      "/neurospin/dico/data/deep_folding/current/datasets/UkBioBank/crops/2mm/CINGULATE/mask/Rlabels/sub-3325297_cropped_foldlabel.nii.gz\n"
     ]
    },
    {
     "name": "stderr",
     "output_type": "stream",
     "text": [
      " 46%|████▋     | 256/551 [00:41<00:44,  6.65it/s]"
     ]
    },
    {
     "name": "stdout",
     "output_type": "stream",
     "text": [
      "/neurospin/dico/data/deep_folding/current/datasets/UkBioBank/crops/2mm/CINGULATE/mask/Rlabels/sub-3345924_cropped_foldlabel.nii.gz\n",
      "/neurospin/dico/data/deep_folding/current/datasets/UkBioBank/crops/2mm/CINGULATE/mask/Rlabels/sub-3359813_cropped_foldlabel.nii.gz\n"
     ]
    },
    {
     "name": "stderr",
     "output_type": "stream",
     "text": [
      " 47%|████▋     | 258/551 [00:41<00:43,  6.78it/s]"
     ]
    },
    {
     "name": "stdout",
     "output_type": "stream",
     "text": [
      "/neurospin/dico/data/deep_folding/current/datasets/UkBioBank/crops/2mm/CINGULATE/mask/Rlabels/sub-3369114_cropped_foldlabel.nii.gz\n",
      "/neurospin/dico/data/deep_folding/current/datasets/UkBioBank/crops/2mm/CINGULATE/mask/Rlabels/sub-3387419_cropped_foldlabel.nii.gz\n"
     ]
    },
    {
     "name": "stderr",
     "output_type": "stream",
     "text": [
      " 47%|████▋     | 260/551 [00:41<00:44,  6.47it/s]"
     ]
    },
    {
     "name": "stdout",
     "output_type": "stream",
     "text": [
      "/neurospin/dico/data/deep_folding/current/datasets/UkBioBank/crops/2mm/CINGULATE/mask/Rlabels/sub-3392076_cropped_foldlabel.nii.gz\n",
      "/neurospin/dico/data/deep_folding/current/datasets/UkBioBank/crops/2mm/CINGULATE/mask/Rlabels/sub-3396940_cropped_foldlabel.nii.gz\n"
     ]
    },
    {
     "name": "stderr",
     "output_type": "stream",
     "text": [
      " 48%|████▊     | 262/551 [00:42<00:41,  7.01it/s]"
     ]
    },
    {
     "name": "stdout",
     "output_type": "stream",
     "text": [
      "/neurospin/dico/data/deep_folding/current/datasets/UkBioBank/crops/2mm/CINGULATE/mask/Rlabels/sub-3400369_cropped_foldlabel.nii.gz\n",
      "/neurospin/dico/data/deep_folding/current/datasets/UkBioBank/crops/2mm/CINGULATE/mask/Rlabels/sub-3418275_cropped_foldlabel.nii.gz\n"
     ]
    },
    {
     "name": "stderr",
     "output_type": "stream",
     "text": [
      " 48%|████▊     | 263/551 [00:42<00:44,  6.44it/s]"
     ]
    },
    {
     "name": "stdout",
     "output_type": "stream",
     "text": [
      "/neurospin/dico/data/deep_folding/current/datasets/UkBioBank/crops/2mm/CINGULATE/mask/Rlabels/sub-3425284_cropped_foldlabel.nii.gz\n",
      "/neurospin/dico/data/deep_folding/current/datasets/UkBioBank/crops/2mm/CINGULATE/mask/Rlabels/sub-3447062_cropped_foldlabel.nii.gz\n"
     ]
    },
    {
     "name": "stderr",
     "output_type": "stream",
     "text": [
      " 48%|████▊     | 266/551 [00:42<00:40,  7.06it/s]"
     ]
    },
    {
     "name": "stdout",
     "output_type": "stream",
     "text": [
      "/neurospin/dico/data/deep_folding/current/datasets/UkBioBank/crops/2mm/CINGULATE/mask/Rlabels/sub-3448516_cropped_foldlabel.nii.gz\n",
      "/neurospin/dico/data/deep_folding/current/datasets/UkBioBank/crops/2mm/CINGULATE/mask/Rlabels/sub-3450085_cropped_foldlabel.nii.gz\n"
     ]
    },
    {
     "name": "stderr",
     "output_type": "stream",
     "text": [
      " 49%|████▊     | 268/551 [00:42<00:38,  7.26it/s]"
     ]
    },
    {
     "name": "stdout",
     "output_type": "stream",
     "text": [
      "/neurospin/dico/data/deep_folding/current/datasets/UkBioBank/crops/2mm/CINGULATE/mask/Rlabels/sub-3450590_cropped_foldlabel.nii.gz\n",
      "/neurospin/dico/data/deep_folding/current/datasets/UkBioBank/crops/2mm/CINGULATE/mask/Rlabels/sub-3459925_cropped_foldlabel.nii.gz\n"
     ]
    },
    {
     "name": "stderr",
     "output_type": "stream",
     "text": [
      " 49%|████▉     | 270/551 [00:43<00:38,  7.28it/s]"
     ]
    },
    {
     "name": "stdout",
     "output_type": "stream",
     "text": [
      "/neurospin/dico/data/deep_folding/current/datasets/UkBioBank/crops/2mm/CINGULATE/mask/Rlabels/sub-3462799_cropped_foldlabel.nii.gz\n",
      "/neurospin/dico/data/deep_folding/current/datasets/UkBioBank/crops/2mm/CINGULATE/mask/Rlabels/sub-3463936_cropped_foldlabel.nii.gz\n"
     ]
    },
    {
     "name": "stderr",
     "output_type": "stream",
     "text": [
      " 49%|████▉     | 272/551 [00:43<00:39,  7.10it/s]"
     ]
    },
    {
     "name": "stdout",
     "output_type": "stream",
     "text": [
      "/neurospin/dico/data/deep_folding/current/datasets/UkBioBank/crops/2mm/CINGULATE/mask/Rlabels/sub-3470724_cropped_foldlabel.nii.gz\n",
      "/neurospin/dico/data/deep_folding/current/datasets/UkBioBank/crops/2mm/CINGULATE/mask/Rlabels/sub-3490549_cropped_foldlabel.nii.gz\n"
     ]
    },
    {
     "name": "stderr",
     "output_type": "stream",
     "text": [
      " 50%|████▉     | 274/551 [00:43<00:42,  6.54it/s]"
     ]
    },
    {
     "name": "stdout",
     "output_type": "stream",
     "text": [
      "/neurospin/dico/data/deep_folding/current/datasets/UkBioBank/crops/2mm/CINGULATE/mask/Rlabels/sub-3492301_cropped_foldlabel.nii.gz\n",
      "/neurospin/dico/data/deep_folding/current/datasets/UkBioBank/crops/2mm/CINGULATE/mask/Rlabels/sub-3521296_cropped_foldlabel.nii.gz\n"
     ]
    },
    {
     "name": "stderr",
     "output_type": "stream",
     "text": [
      " 50%|█████     | 276/551 [00:44<00:40,  6.77it/s]"
     ]
    },
    {
     "name": "stdout",
     "output_type": "stream",
     "text": [
      "/neurospin/dico/data/deep_folding/current/datasets/UkBioBank/crops/2mm/CINGULATE/mask/Rlabels/sub-3530212_cropped_foldlabel.nii.gz\n",
      "/neurospin/dico/data/deep_folding/current/datasets/UkBioBank/crops/2mm/CINGULATE/mask/Rlabels/sub-3531685_cropped_foldlabel.nii.gz\n"
     ]
    },
    {
     "name": "stderr",
     "output_type": "stream",
     "text": [
      " 50%|█████     | 277/551 [00:44<00:39,  6.98it/s]"
     ]
    },
    {
     "name": "stdout",
     "output_type": "stream",
     "text": [
      "/neurospin/dico/data/deep_folding/current/datasets/UkBioBank/crops/2mm/CINGULATE/mask/Rlabels/sub-3567269_cropped_foldlabel.nii.gz\n"
     ]
    },
    {
     "name": "stderr",
     "output_type": "stream",
     "text": [
      " 51%|█████     | 279/551 [00:44<00:44,  6.07it/s]"
     ]
    },
    {
     "name": "stdout",
     "output_type": "stream",
     "text": [
      "/neurospin/dico/data/deep_folding/current/datasets/UkBioBank/crops/2mm/CINGULATE/mask/Rlabels/sub-3567315_cropped_foldlabel.nii.gz\n",
      "/neurospin/dico/data/deep_folding/current/datasets/UkBioBank/crops/2mm/CINGULATE/mask/Rlabels/sub-3568910_cropped_foldlabel.nii.gz\n"
     ]
    },
    {
     "name": "stderr",
     "output_type": "stream",
     "text": [
      " 51%|█████     | 281/551 [00:44<00:42,  6.39it/s]"
     ]
    },
    {
     "name": "stdout",
     "output_type": "stream",
     "text": [
      "/neurospin/dico/data/deep_folding/current/datasets/UkBioBank/crops/2mm/CINGULATE/mask/Rlabels/sub-3577510_cropped_foldlabel.nii.gz\n",
      "/neurospin/dico/data/deep_folding/current/datasets/UkBioBank/crops/2mm/CINGULATE/mask/Rlabels/sub-3580963_cropped_foldlabel.nii.gz\n"
     ]
    },
    {
     "name": "stderr",
     "output_type": "stream",
     "text": [
      " 52%|█████▏    | 284/551 [00:45<00:37,  7.09it/s]"
     ]
    },
    {
     "name": "stdout",
     "output_type": "stream",
     "text": [
      "/neurospin/dico/data/deep_folding/current/datasets/UkBioBank/crops/2mm/CINGULATE/mask/Rlabels/sub-3589864_cropped_foldlabel.nii.gz\n",
      "/neurospin/dico/data/deep_folding/current/datasets/UkBioBank/crops/2mm/CINGULATE/mask/Rlabels/sub-3594854_cropped_foldlabel.nii.gz\n",
      "/neurospin/dico/data/deep_folding/current/datasets/UkBioBank/crops/2mm/CINGULATE/mask/Rlabels/sub-3599983_cropped_foldlabel.nii.gz\n"
     ]
    },
    {
     "name": "stderr",
     "output_type": "stream",
     "text": [
      " 52%|█████▏    | 286/551 [00:45<00:37,  7.16it/s]"
     ]
    },
    {
     "name": "stdout",
     "output_type": "stream",
     "text": [
      "/neurospin/dico/data/deep_folding/current/datasets/UkBioBank/crops/2mm/CINGULATE/mask/Rlabels/sub-3607214_cropped_foldlabel.nii.gz\n",
      "/neurospin/dico/data/deep_folding/current/datasets/UkBioBank/crops/2mm/CINGULATE/mask/Rlabels/sub-3616099_cropped_foldlabel.nii.gz\n"
     ]
    },
    {
     "name": "stderr",
     "output_type": "stream",
     "text": [
      " 52%|█████▏    | 288/551 [00:45<00:36,  7.18it/s]"
     ]
    },
    {
     "name": "stdout",
     "output_type": "stream",
     "text": [
      "/neurospin/dico/data/deep_folding/current/datasets/UkBioBank/crops/2mm/CINGULATE/mask/Rlabels/sub-3619478_cropped_foldlabel.nii.gz\n",
      "/neurospin/dico/data/deep_folding/current/datasets/UkBioBank/crops/2mm/CINGULATE/mask/Rlabels/sub-3630660_cropped_foldlabel.nii.gz\n"
     ]
    },
    {
     "name": "stderr",
     "output_type": "stream",
     "text": [
      " 53%|█████▎    | 290/551 [00:46<00:39,  6.65it/s]"
     ]
    },
    {
     "name": "stdout",
     "output_type": "stream",
     "text": [
      "/neurospin/dico/data/deep_folding/current/datasets/UkBioBank/crops/2mm/CINGULATE/mask/Rlabels/sub-3658091_cropped_foldlabel.nii.gz\n",
      "/neurospin/dico/data/deep_folding/current/datasets/UkBioBank/crops/2mm/CINGULATE/mask/Rlabels/sub-3678218_cropped_foldlabel.nii.gz\n"
     ]
    },
    {
     "name": "stderr",
     "output_type": "stream",
     "text": [
      " 53%|█████▎    | 292/551 [00:46<00:40,  6.32it/s]"
     ]
    },
    {
     "name": "stdout",
     "output_type": "stream",
     "text": [
      "/neurospin/dico/data/deep_folding/current/datasets/UkBioBank/crops/2mm/CINGULATE/mask/Rlabels/sub-3681678_cropped_foldlabel.nii.gz\n",
      "/neurospin/dico/data/deep_folding/current/datasets/UkBioBank/crops/2mm/CINGULATE/mask/Rlabels/sub-3689157_cropped_foldlabel.nii.gz\n"
     ]
    },
    {
     "name": "stderr",
     "output_type": "stream",
     "text": [
      " 53%|█████▎    | 293/551 [00:46<00:41,  6.14it/s]"
     ]
    },
    {
     "name": "stdout",
     "output_type": "stream",
     "text": [
      "/neurospin/dico/data/deep_folding/current/datasets/UkBioBank/crops/2mm/CINGULATE/mask/Rlabels/sub-3718787_cropped_foldlabel.nii.gz\n"
     ]
    },
    {
     "name": "stderr",
     "output_type": "stream",
     "text": [
      " 53%|█████▎    | 294/551 [00:46<00:45,  5.66it/s]"
     ]
    },
    {
     "name": "stdout",
     "output_type": "stream",
     "text": [
      "/neurospin/dico/data/deep_folding/current/datasets/UkBioBank/crops/2mm/CINGULATE/mask/Rlabels/sub-3722413_cropped_foldlabel.nii.gz\n"
     ]
    },
    {
     "name": "stderr",
     "output_type": "stream",
     "text": [
      " 54%|█████▎    | 296/551 [00:47<00:46,  5.53it/s]"
     ]
    },
    {
     "name": "stdout",
     "output_type": "stream",
     "text": [
      "/neurospin/dico/data/deep_folding/current/datasets/UkBioBank/crops/2mm/CINGULATE/mask/Rlabels/sub-3729799_cropped_foldlabel.nii.gz\n",
      "/neurospin/dico/data/deep_folding/current/datasets/UkBioBank/crops/2mm/CINGULATE/mask/Rlabels/sub-3737120_cropped_foldlabel.nii.gz\n"
     ]
    },
    {
     "name": "stderr",
     "output_type": "stream",
     "text": [
      " 54%|█████▍    | 298/551 [00:47<00:40,  6.19it/s]"
     ]
    },
    {
     "name": "stdout",
     "output_type": "stream",
     "text": [
      "/neurospin/dico/data/deep_folding/current/datasets/UkBioBank/crops/2mm/CINGULATE/mask/Rlabels/sub-3764308_cropped_foldlabel.nii.gz\n",
      "/neurospin/dico/data/deep_folding/current/datasets/UkBioBank/crops/2mm/CINGULATE/mask/Rlabels/sub-3766293_cropped_foldlabel.nii.gz\n"
     ]
    },
    {
     "name": "stderr",
     "output_type": "stream",
     "text": [
      " 54%|█████▍    | 300/551 [00:47<00:37,  6.65it/s]"
     ]
    },
    {
     "name": "stdout",
     "output_type": "stream",
     "text": [
      "/neurospin/dico/data/deep_folding/current/datasets/UkBioBank/crops/2mm/CINGULATE/mask/Rlabels/sub-3772647_cropped_foldlabel.nii.gz\n",
      "/neurospin/dico/data/deep_folding/current/datasets/UkBioBank/crops/2mm/CINGULATE/mask/Rlabels/sub-3774873_cropped_foldlabel.nii.gz\n"
     ]
    },
    {
     "name": "stderr",
     "output_type": "stream",
     "text": [
      " 55%|█████▍    | 302/551 [00:48<00:37,  6.72it/s]"
     ]
    },
    {
     "name": "stdout",
     "output_type": "stream",
     "text": [
      "/neurospin/dico/data/deep_folding/current/datasets/UkBioBank/crops/2mm/CINGULATE/mask/Rlabels/sub-3785250_cropped_foldlabel.nii.gz\n",
      "/neurospin/dico/data/deep_folding/current/datasets/UkBioBank/crops/2mm/CINGULATE/mask/Rlabels/sub-3791308_cropped_foldlabel.nii.gz\n"
     ]
    },
    {
     "name": "stderr",
     "output_type": "stream",
     "text": [
      " 55%|█████▌    | 304/551 [00:48<00:46,  5.27it/s]"
     ]
    },
    {
     "name": "stdout",
     "output_type": "stream",
     "text": [
      "/neurospin/dico/data/deep_folding/current/datasets/UkBioBank/crops/2mm/CINGULATE/mask/Rlabels/sub-3791953_cropped_foldlabel.nii.gz\n",
      "/neurospin/dico/data/deep_folding/current/datasets/UkBioBank/crops/2mm/CINGULATE/mask/Rlabels/sub-3804925_cropped_foldlabel.nii.gz\n"
     ]
    },
    {
     "name": "stderr",
     "output_type": "stream",
     "text": [
      " 56%|█████▌    | 306/551 [00:48<00:45,  5.39it/s]"
     ]
    },
    {
     "name": "stdout",
     "output_type": "stream",
     "text": [
      "/neurospin/dico/data/deep_folding/current/datasets/UkBioBank/crops/2mm/CINGULATE/mask/Rlabels/sub-3828019_cropped_foldlabel.nii.gz\n",
      "/neurospin/dico/data/deep_folding/current/datasets/UkBioBank/crops/2mm/CINGULATE/mask/Rlabels/sub-3839050_cropped_foldlabel.nii.gz\n"
     ]
    },
    {
     "name": "stderr",
     "output_type": "stream",
     "text": [
      " 56%|█████▌    | 308/551 [00:49<00:41,  5.86it/s]"
     ]
    },
    {
     "name": "stdout",
     "output_type": "stream",
     "text": [
      "/neurospin/dico/data/deep_folding/current/datasets/UkBioBank/crops/2mm/CINGULATE/mask/Rlabels/sub-3847186_cropped_foldlabel.nii.gz\n",
      "/neurospin/dico/data/deep_folding/current/datasets/UkBioBank/crops/2mm/CINGULATE/mask/Rlabels/sub-3854786_cropped_foldlabel.nii.gz\n"
     ]
    },
    {
     "name": "stderr",
     "output_type": "stream",
     "text": [
      " 56%|█████▋    | 310/551 [00:49<00:35,  6.76it/s]"
     ]
    },
    {
     "name": "stdout",
     "output_type": "stream",
     "text": [
      "/neurospin/dico/data/deep_folding/current/datasets/UkBioBank/crops/2mm/CINGULATE/mask/Rlabels/sub-3865704_cropped_foldlabel.nii.gz\n",
      "/neurospin/dico/data/deep_folding/current/datasets/UkBioBank/crops/2mm/CINGULATE/mask/Rlabels/sub-3870257_cropped_foldlabel.nii.gz\n"
     ]
    },
    {
     "name": "stderr",
     "output_type": "stream",
     "text": [
      " 57%|█████▋    | 313/551 [00:49<00:30,  7.82it/s]"
     ]
    },
    {
     "name": "stdout",
     "output_type": "stream",
     "text": [
      "/neurospin/dico/data/deep_folding/current/datasets/UkBioBank/crops/2mm/CINGULATE/mask/Rlabels/sub-3892280_cropped_foldlabel.nii.gz\n",
      "/neurospin/dico/data/deep_folding/current/datasets/UkBioBank/crops/2mm/CINGULATE/mask/Rlabels/sub-3896744_cropped_foldlabel.nii.gz\n",
      "/neurospin/dico/data/deep_folding/current/datasets/UkBioBank/crops/2mm/CINGULATE/mask/Rlabels/sub-3899233_cropped_foldlabel.nii.gz\n"
     ]
    },
    {
     "name": "stderr",
     "output_type": "stream",
     "text": [
      " 57%|█████▋    | 315/551 [00:50<00:32,  7.37it/s]"
     ]
    },
    {
     "name": "stdout",
     "output_type": "stream",
     "text": [
      "/neurospin/dico/data/deep_folding/current/datasets/UkBioBank/crops/2mm/CINGULATE/mask/Rlabels/sub-3907535_cropped_foldlabel.nii.gz\n",
      "/neurospin/dico/data/deep_folding/current/datasets/UkBioBank/crops/2mm/CINGULATE/mask/Rlabels/sub-3921622_cropped_foldlabel.nii.gz\n"
     ]
    },
    {
     "name": "stderr",
     "output_type": "stream",
     "text": [
      " 57%|█████▋    | 316/551 [00:50<00:33,  7.05it/s]"
     ]
    },
    {
     "name": "stdout",
     "output_type": "stream",
     "text": [
      "/neurospin/dico/data/deep_folding/current/datasets/UkBioBank/crops/2mm/CINGULATE/mask/Rlabels/sub-3935935_cropped_foldlabel.nii.gz\n"
     ]
    },
    {
     "name": "stderr",
     "output_type": "stream",
     "text": [
      " 58%|█████▊    | 318/551 [00:50<00:39,  5.86it/s]"
     ]
    },
    {
     "name": "stdout",
     "output_type": "stream",
     "text": [
      "/neurospin/dico/data/deep_folding/current/datasets/UkBioBank/crops/2mm/CINGULATE/mask/Rlabels/sub-3948964_cropped_foldlabel.nii.gz\n",
      "/neurospin/dico/data/deep_folding/current/datasets/UkBioBank/crops/2mm/CINGULATE/mask/Rlabels/sub-3957197_cropped_foldlabel.nii.gz\n"
     ]
    },
    {
     "name": "stderr",
     "output_type": "stream",
     "text": [
      " 58%|█████▊    | 320/551 [00:51<00:36,  6.32it/s]"
     ]
    },
    {
     "name": "stdout",
     "output_type": "stream",
     "text": [
      "/neurospin/dico/data/deep_folding/current/datasets/UkBioBank/crops/2mm/CINGULATE/mask/Rlabels/sub-3974161_cropped_foldlabel.nii.gz\n",
      "/neurospin/dico/data/deep_folding/current/datasets/UkBioBank/crops/2mm/CINGULATE/mask/Rlabels/sub-3976372_cropped_foldlabel.nii.gz\n"
     ]
    },
    {
     "name": "stderr",
     "output_type": "stream",
     "text": [
      " 58%|█████▊    | 322/551 [00:51<00:31,  7.22it/s]"
     ]
    },
    {
     "name": "stdout",
     "output_type": "stream",
     "text": [
      "/neurospin/dico/data/deep_folding/current/datasets/UkBioBank/crops/2mm/CINGULATE/mask/Rlabels/sub-3976849_cropped_foldlabel.nii.gz\n",
      "/neurospin/dico/data/deep_folding/current/datasets/UkBioBank/crops/2mm/CINGULATE/mask/Rlabels/sub-3987246_cropped_foldlabel.nii.gz\n"
     ]
    },
    {
     "name": "stderr",
     "output_type": "stream",
     "text": [
      " 59%|█████▉    | 324/551 [00:51<00:28,  7.91it/s]"
     ]
    },
    {
     "name": "stdout",
     "output_type": "stream",
     "text": [
      "/neurospin/dico/data/deep_folding/current/datasets/UkBioBank/crops/2mm/CINGULATE/mask/Rlabels/sub-3991758_cropped_foldlabel.nii.gz\n",
      "/neurospin/dico/data/deep_folding/current/datasets/UkBioBank/crops/2mm/CINGULATE/mask/Rlabels/sub-3994134_cropped_foldlabel.nii.gz\n"
     ]
    },
    {
     "name": "stderr",
     "output_type": "stream",
     "text": [
      " 59%|█████▉    | 326/551 [00:51<00:35,  6.36it/s]"
     ]
    },
    {
     "name": "stdout",
     "output_type": "stream",
     "text": [
      "/neurospin/dico/data/deep_folding/current/datasets/UkBioBank/crops/2mm/CINGULATE/mask/Rlabels/sub-4007561_cropped_foldlabel.nii.gz\n",
      "/neurospin/dico/data/deep_folding/current/datasets/UkBioBank/crops/2mm/CINGULATE/mask/Rlabels/sub-4020479_cropped_foldlabel.nii.gz\n"
     ]
    },
    {
     "name": "stderr",
     "output_type": "stream",
     "text": [
      " 60%|█████▉    | 328/551 [00:52<00:36,  6.19it/s]"
     ]
    },
    {
     "name": "stdout",
     "output_type": "stream",
     "text": [
      "/neurospin/dico/data/deep_folding/current/datasets/UkBioBank/crops/2mm/CINGULATE/mask/Rlabels/sub-4036849_cropped_foldlabel.nii.gz\n",
      "/neurospin/dico/data/deep_folding/current/datasets/UkBioBank/crops/2mm/CINGULATE/mask/Rlabels/sub-4039343_cropped_foldlabel.nii.gz\n"
     ]
    },
    {
     "name": "stderr",
     "output_type": "stream",
     "text": [
      " 60%|█████▉    | 330/551 [00:52<00:35,  6.23it/s]"
     ]
    },
    {
     "name": "stdout",
     "output_type": "stream",
     "text": [
      "/neurospin/dico/data/deep_folding/current/datasets/UkBioBank/crops/2mm/CINGULATE/mask/Rlabels/sub-4056553_cropped_foldlabel.nii.gz\n",
      "/neurospin/dico/data/deep_folding/current/datasets/UkBioBank/crops/2mm/CINGULATE/mask/Rlabels/sub-4058687_cropped_foldlabel.nii.gz\n"
     ]
    },
    {
     "name": "stderr",
     "output_type": "stream",
     "text": [
      " 60%|██████    | 332/551 [00:52<00:32,  6.70it/s]"
     ]
    },
    {
     "name": "stdout",
     "output_type": "stream",
     "text": [
      "/neurospin/dico/data/deep_folding/current/datasets/UkBioBank/crops/2mm/CINGULATE/mask/Rlabels/sub-4078270_cropped_foldlabel.nii.gz\n",
      "/neurospin/dico/data/deep_folding/current/datasets/UkBioBank/crops/2mm/CINGULATE/mask/Rlabels/sub-4097462_cropped_foldlabel.nii.gz\n"
     ]
    },
    {
     "name": "stderr",
     "output_type": "stream",
     "text": [
      " 61%|██████    | 334/551 [00:53<00:37,  5.83it/s]"
     ]
    },
    {
     "name": "stdout",
     "output_type": "stream",
     "text": [
      "/neurospin/dico/data/deep_folding/current/datasets/UkBioBank/crops/2mm/CINGULATE/mask/Rlabels/sub-4099350_cropped_foldlabel.nii.gz\n",
      "/neurospin/dico/data/deep_folding/current/datasets/UkBioBank/crops/2mm/CINGULATE/mask/Rlabels/sub-4121802_cropped_foldlabel.nii.gz\n"
     ]
    },
    {
     "name": "stderr",
     "output_type": "stream",
     "text": [
      " 61%|██████    | 336/551 [00:53<00:36,  5.92it/s]"
     ]
    },
    {
     "name": "stdout",
     "output_type": "stream",
     "text": [
      "/neurospin/dico/data/deep_folding/current/datasets/UkBioBank/crops/2mm/CINGULATE/mask/Rlabels/sub-4127016_cropped_foldlabel.nii.gz\n",
      "/neurospin/dico/data/deep_folding/current/datasets/UkBioBank/crops/2mm/CINGULATE/mask/Rlabels/sub-4133900_cropped_foldlabel.nii.gz\n"
     ]
    },
    {
     "name": "stderr",
     "output_type": "stream",
     "text": [
      " 61%|██████    | 337/551 [00:53<00:34,  6.22it/s]"
     ]
    },
    {
     "name": "stdout",
     "output_type": "stream",
     "text": [
      "/neurospin/dico/data/deep_folding/current/datasets/UkBioBank/crops/2mm/CINGULATE/mask/Rlabels/sub-4136377_cropped_foldlabel.nii.gz\n",
      "/neurospin/dico/data/deep_folding/current/datasets/UkBioBank/crops/2mm/CINGULATE/mask/Rlabels/sub-4145483_cropped_foldlabel.nii.gz\n"
     ]
    },
    {
     "name": "stderr",
     "output_type": "stream",
     "text": [
      " 62%|██████▏   | 340/551 [00:54<00:29,  7.18it/s]"
     ]
    },
    {
     "name": "stdout",
     "output_type": "stream",
     "text": [
      "/neurospin/dico/data/deep_folding/current/datasets/UkBioBank/crops/2mm/CINGULATE/mask/Rlabels/sub-4146969_cropped_foldlabel.nii.gz\n",
      "/neurospin/dico/data/deep_folding/current/datasets/UkBioBank/crops/2mm/CINGULATE/mask/Rlabels/sub-4160863_cropped_foldlabel.nii.gz\n"
     ]
    },
    {
     "name": "stderr",
     "output_type": "stream",
     "text": [
      " 62%|██████▏   | 342/551 [00:54<00:28,  7.38it/s]"
     ]
    },
    {
     "name": "stdout",
     "output_type": "stream",
     "text": [
      "/neurospin/dico/data/deep_folding/current/datasets/UkBioBank/crops/2mm/CINGULATE/mask/Rlabels/sub-4196854_cropped_foldlabel.nii.gz\n",
      "/neurospin/dico/data/deep_folding/current/datasets/UkBioBank/crops/2mm/CINGULATE/mask/Rlabels/sub-4197313_cropped_foldlabel.nii.gz\n"
     ]
    },
    {
     "name": "stderr",
     "output_type": "stream",
     "text": [
      " 62%|██████▏   | 344/551 [00:54<00:31,  6.59it/s]"
     ]
    },
    {
     "name": "stdout",
     "output_type": "stream",
     "text": [
      "/neurospin/dico/data/deep_folding/current/datasets/UkBioBank/crops/2mm/CINGULATE/mask/Rlabels/sub-4201609_cropped_foldlabel.nii.gz\n",
      "/neurospin/dico/data/deep_folding/current/datasets/UkBioBank/crops/2mm/CINGULATE/mask/Rlabels/sub-4221517_cropped_foldlabel.nii.gz\n"
     ]
    },
    {
     "name": "stderr",
     "output_type": "stream",
     "text": [
      " 63%|██████▎   | 346/551 [00:54<00:29,  6.85it/s]"
     ]
    },
    {
     "name": "stdout",
     "output_type": "stream",
     "text": [
      "/neurospin/dico/data/deep_folding/current/datasets/UkBioBank/crops/2mm/CINGULATE/mask/Rlabels/sub-4221805_cropped_foldlabel.nii.gz\n",
      "/neurospin/dico/data/deep_folding/current/datasets/UkBioBank/crops/2mm/CINGULATE/mask/Rlabels/sub-4232003_cropped_foldlabel.nii.gz\n"
     ]
    },
    {
     "name": "stderr",
     "output_type": "stream",
     "text": [
      " 63%|██████▎   | 348/551 [00:55<00:31,  6.37it/s]"
     ]
    },
    {
     "name": "stdout",
     "output_type": "stream",
     "text": [
      "/neurospin/dico/data/deep_folding/current/datasets/UkBioBank/crops/2mm/CINGULATE/mask/Rlabels/sub-4245708_cropped_foldlabel.nii.gz\n",
      "/neurospin/dico/data/deep_folding/current/datasets/UkBioBank/crops/2mm/CINGULATE/mask/Rlabels/sub-4258004_cropped_foldlabel.nii.gz\n"
     ]
    },
    {
     "name": "stderr",
     "output_type": "stream",
     "text": [
      " 64%|██████▎   | 350/551 [00:55<00:27,  7.33it/s]"
     ]
    },
    {
     "name": "stdout",
     "output_type": "stream",
     "text": [
      "/neurospin/dico/data/deep_folding/current/datasets/UkBioBank/crops/2mm/CINGULATE/mask/Rlabels/sub-4259966_cropped_foldlabel.nii.gz\n",
      "/neurospin/dico/data/deep_folding/current/datasets/UkBioBank/crops/2mm/CINGULATE/mask/Rlabels/sub-4261787_cropped_foldlabel.nii.gz\n"
     ]
    },
    {
     "name": "stderr",
     "output_type": "stream",
     "text": [
      " 64%|██████▍   | 352/551 [00:55<00:28,  7.06it/s]"
     ]
    },
    {
     "name": "stdout",
     "output_type": "stream",
     "text": [
      "/neurospin/dico/data/deep_folding/current/datasets/UkBioBank/crops/2mm/CINGULATE/mask/Rlabels/sub-4266666_cropped_foldlabel.nii.gz\n",
      "/neurospin/dico/data/deep_folding/current/datasets/UkBioBank/crops/2mm/CINGULATE/mask/Rlabels/sub-4286940_cropped_foldlabel.nii.gz\n"
     ]
    },
    {
     "name": "stderr",
     "output_type": "stream",
     "text": [
      " 64%|██████▍   | 354/551 [00:56<00:28,  6.92it/s]"
     ]
    },
    {
     "name": "stdout",
     "output_type": "stream",
     "text": [
      "/neurospin/dico/data/deep_folding/current/datasets/UkBioBank/crops/2mm/CINGULATE/mask/Rlabels/sub-4293491_cropped_foldlabel.nii.gz\n",
      "/neurospin/dico/data/deep_folding/current/datasets/UkBioBank/crops/2mm/CINGULATE/mask/Rlabels/sub-4301081_cropped_foldlabel.nii.gz\n"
     ]
    },
    {
     "name": "stderr",
     "output_type": "stream",
     "text": [
      " 65%|██████▍   | 356/551 [00:56<00:29,  6.54it/s]"
     ]
    },
    {
     "name": "stdout",
     "output_type": "stream",
     "text": [
      "/neurospin/dico/data/deep_folding/current/datasets/UkBioBank/crops/2mm/CINGULATE/mask/Rlabels/sub-4308805_cropped_foldlabel.nii.gz\n",
      "/neurospin/dico/data/deep_folding/current/datasets/UkBioBank/crops/2mm/CINGULATE/mask/Rlabels/sub-4315753_cropped_foldlabel.nii.gz\n"
     ]
    },
    {
     "name": "stderr",
     "output_type": "stream",
     "text": [
      " 65%|██████▍   | 358/551 [00:56<00:32,  5.95it/s]"
     ]
    },
    {
     "name": "stdout",
     "output_type": "stream",
     "text": [
      "/neurospin/dico/data/deep_folding/current/datasets/UkBioBank/crops/2mm/CINGULATE/mask/Rlabels/sub-4338195_cropped_foldlabel.nii.gz\n",
      "/neurospin/dico/data/deep_folding/current/datasets/UkBioBank/crops/2mm/CINGULATE/mask/Rlabels/sub-4344684_cropped_foldlabel.nii.gz\n"
     ]
    },
    {
     "name": "stderr",
     "output_type": "stream",
     "text": [
      " 65%|██████▌   | 360/551 [00:57<00:33,  5.75it/s]"
     ]
    },
    {
     "name": "stdout",
     "output_type": "stream",
     "text": [
      "/neurospin/dico/data/deep_folding/current/datasets/UkBioBank/crops/2mm/CINGULATE/mask/Rlabels/sub-4355969_cropped_foldlabel.nii.gz\n",
      "/neurospin/dico/data/deep_folding/current/datasets/UkBioBank/crops/2mm/CINGULATE/mask/Rlabels/sub-4359846_cropped_foldlabel.nii.gz\n"
     ]
    },
    {
     "name": "stderr",
     "output_type": "stream",
     "text": [
      " 66%|██████▌   | 362/551 [00:57<00:29,  6.45it/s]"
     ]
    },
    {
     "name": "stdout",
     "output_type": "stream",
     "text": [
      "/neurospin/dico/data/deep_folding/current/datasets/UkBioBank/crops/2mm/CINGULATE/mask/Rlabels/sub-4365110_cropped_foldlabel.nii.gz\n",
      "/neurospin/dico/data/deep_folding/current/datasets/UkBioBank/crops/2mm/CINGULATE/mask/Rlabels/sub-4365823_cropped_foldlabel.nii.gz\n"
     ]
    },
    {
     "name": "stderr",
     "output_type": "stream",
     "text": [
      " 66%|██████▌   | 364/551 [00:57<00:31,  5.96it/s]"
     ]
    },
    {
     "name": "stdout",
     "output_type": "stream",
     "text": [
      "/neurospin/dico/data/deep_folding/current/datasets/UkBioBank/crops/2mm/CINGULATE/mask/Rlabels/sub-4377098_cropped_foldlabel.nii.gz\n",
      "/neurospin/dico/data/deep_folding/current/datasets/UkBioBank/crops/2mm/CINGULATE/mask/Rlabels/sub-4381296_cropped_foldlabel.nii.gz\n"
     ]
    },
    {
     "name": "stderr",
     "output_type": "stream",
     "text": [
      " 66%|██████▋   | 366/551 [00:58<00:30,  6.10it/s]"
     ]
    },
    {
     "name": "stdout",
     "output_type": "stream",
     "text": [
      "/neurospin/dico/data/deep_folding/current/datasets/UkBioBank/crops/2mm/CINGULATE/mask/Rlabels/sub-4402019_cropped_foldlabel.nii.gz\n",
      "/neurospin/dico/data/deep_folding/current/datasets/UkBioBank/crops/2mm/CINGULATE/mask/Rlabels/sub-4405512_cropped_foldlabel.nii.gz\n"
     ]
    },
    {
     "name": "stderr",
     "output_type": "stream",
     "text": [
      " 67%|██████▋   | 368/551 [00:58<00:26,  6.98it/s]"
     ]
    },
    {
     "name": "stdout",
     "output_type": "stream",
     "text": [
      "/neurospin/dico/data/deep_folding/current/datasets/UkBioBank/crops/2mm/CINGULATE/mask/Rlabels/sub-4406080_cropped_foldlabel.nii.gz\n",
      "/neurospin/dico/data/deep_folding/current/datasets/UkBioBank/crops/2mm/CINGULATE/mask/Rlabels/sub-4413536_cropped_foldlabel.nii.gz\n",
      "/neurospin/dico/data/deep_folding/current/datasets/UkBioBank/crops/2mm/CINGULATE/mask/Rlabels/sub-4417422_cropped_foldlabel.nii.gz\n"
     ]
    },
    {
     "name": "stderr",
     "output_type": "stream",
     "text": [
      " 67%|██████▋   | 371/551 [00:58<00:22,  7.89it/s]"
     ]
    },
    {
     "name": "stdout",
     "output_type": "stream",
     "text": [
      "/neurospin/dico/data/deep_folding/current/datasets/UkBioBank/crops/2mm/CINGULATE/mask/Rlabels/sub-4429323_cropped_foldlabel.nii.gz\n",
      "/neurospin/dico/data/deep_folding/current/datasets/UkBioBank/crops/2mm/CINGULATE/mask/Rlabels/sub-4437953_cropped_foldlabel.nii.gz\n"
     ]
    },
    {
     "name": "stderr",
     "output_type": "stream",
     "text": [
      " 68%|██████▊   | 373/551 [00:59<00:24,  7.27it/s]"
     ]
    },
    {
     "name": "stdout",
     "output_type": "stream",
     "text": [
      "/neurospin/dico/data/deep_folding/current/datasets/UkBioBank/crops/2mm/CINGULATE/mask/Rlabels/sub-4446803_cropped_foldlabel.nii.gz\n",
      "/neurospin/dico/data/deep_folding/current/datasets/UkBioBank/crops/2mm/CINGULATE/mask/Rlabels/sub-4455553_cropped_foldlabel.nii.gz\n"
     ]
    },
    {
     "name": "stderr",
     "output_type": "stream",
     "text": [
      " 68%|██████▊   | 375/551 [00:59<00:24,  7.26it/s]"
     ]
    },
    {
     "name": "stdout",
     "output_type": "stream",
     "text": [
      "/neurospin/dico/data/deep_folding/current/datasets/UkBioBank/crops/2mm/CINGULATE/mask/Rlabels/sub-4466883_cropped_foldlabel.nii.gz\n",
      "/neurospin/dico/data/deep_folding/current/datasets/UkBioBank/crops/2mm/CINGULATE/mask/Rlabels/sub-4484721_cropped_foldlabel.nii.gz\n",
      "/neurospin/dico/data/deep_folding/current/datasets/UkBioBank/crops/2mm/CINGULATE/mask/Rlabels/sub-4485612_cropped_foldlabel.nii.gz\n"
     ]
    },
    {
     "name": "stderr",
     "output_type": "stream",
     "text": [
      " 69%|██████▊   | 378/551 [00:59<00:21,  8.08it/s]"
     ]
    },
    {
     "name": "stdout",
     "output_type": "stream",
     "text": [
      "/neurospin/dico/data/deep_folding/current/datasets/UkBioBank/crops/2mm/CINGULATE/mask/Rlabels/sub-4494216_cropped_foldlabel.nii.gz\n",
      "/neurospin/dico/data/deep_folding/current/datasets/UkBioBank/crops/2mm/CINGULATE/mask/Rlabels/sub-4502762_cropped_foldlabel.nii.gz\n"
     ]
    },
    {
     "name": "stderr",
     "output_type": "stream",
     "text": [
      " 69%|██████▉   | 380/551 [00:59<00:23,  7.32it/s]"
     ]
    },
    {
     "name": "stdout",
     "output_type": "stream",
     "text": [
      "/neurospin/dico/data/deep_folding/current/datasets/UkBioBank/crops/2mm/CINGULATE/mask/Rlabels/sub-4508560_cropped_foldlabel.nii.gz\n",
      "/neurospin/dico/data/deep_folding/current/datasets/UkBioBank/crops/2mm/CINGULATE/mask/Rlabels/sub-4517280_cropped_foldlabel.nii.gz\n"
     ]
    },
    {
     "name": "stderr",
     "output_type": "stream",
     "text": [
      " 69%|██████▉   | 382/551 [01:00<00:19,  8.89it/s]"
     ]
    },
    {
     "name": "stdout",
     "output_type": "stream",
     "text": [
      "/neurospin/dico/data/deep_folding/current/datasets/UkBioBank/crops/2mm/CINGULATE/mask/Rlabels/sub-4531510_cropped_foldlabel.nii.gz\n",
      "/neurospin/dico/data/deep_folding/current/datasets/UkBioBank/crops/2mm/CINGULATE/mask/Rlabels/sub-4534022_cropped_foldlabel.nii.gz\n"
     ]
    },
    {
     "name": "stderr",
     "output_type": "stream",
     "text": [
      " 70%|██████▉   | 384/551 [01:00<00:21,  7.92it/s]"
     ]
    },
    {
     "name": "stdout",
     "output_type": "stream",
     "text": [
      "/neurospin/dico/data/deep_folding/current/datasets/UkBioBank/crops/2mm/CINGULATE/mask/Rlabels/sub-4539313_cropped_foldlabel.nii.gz\n",
      "/neurospin/dico/data/deep_folding/current/datasets/UkBioBank/crops/2mm/CINGULATE/mask/Rlabels/sub-4546806_cropped_foldlabel.nii.gz\n"
     ]
    },
    {
     "name": "stderr",
     "output_type": "stream",
     "text": [
      " 70%|███████   | 386/551 [01:00<00:23,  6.99it/s]"
     ]
    },
    {
     "name": "stdout",
     "output_type": "stream",
     "text": [
      "/neurospin/dico/data/deep_folding/current/datasets/UkBioBank/crops/2mm/CINGULATE/mask/Rlabels/sub-4574406_cropped_foldlabel.nii.gz\n",
      "/neurospin/dico/data/deep_folding/current/datasets/UkBioBank/crops/2mm/CINGULATE/mask/Rlabels/sub-4602566_cropped_foldlabel.nii.gz\n"
     ]
    },
    {
     "name": "stderr",
     "output_type": "stream",
     "text": [
      " 70%|███████   | 388/551 [01:00<00:23,  6.86it/s]"
     ]
    },
    {
     "name": "stdout",
     "output_type": "stream",
     "text": [
      "/neurospin/dico/data/deep_folding/current/datasets/UkBioBank/crops/2mm/CINGULATE/mask/Rlabels/sub-4603555_cropped_foldlabel.nii.gz\n",
      "/neurospin/dico/data/deep_folding/current/datasets/UkBioBank/crops/2mm/CINGULATE/mask/Rlabels/sub-4609128_cropped_foldlabel.nii.gz\n"
     ]
    },
    {
     "name": "stderr",
     "output_type": "stream",
     "text": [
      " 71%|███████   | 390/551 [01:01<00:24,  6.47it/s]"
     ]
    },
    {
     "name": "stdout",
     "output_type": "stream",
     "text": [
      "/neurospin/dico/data/deep_folding/current/datasets/UkBioBank/crops/2mm/CINGULATE/mask/Rlabels/sub-4629069_cropped_foldlabel.nii.gz\n",
      "/neurospin/dico/data/deep_folding/current/datasets/UkBioBank/crops/2mm/CINGULATE/mask/Rlabels/sub-4640476_cropped_foldlabel.nii.gz\n"
     ]
    },
    {
     "name": "stderr",
     "output_type": "stream",
     "text": [
      " 71%|███████   | 392/551 [01:01<00:23,  6.63it/s]"
     ]
    },
    {
     "name": "stdout",
     "output_type": "stream",
     "text": [
      "/neurospin/dico/data/deep_folding/current/datasets/UkBioBank/crops/2mm/CINGULATE/mask/Rlabels/sub-4644775_cropped_foldlabel.nii.gz\n",
      "/neurospin/dico/data/deep_folding/current/datasets/UkBioBank/crops/2mm/CINGULATE/mask/Rlabels/sub-4645343_cropped_foldlabel.nii.gz\n"
     ]
    },
    {
     "name": "stderr",
     "output_type": "stream",
     "text": [
      " 71%|███████▏  | 393/551 [01:01<00:26,  6.05it/s]"
     ]
    },
    {
     "name": "stdout",
     "output_type": "stream",
     "text": [
      "/neurospin/dico/data/deep_folding/current/datasets/UkBioBank/crops/2mm/CINGULATE/mask/Rlabels/sub-4656699_cropped_foldlabel.nii.gz\n",
      "/neurospin/dico/data/deep_folding/current/datasets/UkBioBank/crops/2mm/CINGULATE/mask/Rlabels/sub-4659862_cropped_foldlabel.nii.gz\n"
     ]
    },
    {
     "name": "stderr",
     "output_type": "stream",
     "text": [
      " 72%|███████▏  | 396/551 [01:02<00:22,  6.83it/s]"
     ]
    },
    {
     "name": "stdout",
     "output_type": "stream",
     "text": [
      "/neurospin/dico/data/deep_folding/current/datasets/UkBioBank/crops/2mm/CINGULATE/mask/Rlabels/sub-4672552_cropped_foldlabel.nii.gz\n",
      "/neurospin/dico/data/deep_folding/current/datasets/UkBioBank/crops/2mm/CINGULATE/mask/Rlabels/sub-4674885_cropped_foldlabel.nii.gz\n"
     ]
    },
    {
     "name": "stderr",
     "output_type": "stream",
     "text": [
      " 72%|███████▏  | 398/551 [01:02<00:23,  6.59it/s]"
     ]
    },
    {
     "name": "stdout",
     "output_type": "stream",
     "text": [
      "/neurospin/dico/data/deep_folding/current/datasets/UkBioBank/crops/2mm/CINGULATE/mask/Rlabels/sub-4677957_cropped_foldlabel.nii.gz\n",
      "/neurospin/dico/data/deep_folding/current/datasets/UkBioBank/crops/2mm/CINGULATE/mask/Rlabels/sub-4688161_cropped_foldlabel.nii.gz\n"
     ]
    },
    {
     "name": "stderr",
     "output_type": "stream",
     "text": [
      " 72%|███████▏  | 399/551 [01:02<00:24,  6.15it/s]"
     ]
    },
    {
     "name": "stdout",
     "output_type": "stream",
     "text": [
      "/neurospin/dico/data/deep_folding/current/datasets/UkBioBank/crops/2mm/CINGULATE/mask/Rlabels/sub-4690116_cropped_foldlabel.nii.gz\n"
     ]
    },
    {
     "name": "stderr",
     "output_type": "stream",
     "text": [
      " 73%|███████▎  | 401/551 [01:03<00:28,  5.33it/s]"
     ]
    },
    {
     "name": "stdout",
     "output_type": "stream",
     "text": [
      "/neurospin/dico/data/deep_folding/current/datasets/UkBioBank/crops/2mm/CINGULATE/mask/Rlabels/sub-4694481_cropped_foldlabel.nii.gz\n",
      "/neurospin/dico/data/deep_folding/current/datasets/UkBioBank/crops/2mm/CINGULATE/mask/Rlabels/sub-4697520_cropped_foldlabel.nii.gz\n",
      "/neurospin/dico/data/deep_folding/current/datasets/UkBioBank/crops/2mm/CINGULATE/mask/Rlabels/sub-4698380_cropped_foldlabel.nii.gz\n"
     ]
    },
    {
     "name": "stderr",
     "output_type": "stream",
     "text": [
      " 73%|███████▎  | 404/551 [01:03<00:23,  6.39it/s]"
     ]
    },
    {
     "name": "stdout",
     "output_type": "stream",
     "text": [
      "/neurospin/dico/data/deep_folding/current/datasets/UkBioBank/crops/2mm/CINGULATE/mask/Rlabels/sub-4705274_cropped_foldlabel.nii.gz\n",
      "/neurospin/dico/data/deep_folding/current/datasets/UkBioBank/crops/2mm/CINGULATE/mask/Rlabels/sub-4730557_cropped_foldlabel.nii.gz\n"
     ]
    },
    {
     "name": "stderr",
     "output_type": "stream",
     "text": [
      " 74%|███████▎  | 406/551 [01:03<00:21,  6.85it/s]"
     ]
    },
    {
     "name": "stdout",
     "output_type": "stream",
     "text": [
      "/neurospin/dico/data/deep_folding/current/datasets/UkBioBank/crops/2mm/CINGULATE/mask/Rlabels/sub-4739097_cropped_foldlabel.nii.gz\n",
      "/neurospin/dico/data/deep_folding/current/datasets/UkBioBank/crops/2mm/CINGULATE/mask/Rlabels/sub-4743487_cropped_foldlabel.nii.gz\n"
     ]
    },
    {
     "name": "stderr",
     "output_type": "stream",
     "text": [
      " 74%|███████▍  | 408/551 [01:04<00:20,  7.05it/s]"
     ]
    },
    {
     "name": "stdout",
     "output_type": "stream",
     "text": [
      "/neurospin/dico/data/deep_folding/current/datasets/UkBioBank/crops/2mm/CINGULATE/mask/Rlabels/sub-4772821_cropped_foldlabel.nii.gz\n",
      "/neurospin/dico/data/deep_folding/current/datasets/UkBioBank/crops/2mm/CINGULATE/mask/Rlabels/sub-4774843_cropped_foldlabel.nii.gz\n"
     ]
    },
    {
     "name": "stderr",
     "output_type": "stream",
     "text": [
      " 74%|███████▍  | 410/551 [01:04<00:18,  7.61it/s]"
     ]
    },
    {
     "name": "stdout",
     "output_type": "stream",
     "text": [
      "/neurospin/dico/data/deep_folding/current/datasets/UkBioBank/crops/2mm/CINGULATE/mask/Rlabels/sub-4778999_cropped_foldlabel.nii.gz\n",
      "/neurospin/dico/data/deep_folding/current/datasets/UkBioBank/crops/2mm/CINGULATE/mask/Rlabels/sub-4787289_cropped_foldlabel.nii.gz\n"
     ]
    },
    {
     "name": "stderr",
     "output_type": "stream",
     "text": [
      " 75%|███████▍  | 411/551 [01:04<00:19,  7.22it/s]"
     ]
    },
    {
     "name": "stdout",
     "output_type": "stream",
     "text": [
      "/neurospin/dico/data/deep_folding/current/datasets/UkBioBank/crops/2mm/CINGULATE/mask/Rlabels/sub-4789453_cropped_foldlabel.nii.gz\n"
     ]
    },
    {
     "name": "stderr",
     "output_type": "stream",
     "text": [
      " 75%|███████▍  | 412/551 [01:04<00:24,  5.71it/s]"
     ]
    },
    {
     "name": "stdout",
     "output_type": "stream",
     "text": [
      "/neurospin/dico/data/deep_folding/current/datasets/UkBioBank/crops/2mm/CINGULATE/mask/Rlabels/sub-4810359_cropped_foldlabel.nii.gz\n",
      "/neurospin/dico/data/deep_folding/current/datasets/UkBioBank/crops/2mm/CINGULATE/mask/Rlabels/sub-4811013_cropped_foldlabel.nii.gz\n"
     ]
    },
    {
     "name": "stderr",
     "output_type": "stream",
     "text": [
      " 75%|███████▌  | 415/551 [01:05<00:26,  5.19it/s]"
     ]
    },
    {
     "name": "stdout",
     "output_type": "stream",
     "text": [
      "/neurospin/dico/data/deep_folding/current/datasets/UkBioBank/crops/2mm/CINGULATE/mask/Rlabels/sub-4816666_cropped_foldlabel.nii.gz\n",
      "/neurospin/dico/data/deep_folding/current/datasets/UkBioBank/crops/2mm/CINGULATE/mask/Rlabels/sub-4822429_cropped_foldlabel.nii.gz\n"
     ]
    },
    {
     "name": "stderr",
     "output_type": "stream",
     "text": [
      " 76%|███████▌  | 417/551 [01:05<00:18,  7.12it/s]"
     ]
    },
    {
     "name": "stdout",
     "output_type": "stream",
     "text": [
      "/neurospin/dico/data/deep_folding/current/datasets/UkBioBank/crops/2mm/CINGULATE/mask/Rlabels/sub-4827417_cropped_foldlabel.nii.gz\n",
      "/neurospin/dico/data/deep_folding/current/datasets/UkBioBank/crops/2mm/CINGULATE/mask/Rlabels/sub-4829766_cropped_foldlabel.nii.gz\n"
     ]
    },
    {
     "name": "stderr",
     "output_type": "stream",
     "text": [
      " 76%|███████▌  | 419/551 [01:05<00:21,  6.11it/s]"
     ]
    },
    {
     "name": "stdout",
     "output_type": "stream",
     "text": [
      "/neurospin/dico/data/deep_folding/current/datasets/UkBioBank/crops/2mm/CINGULATE/mask/Rlabels/sub-4845802_cropped_foldlabel.nii.gz\n",
      "/neurospin/dico/data/deep_folding/current/datasets/UkBioBank/crops/2mm/CINGULATE/mask/Rlabels/sub-4848545_cropped_foldlabel.nii.gz\n"
     ]
    },
    {
     "name": "stderr",
     "output_type": "stream",
     "text": [
      " 76%|███████▋  | 421/551 [01:06<00:21,  5.99it/s]"
     ]
    },
    {
     "name": "stdout",
     "output_type": "stream",
     "text": [
      "/neurospin/dico/data/deep_folding/current/datasets/UkBioBank/crops/2mm/CINGULATE/mask/Rlabels/sub-4854469_cropped_foldlabel.nii.gz\n",
      "/neurospin/dico/data/deep_folding/current/datasets/UkBioBank/crops/2mm/CINGULATE/mask/Rlabels/sub-4859540_cropped_foldlabel.nii.gz\n",
      "/neurospin/dico/data/deep_folding/current/datasets/UkBioBank/crops/2mm/CINGULATE/mask/Rlabels/sub-4860609_cropped_foldlabel.nii.gz\n"
     ]
    },
    {
     "name": "stderr",
     "output_type": "stream",
     "text": [
      " 77%|███████▋  | 424/551 [01:06<00:17,  7.35it/s]"
     ]
    },
    {
     "name": "stdout",
     "output_type": "stream",
     "text": [
      "/neurospin/dico/data/deep_folding/current/datasets/UkBioBank/crops/2mm/CINGULATE/mask/Rlabels/sub-4860826_cropped_foldlabel.nii.gz\n",
      "/neurospin/dico/data/deep_folding/current/datasets/UkBioBank/crops/2mm/CINGULATE/mask/Rlabels/sub-4879191_cropped_foldlabel.nii.gz\n"
     ]
    },
    {
     "name": "stderr",
     "output_type": "stream",
     "text": [
      " 77%|███████▋  | 426/551 [01:06<00:17,  7.31it/s]"
     ]
    },
    {
     "name": "stdout",
     "output_type": "stream",
     "text": [
      "/neurospin/dico/data/deep_folding/current/datasets/UkBioBank/crops/2mm/CINGULATE/mask/Rlabels/sub-4882080_cropped_foldlabel.nii.gz\n",
      "/neurospin/dico/data/deep_folding/current/datasets/UkBioBank/crops/2mm/CINGULATE/mask/Rlabels/sub-4884953_cropped_foldlabel.nii.gz\n"
     ]
    },
    {
     "name": "stderr",
     "output_type": "stream",
     "text": [
      " 78%|███████▊  | 428/551 [01:07<00:17,  7.02it/s]"
     ]
    },
    {
     "name": "stdout",
     "output_type": "stream",
     "text": [
      "/neurospin/dico/data/deep_folding/current/datasets/UkBioBank/crops/2mm/CINGULATE/mask/Rlabels/sub-4886645_cropped_foldlabel.nii.gz\n",
      "/neurospin/dico/data/deep_folding/current/datasets/UkBioBank/crops/2mm/CINGULATE/mask/Rlabels/sub-4888951_cropped_foldlabel.nii.gz\n"
     ]
    },
    {
     "name": "stderr",
     "output_type": "stream",
     "text": [
      " 78%|███████▊  | 430/551 [01:07<00:14,  8.08it/s]"
     ]
    },
    {
     "name": "stdout",
     "output_type": "stream",
     "text": [
      "/neurospin/dico/data/deep_folding/current/datasets/UkBioBank/crops/2mm/CINGULATE/mask/Rlabels/sub-4912761_cropped_foldlabel.nii.gz\n",
      "/neurospin/dico/data/deep_folding/current/datasets/UkBioBank/crops/2mm/CINGULATE/mask/Rlabels/sub-4916875_cropped_foldlabel.nii.gz\n"
     ]
    },
    {
     "name": "stderr",
     "output_type": "stream",
     "text": [
      " 78%|███████▊  | 432/551 [01:07<00:16,  7.24it/s]"
     ]
    },
    {
     "name": "stdout",
     "output_type": "stream",
     "text": [
      "/neurospin/dico/data/deep_folding/current/datasets/UkBioBank/crops/2mm/CINGULATE/mask/Rlabels/sub-4925381_cropped_foldlabel.nii.gz\n",
      "/neurospin/dico/data/deep_folding/current/datasets/UkBioBank/crops/2mm/CINGULATE/mask/Rlabels/sub-4938161_cropped_foldlabel.nii.gz\n"
     ]
    },
    {
     "name": "stderr",
     "output_type": "stream",
     "text": [
      " 79%|███████▊  | 433/551 [01:07<00:16,  7.00it/s]"
     ]
    },
    {
     "name": "stdout",
     "output_type": "stream",
     "text": [
      "/neurospin/dico/data/deep_folding/current/datasets/UkBioBank/crops/2mm/CINGULATE/mask/Rlabels/sub-4940455_cropped_foldlabel.nii.gz\n"
     ]
    },
    {
     "name": "stderr",
     "output_type": "stream",
     "text": [
      " 79%|███████▉  | 435/551 [01:08<00:19,  6.05it/s]"
     ]
    },
    {
     "name": "stdout",
     "output_type": "stream",
     "text": [
      "/neurospin/dico/data/deep_folding/current/datasets/UkBioBank/crops/2mm/CINGULATE/mask/Rlabels/sub-4961673_cropped_foldlabel.nii.gz\n",
      "/neurospin/dico/data/deep_folding/current/datasets/UkBioBank/crops/2mm/CINGULATE/mask/Rlabels/sub-4979584_cropped_foldlabel.nii.gz\n"
     ]
    },
    {
     "name": "stderr",
     "output_type": "stream",
     "text": [
      " 79%|███████▉  | 437/551 [01:08<00:18,  6.09it/s]"
     ]
    },
    {
     "name": "stdout",
     "output_type": "stream",
     "text": [
      "/neurospin/dico/data/deep_folding/current/datasets/UkBioBank/crops/2mm/CINGULATE/mask/Rlabels/sub-4980941_cropped_foldlabel.nii.gz\n",
      "/neurospin/dico/data/deep_folding/current/datasets/UkBioBank/crops/2mm/CINGULATE/mask/Rlabels/sub-4989927_cropped_foldlabel.nii.gz\n"
     ]
    },
    {
     "name": "stderr",
     "output_type": "stream",
     "text": [
      " 80%|███████▉  | 439/551 [01:08<00:18,  6.21it/s]"
     ]
    },
    {
     "name": "stdout",
     "output_type": "stream",
     "text": [
      "/neurospin/dico/data/deep_folding/current/datasets/UkBioBank/crops/2mm/CINGULATE/mask/Rlabels/sub-5005812_cropped_foldlabel.nii.gz\n",
      "/neurospin/dico/data/deep_folding/current/datasets/UkBioBank/crops/2mm/CINGULATE/mask/Rlabels/sub-5012777_cropped_foldlabel.nii.gz\n"
     ]
    },
    {
     "name": "stderr",
     "output_type": "stream",
     "text": [
      " 80%|████████  | 441/551 [01:09<00:18,  5.97it/s]"
     ]
    },
    {
     "name": "stdout",
     "output_type": "stream",
     "text": [
      "/neurospin/dico/data/deep_folding/current/datasets/UkBioBank/crops/2mm/CINGULATE/mask/Rlabels/sub-5019648_cropped_foldlabel.nii.gz\n",
      "/neurospin/dico/data/deep_folding/current/datasets/UkBioBank/crops/2mm/CINGULATE/mask/Rlabels/sub-5028756_cropped_foldlabel.nii.gz\n"
     ]
    },
    {
     "name": "stderr",
     "output_type": "stream",
     "text": [
      " 80%|████████  | 443/551 [01:09<00:17,  6.14it/s]"
     ]
    },
    {
     "name": "stdout",
     "output_type": "stream",
     "text": [
      "/neurospin/dico/data/deep_folding/current/datasets/UkBioBank/crops/2mm/CINGULATE/mask/Rlabels/sub-5031827_cropped_foldlabel.nii.gz\n",
      "/neurospin/dico/data/deep_folding/current/datasets/UkBioBank/crops/2mm/CINGULATE/mask/Rlabels/sub-5044455_cropped_foldlabel.nii.gz\n"
     ]
    },
    {
     "name": "stderr",
     "output_type": "stream",
     "text": [
      " 81%|████████  | 445/551 [01:09<00:16,  6.40it/s]"
     ]
    },
    {
     "name": "stdout",
     "output_type": "stream",
     "text": [
      "/neurospin/dico/data/deep_folding/current/datasets/UkBioBank/crops/2mm/CINGULATE/mask/Rlabels/sub-5054493_cropped_foldlabel.nii.gz\n",
      "/neurospin/dico/data/deep_folding/current/datasets/UkBioBank/crops/2mm/CINGULATE/mask/Rlabels/sub-5057186_cropped_foldlabel.nii.gz\n"
     ]
    },
    {
     "name": "stderr",
     "output_type": "stream",
     "text": [
      " 81%|████████▏ | 448/551 [01:10<00:13,  7.85it/s]"
     ]
    },
    {
     "name": "stdout",
     "output_type": "stream",
     "text": [
      "/neurospin/dico/data/deep_folding/current/datasets/UkBioBank/crops/2mm/CINGULATE/mask/Rlabels/sub-5058698_cropped_foldlabel.nii.gz\n",
      "/neurospin/dico/data/deep_folding/current/datasets/UkBioBank/crops/2mm/CINGULATE/mask/Rlabels/sub-5068285_cropped_foldlabel.nii.gz\n",
      "/neurospin/dico/data/deep_folding/current/datasets/UkBioBank/crops/2mm/CINGULATE/mask/Rlabels/sub-5081197_cropped_foldlabel.nii.gz\n"
     ]
    },
    {
     "name": "stderr",
     "output_type": "stream",
     "text": [
      " 82%|████████▏ | 450/551 [01:10<00:13,  7.48it/s]"
     ]
    },
    {
     "name": "stdout",
     "output_type": "stream",
     "text": [
      "/neurospin/dico/data/deep_folding/current/datasets/UkBioBank/crops/2mm/CINGULATE/mask/Rlabels/sub-5083400_cropped_foldlabel.nii.gz\n",
      "/neurospin/dico/data/deep_folding/current/datasets/UkBioBank/crops/2mm/CINGULATE/mask/Rlabels/sub-5086763_cropped_foldlabel.nii.gz\n"
     ]
    },
    {
     "name": "stderr",
     "output_type": "stream",
     "text": [
      " 82%|████████▏ | 452/551 [01:10<00:12,  7.84it/s]"
     ]
    },
    {
     "name": "stdout",
     "output_type": "stream",
     "text": [
      "/neurospin/dico/data/deep_folding/current/datasets/UkBioBank/crops/2mm/CINGULATE/mask/Rlabels/sub-5098521_cropped_foldlabel.nii.gz\n",
      "/neurospin/dico/data/deep_folding/current/datasets/UkBioBank/crops/2mm/CINGULATE/mask/Rlabels/sub-5113871_cropped_foldlabel.nii.gz\n"
     ]
    },
    {
     "name": "stderr",
     "output_type": "stream",
     "text": [
      " 82%|████████▏ | 454/551 [01:11<00:14,  6.90it/s]"
     ]
    },
    {
     "name": "stdout",
     "output_type": "stream",
     "text": [
      "/neurospin/dico/data/deep_folding/current/datasets/UkBioBank/crops/2mm/CINGULATE/mask/Rlabels/sub-5119461_cropped_foldlabel.nii.gz\n",
      "/neurospin/dico/data/deep_folding/current/datasets/UkBioBank/crops/2mm/CINGULATE/mask/Rlabels/sub-5138525_cropped_foldlabel.nii.gz\n"
     ]
    },
    {
     "name": "stderr",
     "output_type": "stream",
     "text": [
      " 83%|████████▎ | 456/551 [01:11<00:14,  6.51it/s]"
     ]
    },
    {
     "name": "stdout",
     "output_type": "stream",
     "text": [
      "/neurospin/dico/data/deep_folding/current/datasets/UkBioBank/crops/2mm/CINGULATE/mask/Rlabels/sub-5145267_cropped_foldlabel.nii.gz\n",
      "/neurospin/dico/data/deep_folding/current/datasets/UkBioBank/crops/2mm/CINGULATE/mask/Rlabels/sub-5147237_cropped_foldlabel.nii.gz\n"
     ]
    },
    {
     "name": "stderr",
     "output_type": "stream",
     "text": [
      " 83%|████████▎ | 458/551 [01:11<00:14,  6.64it/s]"
     ]
    },
    {
     "name": "stdout",
     "output_type": "stream",
     "text": [
      "/neurospin/dico/data/deep_folding/current/datasets/UkBioBank/crops/2mm/CINGULATE/mask/Rlabels/sub-5149378_cropped_foldlabel.nii.gz\n",
      "/neurospin/dico/data/deep_folding/current/datasets/UkBioBank/crops/2mm/CINGULATE/mask/Rlabels/sub-5155337_cropped_foldlabel.nii.gz\n"
     ]
    },
    {
     "name": "stderr",
     "output_type": "stream",
     "text": [
      " 83%|████████▎ | 460/551 [01:11<00:13,  6.55it/s]"
     ]
    },
    {
     "name": "stdout",
     "output_type": "stream",
     "text": [
      "/neurospin/dico/data/deep_folding/current/datasets/UkBioBank/crops/2mm/CINGULATE/mask/Rlabels/sub-5163686_cropped_foldlabel.nii.gz\n",
      "/neurospin/dico/data/deep_folding/current/datasets/UkBioBank/crops/2mm/CINGULATE/mask/Rlabels/sub-5165675_cropped_foldlabel.nii.gz\n"
     ]
    },
    {
     "name": "stderr",
     "output_type": "stream",
     "text": [
      " 84%|████████▍ | 463/551 [01:12<00:11,  7.50it/s]"
     ]
    },
    {
     "name": "stdout",
     "output_type": "stream",
     "text": [
      "/neurospin/dico/data/deep_folding/current/datasets/UkBioBank/crops/2mm/CINGULATE/mask/Rlabels/sub-5170655_cropped_foldlabel.nii.gz\n",
      "/neurospin/dico/data/deep_folding/current/datasets/UkBioBank/crops/2mm/CINGULATE/mask/Rlabels/sub-5173232_cropped_foldlabel.nii.gz\n",
      "/neurospin/dico/data/deep_folding/current/datasets/UkBioBank/crops/2mm/CINGULATE/mask/Rlabels/sub-5175650_cropped_foldlabel.nii.gz\n"
     ]
    },
    {
     "name": "stderr",
     "output_type": "stream",
     "text": [
      " 84%|████████▍ | 465/551 [01:12<00:13,  6.55it/s]"
     ]
    },
    {
     "name": "stdout",
     "output_type": "stream",
     "text": [
      "/neurospin/dico/data/deep_folding/current/datasets/UkBioBank/crops/2mm/CINGULATE/mask/Rlabels/sub-5192513_cropped_foldlabel.nii.gz\n",
      "/neurospin/dico/data/deep_folding/current/datasets/UkBioBank/crops/2mm/CINGULATE/mask/Rlabels/sub-5210409_cropped_foldlabel.nii.gz\n"
     ]
    },
    {
     "name": "stderr",
     "output_type": "stream",
     "text": [
      " 85%|████████▍ | 467/551 [01:13<00:12,  6.63it/s]"
     ]
    },
    {
     "name": "stdout",
     "output_type": "stream",
     "text": [
      "/neurospin/dico/data/deep_folding/current/datasets/UkBioBank/crops/2mm/CINGULATE/mask/Rlabels/sub-5214398_cropped_foldlabel.nii.gz\n",
      "/neurospin/dico/data/deep_folding/current/datasets/UkBioBank/crops/2mm/CINGULATE/mask/Rlabels/sub-5217077_cropped_foldlabel.nii.gz\n"
     ]
    },
    {
     "name": "stderr",
     "output_type": "stream",
     "text": [
      " 85%|████████▍ | 468/551 [01:13<00:14,  5.93it/s]"
     ]
    },
    {
     "name": "stdout",
     "output_type": "stream",
     "text": [
      "/neurospin/dico/data/deep_folding/current/datasets/UkBioBank/crops/2mm/CINGULATE/mask/Rlabels/sub-5217534_cropped_foldlabel.nii.gz\n"
     ]
    },
    {
     "name": "stderr",
     "output_type": "stream",
     "text": [
      " 85%|████████▌ | 470/551 [01:13<00:13,  6.00it/s]"
     ]
    },
    {
     "name": "stdout",
     "output_type": "stream",
     "text": [
      "/neurospin/dico/data/deep_folding/current/datasets/UkBioBank/crops/2mm/CINGULATE/mask/Rlabels/sub-5225062_cropped_foldlabel.nii.gz\n",
      "/neurospin/dico/data/deep_folding/current/datasets/UkBioBank/crops/2mm/CINGULATE/mask/Rlabels/sub-5244200_cropped_foldlabel.nii.gz\n"
     ]
    },
    {
     "name": "stderr",
     "output_type": "stream",
     "text": [
      " 86%|████████▌ | 472/551 [01:13<00:12,  6.08it/s]"
     ]
    },
    {
     "name": "stdout",
     "output_type": "stream",
     "text": [
      "/neurospin/dico/data/deep_folding/current/datasets/UkBioBank/crops/2mm/CINGULATE/mask/Rlabels/sub-5260664_cropped_foldlabel.nii.gz\n",
      "/neurospin/dico/data/deep_folding/current/datasets/UkBioBank/crops/2mm/CINGULATE/mask/Rlabels/sub-5275233_cropped_foldlabel.nii.gz\n"
     ]
    },
    {
     "name": "stderr",
     "output_type": "stream",
     "text": [
      " 86%|████████▌ | 474/551 [01:14<00:12,  6.34it/s]"
     ]
    },
    {
     "name": "stdout",
     "output_type": "stream",
     "text": [
      "/neurospin/dico/data/deep_folding/current/datasets/UkBioBank/crops/2mm/CINGULATE/mask/Rlabels/sub-5277689_cropped_foldlabel.nii.gz\n",
      "/neurospin/dico/data/deep_folding/current/datasets/UkBioBank/crops/2mm/CINGULATE/mask/Rlabels/sub-5291655_cropped_foldlabel.nii.gz\n"
     ]
    },
    {
     "name": "stderr",
     "output_type": "stream",
     "text": [
      " 86%|████████▋ | 476/551 [01:14<00:13,  5.53it/s]"
     ]
    },
    {
     "name": "stdout",
     "output_type": "stream",
     "text": [
      "/neurospin/dico/data/deep_folding/current/datasets/UkBioBank/crops/2mm/CINGULATE/mask/Rlabels/sub-5301241_cropped_foldlabel.nii.gz\n",
      "/neurospin/dico/data/deep_folding/current/datasets/UkBioBank/crops/2mm/CINGULATE/mask/Rlabels/sub-5301851_cropped_foldlabel.nii.gz\n"
     ]
    },
    {
     "name": "stderr",
     "output_type": "stream",
     "text": [
      " 87%|████████▋ | 477/551 [01:14<00:12,  5.86it/s]"
     ]
    },
    {
     "name": "stdout",
     "output_type": "stream",
     "text": [
      "/neurospin/dico/data/deep_folding/current/datasets/UkBioBank/crops/2mm/CINGULATE/mask/Rlabels/sub-5307481_cropped_foldlabel.nii.gz\n"
     ]
    },
    {
     "name": "stderr",
     "output_type": "stream",
     "text": [
      " 87%|████████▋ | 479/551 [01:15<00:14,  5.10it/s]"
     ]
    },
    {
     "name": "stdout",
     "output_type": "stream",
     "text": [
      "/neurospin/dico/data/deep_folding/current/datasets/UkBioBank/crops/2mm/CINGULATE/mask/Rlabels/sub-5321893_cropped_foldlabel.nii.gz\n",
      "/neurospin/dico/data/deep_folding/current/datasets/UkBioBank/crops/2mm/CINGULATE/mask/Rlabels/sub-5327263_cropped_foldlabel.nii.gz\n"
     ]
    },
    {
     "name": "stderr",
     "output_type": "stream",
     "text": [
      " 87%|████████▋ | 481/551 [01:15<00:12,  5.58it/s]"
     ]
    },
    {
     "name": "stdout",
     "output_type": "stream",
     "text": [
      "/neurospin/dico/data/deep_folding/current/datasets/UkBioBank/crops/2mm/CINGULATE/mask/Rlabels/sub-5328328_cropped_foldlabel.nii.gz\n",
      "/neurospin/dico/data/deep_folding/current/datasets/UkBioBank/crops/2mm/CINGULATE/mask/Rlabels/sub-5330725_cropped_foldlabel.nii.gz\n"
     ]
    },
    {
     "name": "stderr",
     "output_type": "stream",
     "text": [
      " 88%|████████▊ | 483/551 [01:15<00:10,  6.78it/s]"
     ]
    },
    {
     "name": "stdout",
     "output_type": "stream",
     "text": [
      "/neurospin/dico/data/deep_folding/current/datasets/UkBioBank/crops/2mm/CINGULATE/mask/Rlabels/sub-5332176_cropped_foldlabel.nii.gz\n",
      "/neurospin/dico/data/deep_folding/current/datasets/UkBioBank/crops/2mm/CINGULATE/mask/Rlabels/sub-5344468_cropped_foldlabel.nii.gz\n"
     ]
    },
    {
     "name": "stderr",
     "output_type": "stream",
     "text": [
      " 88%|████████▊ | 485/551 [01:16<00:10,  6.60it/s]"
     ]
    },
    {
     "name": "stdout",
     "output_type": "stream",
     "text": [
      "/neurospin/dico/data/deep_folding/current/datasets/UkBioBank/crops/2mm/CINGULATE/mask/Rlabels/sub-5346547_cropped_foldlabel.nii.gz\n",
      "/neurospin/dico/data/deep_folding/current/datasets/UkBioBank/crops/2mm/CINGULATE/mask/Rlabels/sub-5350390_cropped_foldlabel.nii.gz\n"
     ]
    },
    {
     "name": "stderr",
     "output_type": "stream",
     "text": [
      " 88%|████████▊ | 487/551 [01:16<00:10,  5.83it/s]"
     ]
    },
    {
     "name": "stdout",
     "output_type": "stream",
     "text": [
      "/neurospin/dico/data/deep_folding/current/datasets/UkBioBank/crops/2mm/CINGULATE/mask/Rlabels/sub-5406250_cropped_foldlabel.nii.gz\n",
      "/neurospin/dico/data/deep_folding/current/datasets/UkBioBank/crops/2mm/CINGULATE/mask/Rlabels/sub-5417598_cropped_foldlabel.nii.gz\n"
     ]
    },
    {
     "name": "stderr",
     "output_type": "stream",
     "text": [
      " 89%|████████▊ | 489/551 [01:16<00:09,  6.37it/s]"
     ]
    },
    {
     "name": "stdout",
     "output_type": "stream",
     "text": [
      "/neurospin/dico/data/deep_folding/current/datasets/UkBioBank/crops/2mm/CINGULATE/mask/Rlabels/sub-5425347_cropped_foldlabel.nii.gz\n",
      "/neurospin/dico/data/deep_folding/current/datasets/UkBioBank/crops/2mm/CINGULATE/mask/Rlabels/sub-5431286_cropped_foldlabel.nii.gz\n"
     ]
    },
    {
     "name": "stderr",
     "output_type": "stream",
     "text": [
      " 89%|████████▉ | 491/551 [01:17<00:09,  6.39it/s]"
     ]
    },
    {
     "name": "stdout",
     "output_type": "stream",
     "text": [
      "/neurospin/dico/data/deep_folding/current/datasets/UkBioBank/crops/2mm/CINGULATE/mask/Rlabels/sub-5435477_cropped_foldlabel.nii.gz\n",
      "/neurospin/dico/data/deep_folding/current/datasets/UkBioBank/crops/2mm/CINGULATE/mask/Rlabels/sub-5437424_cropped_foldlabel.nii.gz\n"
     ]
    },
    {
     "name": "stderr",
     "output_type": "stream",
     "text": [
      " 89%|████████▉ | 493/551 [01:17<00:10,  5.79it/s]"
     ]
    },
    {
     "name": "stdout",
     "output_type": "stream",
     "text": [
      "/neurospin/dico/data/deep_folding/current/datasets/UkBioBank/crops/2mm/CINGULATE/mask/Rlabels/sub-5453994_cropped_foldlabel.nii.gz\n",
      "/neurospin/dico/data/deep_folding/current/datasets/UkBioBank/crops/2mm/CINGULATE/mask/Rlabels/sub-5459061_cropped_foldlabel.nii.gz\n",
      "/neurospin/dico/data/deep_folding/current/datasets/UkBioBank/crops/2mm/CINGULATE/mask/Rlabels/sub-5472164_cropped_foldlabel.nii.gz\n"
     ]
    },
    {
     "name": "stderr",
     "output_type": "stream",
     "text": [
      " 90%|█████████ | 496/551 [01:17<00:08,  6.72it/s]"
     ]
    },
    {
     "name": "stdout",
     "output_type": "stream",
     "text": [
      "/neurospin/dico/data/deep_folding/current/datasets/UkBioBank/crops/2mm/CINGULATE/mask/Rlabels/sub-5480753_cropped_foldlabel.nii.gz\n",
      "/neurospin/dico/data/deep_folding/current/datasets/UkBioBank/crops/2mm/CINGULATE/mask/Rlabels/sub-5483990_cropped_foldlabel.nii.gz\n"
     ]
    },
    {
     "name": "stderr",
     "output_type": "stream",
     "text": [
      " 90%|█████████ | 498/551 [01:18<00:08,  6.54it/s]"
     ]
    },
    {
     "name": "stdout",
     "output_type": "stream",
     "text": [
      "/neurospin/dico/data/deep_folding/current/datasets/UkBioBank/crops/2mm/CINGULATE/mask/Rlabels/sub-5486477_cropped_foldlabel.nii.gz\n",
      "/neurospin/dico/data/deep_folding/current/datasets/UkBioBank/crops/2mm/CINGULATE/mask/Rlabels/sub-5490911_cropped_foldlabel.nii.gz\n"
     ]
    },
    {
     "name": "stderr",
     "output_type": "stream",
     "text": [
      " 91%|█████████ | 500/551 [01:18<00:07,  6.46it/s]"
     ]
    },
    {
     "name": "stdout",
     "output_type": "stream",
     "text": [
      "/neurospin/dico/data/deep_folding/current/datasets/UkBioBank/crops/2mm/CINGULATE/mask/Rlabels/sub-5502711_cropped_foldlabel.nii.gz\n",
      "/neurospin/dico/data/deep_folding/current/datasets/UkBioBank/crops/2mm/CINGULATE/mask/Rlabels/sub-5511555_cropped_foldlabel.nii.gz\n"
     ]
    },
    {
     "name": "stderr",
     "output_type": "stream",
     "text": [
      " 91%|█████████ | 502/551 [01:18<00:07,  6.91it/s]"
     ]
    },
    {
     "name": "stdout",
     "output_type": "stream",
     "text": [
      "/neurospin/dico/data/deep_folding/current/datasets/UkBioBank/crops/2mm/CINGULATE/mask/Rlabels/sub-5519934_cropped_foldlabel.nii.gz\n",
      "/neurospin/dico/data/deep_folding/current/datasets/UkBioBank/crops/2mm/CINGULATE/mask/Rlabels/sub-5524455_cropped_foldlabel.nii.gz\n"
     ]
    },
    {
     "name": "stderr",
     "output_type": "stream",
     "text": [
      " 91%|█████████▏| 504/551 [01:19<00:06,  6.79it/s]"
     ]
    },
    {
     "name": "stdout",
     "output_type": "stream",
     "text": [
      "/neurospin/dico/data/deep_folding/current/datasets/UkBioBank/crops/2mm/CINGULATE/mask/Rlabels/sub-5525766_cropped_foldlabel.nii.gz\n",
      "/neurospin/dico/data/deep_folding/current/datasets/UkBioBank/crops/2mm/CINGULATE/mask/Rlabels/sub-5531272_cropped_foldlabel.nii.gz\n"
     ]
    },
    {
     "name": "stderr",
     "output_type": "stream",
     "text": [
      " 92%|█████████▏| 506/551 [01:19<00:06,  6.46it/s]"
     ]
    },
    {
     "name": "stdout",
     "output_type": "stream",
     "text": [
      "/neurospin/dico/data/deep_folding/current/datasets/UkBioBank/crops/2mm/CINGULATE/mask/Rlabels/sub-5539717_cropped_foldlabel.nii.gz\n",
      "/neurospin/dico/data/deep_folding/current/datasets/UkBioBank/crops/2mm/CINGULATE/mask/Rlabels/sub-5555121_cropped_foldlabel.nii.gz\n"
     ]
    },
    {
     "name": "stderr",
     "output_type": "stream",
     "text": [
      " 92%|█████████▏| 507/551 [01:19<00:07,  5.66it/s]"
     ]
    },
    {
     "name": "stdout",
     "output_type": "stream",
     "text": [
      "/neurospin/dico/data/deep_folding/current/datasets/UkBioBank/crops/2mm/CINGULATE/mask/Rlabels/sub-5556736_cropped_foldlabel.nii.gz\n"
     ]
    },
    {
     "name": "stderr",
     "output_type": "stream",
     "text": [
      " 92%|█████████▏| 509/551 [01:19<00:07,  5.66it/s]"
     ]
    },
    {
     "name": "stdout",
     "output_type": "stream",
     "text": [
      "/neurospin/dico/data/deep_folding/current/datasets/UkBioBank/crops/2mm/CINGULATE/mask/Rlabels/sub-5572886_cropped_foldlabel.nii.gz\n",
      "/neurospin/dico/data/deep_folding/current/datasets/UkBioBank/crops/2mm/CINGULATE/mask/Rlabels/sub-5583003_cropped_foldlabel.nii.gz\n"
     ]
    },
    {
     "name": "stderr",
     "output_type": "stream",
     "text": [
      " 93%|█████████▎| 512/551 [01:20<00:05,  7.45it/s]"
     ]
    },
    {
     "name": "stdout",
     "output_type": "stream",
     "text": [
      "/neurospin/dico/data/deep_folding/current/datasets/UkBioBank/crops/2mm/CINGULATE/mask/Rlabels/sub-5624318_cropped_foldlabel.nii.gz\n",
      "/neurospin/dico/data/deep_folding/current/datasets/UkBioBank/crops/2mm/CINGULATE/mask/Rlabels/sub-5627193_cropped_foldlabel.nii.gz\n",
      "/neurospin/dico/data/deep_folding/current/datasets/UkBioBank/crops/2mm/CINGULATE/mask/Rlabels/sub-5656602_cropped_foldlabel.nii.gz\n"
     ]
    },
    {
     "name": "stderr",
     "output_type": "stream",
     "text": [
      " 93%|█████████▎| 514/551 [01:20<00:05,  6.70it/s]"
     ]
    },
    {
     "name": "stdout",
     "output_type": "stream",
     "text": [
      "/neurospin/dico/data/deep_folding/current/datasets/UkBioBank/crops/2mm/CINGULATE/mask/Rlabels/sub-5663619_cropped_foldlabel.nii.gz\n",
      "/neurospin/dico/data/deep_folding/current/datasets/UkBioBank/crops/2mm/CINGULATE/mask/Rlabels/sub-5681980_cropped_foldlabel.nii.gz\n"
     ]
    },
    {
     "name": "stderr",
     "output_type": "stream",
     "text": [
      " 94%|█████████▎| 516/551 [01:20<00:05,  6.81it/s]"
     ]
    },
    {
     "name": "stdout",
     "output_type": "stream",
     "text": [
      "/neurospin/dico/data/deep_folding/current/datasets/UkBioBank/crops/2mm/CINGULATE/mask/Rlabels/sub-5687731_cropped_foldlabel.nii.gz\n",
      "/neurospin/dico/data/deep_folding/current/datasets/UkBioBank/crops/2mm/CINGULATE/mask/Rlabels/sub-5692386_cropped_foldlabel.nii.gz\n"
     ]
    },
    {
     "name": "stderr",
     "output_type": "stream",
     "text": [
      " 94%|█████████▍| 518/551 [01:21<00:05,  6.44it/s]"
     ]
    },
    {
     "name": "stdout",
     "output_type": "stream",
     "text": [
      "/neurospin/dico/data/deep_folding/current/datasets/UkBioBank/crops/2mm/CINGULATE/mask/Rlabels/sub-5721857_cropped_foldlabel.nii.gz\n",
      "/neurospin/dico/data/deep_folding/current/datasets/UkBioBank/crops/2mm/CINGULATE/mask/Rlabels/sub-5723481_cropped_foldlabel.nii.gz\n"
     ]
    },
    {
     "name": "stderr",
     "output_type": "stream",
     "text": [
      " 94%|█████████▍| 520/551 [01:21<00:04,  7.29it/s]"
     ]
    },
    {
     "name": "stdout",
     "output_type": "stream",
     "text": [
      "/neurospin/dico/data/deep_folding/current/datasets/UkBioBank/crops/2mm/CINGULATE/mask/Rlabels/sub-5723501_cropped_foldlabel.nii.gz\n",
      "/neurospin/dico/data/deep_folding/current/datasets/UkBioBank/crops/2mm/CINGULATE/mask/Rlabels/sub-5725382_cropped_foldlabel.nii.gz\n"
     ]
    },
    {
     "name": "stderr",
     "output_type": "stream",
     "text": [
      " 95%|█████████▍| 522/551 [01:21<00:04,  6.20it/s]"
     ]
    },
    {
     "name": "stdout",
     "output_type": "stream",
     "text": [
      "/neurospin/dico/data/deep_folding/current/datasets/UkBioBank/crops/2mm/CINGULATE/mask/Rlabels/sub-5756497_cropped_foldlabel.nii.gz\n",
      "/neurospin/dico/data/deep_folding/current/datasets/UkBioBank/crops/2mm/CINGULATE/mask/Rlabels/sub-5757553_cropped_foldlabel.nii.gz\n"
     ]
    },
    {
     "name": "stderr",
     "output_type": "stream",
     "text": [
      " 95%|█████████▌| 524/551 [01:22<00:04,  6.45it/s]"
     ]
    },
    {
     "name": "stdout",
     "output_type": "stream",
     "text": [
      "/neurospin/dico/data/deep_folding/current/datasets/UkBioBank/crops/2mm/CINGULATE/mask/Rlabels/sub-5759289_cropped_foldlabel.nii.gz\n",
      "/neurospin/dico/data/deep_folding/current/datasets/UkBioBank/crops/2mm/CINGULATE/mask/Rlabels/sub-5777436_cropped_foldlabel.nii.gz\n"
     ]
    },
    {
     "name": "stderr",
     "output_type": "stream",
     "text": [
      " 95%|█████████▌| 526/551 [01:22<00:03,  6.40it/s]"
     ]
    },
    {
     "name": "stdout",
     "output_type": "stream",
     "text": [
      "/neurospin/dico/data/deep_folding/current/datasets/UkBioBank/crops/2mm/CINGULATE/mask/Rlabels/sub-5797558_cropped_foldlabel.nii.gz\n",
      "/neurospin/dico/data/deep_folding/current/datasets/UkBioBank/crops/2mm/CINGULATE/mask/Rlabels/sub-5802811_cropped_foldlabel.nii.gz\n"
     ]
    },
    {
     "name": "stderr",
     "output_type": "stream",
     "text": [
      " 96%|█████████▌| 528/551 [01:22<00:04,  5.55it/s]"
     ]
    },
    {
     "name": "stdout",
     "output_type": "stream",
     "text": [
      "/neurospin/dico/data/deep_folding/current/datasets/UkBioBank/crops/2mm/CINGULATE/mask/Rlabels/sub-5823327_cropped_foldlabel.nii.gz\n",
      "/neurospin/dico/data/deep_folding/current/datasets/UkBioBank/crops/2mm/CINGULATE/mask/Rlabels/sub-5860552_cropped_foldlabel.nii.gz\n"
     ]
    },
    {
     "name": "stderr",
     "output_type": "stream",
     "text": [
      " 96%|█████████▌| 530/551 [01:23<00:03,  6.59it/s]"
     ]
    },
    {
     "name": "stdout",
     "output_type": "stream",
     "text": [
      "/neurospin/dico/data/deep_folding/current/datasets/UkBioBank/crops/2mm/CINGULATE/mask/Rlabels/sub-5861747_cropped_foldlabel.nii.gz\n",
      "/neurospin/dico/data/deep_folding/current/datasets/UkBioBank/crops/2mm/CINGULATE/mask/Rlabels/sub-5866106_cropped_foldlabel.nii.gz\n"
     ]
    },
    {
     "name": "stderr",
     "output_type": "stream",
     "text": [
      " 97%|█████████▋| 532/551 [01:23<00:03,  6.33it/s]"
     ]
    },
    {
     "name": "stdout",
     "output_type": "stream",
     "text": [
      "/neurospin/dico/data/deep_folding/current/datasets/UkBioBank/crops/2mm/CINGULATE/mask/Rlabels/sub-5867976_cropped_foldlabel.nii.gz\n",
      "/neurospin/dico/data/deep_folding/current/datasets/UkBioBank/crops/2mm/CINGULATE/mask/Rlabels/sub-5877210_cropped_foldlabel.nii.gz\n"
     ]
    },
    {
     "name": "stderr",
     "output_type": "stream",
     "text": [
      " 97%|█████████▋| 534/551 [01:23<00:02,  6.38it/s]"
     ]
    },
    {
     "name": "stdout",
     "output_type": "stream",
     "text": [
      "/neurospin/dico/data/deep_folding/current/datasets/UkBioBank/crops/2mm/CINGULATE/mask/Rlabels/sub-5880091_cropped_foldlabel.nii.gz\n",
      "/neurospin/dico/data/deep_folding/current/datasets/UkBioBank/crops/2mm/CINGULATE/mask/Rlabels/sub-5883349_cropped_foldlabel.nii.gz\n"
     ]
    },
    {
     "name": "stderr",
     "output_type": "stream",
     "text": [
      " 97%|█████████▋| 536/551 [01:24<00:02,  6.31it/s]"
     ]
    },
    {
     "name": "stdout",
     "output_type": "stream",
     "text": [
      "/neurospin/dico/data/deep_folding/current/datasets/UkBioBank/crops/2mm/CINGULATE/mask/Rlabels/sub-5892630_cropped_foldlabel.nii.gz\n",
      "/neurospin/dico/data/deep_folding/current/datasets/UkBioBank/crops/2mm/CINGULATE/mask/Rlabels/sub-5894417_cropped_foldlabel.nii.gz\n"
     ]
    },
    {
     "name": "stderr",
     "output_type": "stream",
     "text": [
      " 98%|█████████▊| 538/551 [01:24<00:02,  6.27it/s]"
     ]
    },
    {
     "name": "stdout",
     "output_type": "stream",
     "text": [
      "/neurospin/dico/data/deep_folding/current/datasets/UkBioBank/crops/2mm/CINGULATE/mask/Rlabels/sub-5903232_cropped_foldlabel.nii.gz\n",
      "/neurospin/dico/data/deep_folding/current/datasets/UkBioBank/crops/2mm/CINGULATE/mask/Rlabels/sub-5907102_cropped_foldlabel.nii.gz\n"
     ]
    },
    {
     "name": "stderr",
     "output_type": "stream",
     "text": [
      " 98%|█████████▊| 540/551 [01:24<00:01,  7.29it/s]"
     ]
    },
    {
     "name": "stdout",
     "output_type": "stream",
     "text": [
      "/neurospin/dico/data/deep_folding/current/datasets/UkBioBank/crops/2mm/CINGULATE/mask/Rlabels/sub-5911149_cropped_foldlabel.nii.gz\n",
      "/neurospin/dico/data/deep_folding/current/datasets/UkBioBank/crops/2mm/CINGULATE/mask/Rlabels/sub-5913724_cropped_foldlabel.nii.gz\n"
     ]
    },
    {
     "name": "stderr",
     "output_type": "stream",
     "text": [
      " 98%|█████████▊| 542/551 [01:25<00:01,  7.01it/s]"
     ]
    },
    {
     "name": "stdout",
     "output_type": "stream",
     "text": [
      "/neurospin/dico/data/deep_folding/current/datasets/UkBioBank/crops/2mm/CINGULATE/mask/Rlabels/sub-5923206_cropped_foldlabel.nii.gz\n",
      "/neurospin/dico/data/deep_folding/current/datasets/UkBioBank/crops/2mm/CINGULATE/mask/Rlabels/sub-5927901_cropped_foldlabel.nii.gz\n"
     ]
    },
    {
     "name": "stderr",
     "output_type": "stream",
     "text": [
      " 99%|█████████▊| 544/551 [01:25<00:00,  7.19it/s]"
     ]
    },
    {
     "name": "stdout",
     "output_type": "stream",
     "text": [
      "/neurospin/dico/data/deep_folding/current/datasets/UkBioBank/crops/2mm/CINGULATE/mask/Rlabels/sub-5929190_cropped_foldlabel.nii.gz\n",
      "/neurospin/dico/data/deep_folding/current/datasets/UkBioBank/crops/2mm/CINGULATE/mask/Rlabels/sub-5939122_cropped_foldlabel.nii.gz\n"
     ]
    },
    {
     "name": "stderr",
     "output_type": "stream",
     "text": [
      " 99%|█████████▉| 546/551 [01:25<00:00,  6.52it/s]"
     ]
    },
    {
     "name": "stdout",
     "output_type": "stream",
     "text": [
      "/neurospin/dico/data/deep_folding/current/datasets/UkBioBank/crops/2mm/CINGULATE/mask/Rlabels/sub-5948030_cropped_foldlabel.nii.gz\n",
      "/neurospin/dico/data/deep_folding/current/datasets/UkBioBank/crops/2mm/CINGULATE/mask/Rlabels/sub-5961752_cropped_foldlabel.nii.gz\n"
     ]
    },
    {
     "name": "stderr",
     "output_type": "stream",
     "text": [
      " 99%|█████████▉| 548/551 [01:25<00:00,  5.92it/s]"
     ]
    },
    {
     "name": "stdout",
     "output_type": "stream",
     "text": [
      "/neurospin/dico/data/deep_folding/current/datasets/UkBioBank/crops/2mm/CINGULATE/mask/Rlabels/sub-5982584_cropped_foldlabel.nii.gz\n",
      "/neurospin/dico/data/deep_folding/current/datasets/UkBioBank/crops/2mm/CINGULATE/mask/Rlabels/sub-5990938_cropped_foldlabel.nii.gz\n"
     ]
    },
    {
     "name": "stderr",
     "output_type": "stream",
     "text": [
      "100%|█████████▉| 550/551 [01:26<00:00,  6.87it/s]"
     ]
    },
    {
     "name": "stdout",
     "output_type": "stream",
     "text": [
      "/neurospin/dico/data/deep_folding/current/datasets/UkBioBank/crops/2mm/CINGULATE/mask/Rlabels/sub-5995977_cropped_foldlabel.nii.gz\n",
      "/neurospin/dico/data/deep_folding/current/datasets/UkBioBank/crops/2mm/CINGULATE/mask/Rlabels/sub-6013312_cropped_foldlabel.nii.gz\n"
     ]
    },
    {
     "name": "stderr",
     "output_type": "stream",
     "text": [
      "100%|██████████| 551/551 [01:26<00:00,  6.38it/s]\n",
      "INFO:save_data.py: STEP 2. Now writing subject name file...\n",
      "INFO:save_data.py: STEP 3. Now saving to numpy array...\n",
      "INFO:save_data.py: STEP 4. Now performing checks on numpy arrays...\n",
      "INFO:save_data.py: subjects.head() =        Subject\n",
      "0  sub-1004170\n",
      "1  sub-1005970\n",
      "2  sub-1007202\n",
      "3  sub-1009981\n",
      "4  sub-1048157\n",
      "INFO:save_data.py: Quality check is done SERIALLY\n",
      "551it [01:26,  6.39it/s]\n"
     ]
    },
    {
     "data": {
      "text/plain": [
       "(['sub-1004170',\n",
       "  'sub-1005970',\n",
       "  'sub-1007202',\n",
       "  'sub-1009981',\n",
       "  'sub-1048157',\n",
       "  'sub-1067830',\n",
       "  'sub-1082777',\n",
       "  'sub-1113588',\n",
       "  'sub-1134887',\n",
       "  'sub-1140601',\n",
       "  'sub-1151600',\n",
       "  'sub-1153017',\n",
       "  'sub-1158325',\n",
       "  'sub-1166750',\n",
       "  'sub-1185514',\n",
       "  'sub-1195093',\n",
       "  'sub-1198675',\n",
       "  'sub-1208599',\n",
       "  'sub-1216714',\n",
       "  'sub-1217337',\n",
       "  'sub-1226337',\n",
       "  'sub-1272986',\n",
       "  'sub-1273006',\n",
       "  'sub-1285582',\n",
       "  'sub-1288577',\n",
       "  'sub-1307822',\n",
       "  'sub-1308501',\n",
       "  'sub-1313396',\n",
       "  'sub-1314271',\n",
       "  'sub-1334564',\n",
       "  'sub-1336459',\n",
       "  'sub-1372087',\n",
       "  'sub-1373922',\n",
       "  'sub-1374382',\n",
       "  'sub-1389309',\n",
       "  'sub-1391059',\n",
       "  'sub-1406912',\n",
       "  'sub-1414697',\n",
       "  'sub-1428212',\n",
       "  'sub-1451456',\n",
       "  'sub-1451990',\n",
       "  'sub-1460286',\n",
       "  'sub-1462420',\n",
       "  'sub-1473302',\n",
       "  'sub-1478688',\n",
       "  'sub-1480889',\n",
       "  'sub-1480994',\n",
       "  'sub-1488021',\n",
       "  'sub-1488332',\n",
       "  'sub-1511236',\n",
       "  'sub-1514526',\n",
       "  'sub-1516814',\n",
       "  'sub-1525890',\n",
       "  'sub-1525994',\n",
       "  'sub-1549678',\n",
       "  'sub-1564830',\n",
       "  'sub-1569549',\n",
       "  'sub-1574610',\n",
       "  'sub-1584549',\n",
       "  'sub-1603639',\n",
       "  'sub-1609954',\n",
       "  'sub-1612755',\n",
       "  'sub-1620450',\n",
       "  'sub-1635113',\n",
       "  'sub-1640360',\n",
       "  'sub-1647006',\n",
       "  'sub-1666078',\n",
       "  'sub-1666601',\n",
       "  'sub-1679078',\n",
       "  'sub-1681996',\n",
       "  'sub-1686476',\n",
       "  'sub-1699171',\n",
       "  'sub-1702968',\n",
       "  'sub-1709070',\n",
       "  'sub-1710077',\n",
       "  'sub-1731824',\n",
       "  'sub-1747653',\n",
       "  'sub-1769614',\n",
       "  'sub-1778458',\n",
       "  'sub-1796059',\n",
       "  'sub-1797887',\n",
       "  'sub-1803061',\n",
       "  'sub-1812064',\n",
       "  'sub-1813860',\n",
       "  'sub-1822141',\n",
       "  'sub-1824906',\n",
       "  'sub-1829574',\n",
       "  'sub-1832571',\n",
       "  'sub-1846590',\n",
       "  'sub-1863557',\n",
       "  'sub-1866616',\n",
       "  'sub-1877310',\n",
       "  'sub-1882867',\n",
       "  'sub-1897786',\n",
       "  'sub-1909558',\n",
       "  'sub-1914009',\n",
       "  'sub-1915611',\n",
       "  'sub-1925325',\n",
       "  'sub-1935008',\n",
       "  'sub-1943335',\n",
       "  'sub-1971557',\n",
       "  'sub-1982092',\n",
       "  'sub-1997299',\n",
       "  'sub-2003146',\n",
       "  'sub-2017012',\n",
       "  'sub-2018793',\n",
       "  'sub-2019917',\n",
       "  'sub-2021210',\n",
       "  'sub-2028259',\n",
       "  'sub-2028851',\n",
       "  'sub-2064667',\n",
       "  'sub-2079914',\n",
       "  'sub-2086815',\n",
       "  'sub-2090127',\n",
       "  'sub-2095126',\n",
       "  'sub-2096666',\n",
       "  'sub-2099735',\n",
       "  'sub-2102249',\n",
       "  'sub-2105952',\n",
       "  'sub-2122485',\n",
       "  'sub-2126502',\n",
       "  'sub-2146417',\n",
       "  'sub-2159521',\n",
       "  'sub-2169184',\n",
       "  'sub-2173936',\n",
       "  'sub-2177059',\n",
       "  'sub-2178905',\n",
       "  'sub-2206604',\n",
       "  'sub-2214718',\n",
       "  'sub-2225492',\n",
       "  'sub-2225663',\n",
       "  'sub-2226986',\n",
       "  'sub-2232598',\n",
       "  'sub-2241947',\n",
       "  'sub-2247652',\n",
       "  'sub-2248178',\n",
       "  'sub-2258152',\n",
       "  'sub-2261687',\n",
       "  'sub-2282000',\n",
       "  'sub-2287650',\n",
       "  'sub-2322763',\n",
       "  'sub-2327978',\n",
       "  'sub-2333126',\n",
       "  'sub-2353834',\n",
       "  'sub-2364580',\n",
       "  'sub-2381040',\n",
       "  'sub-2407239',\n",
       "  'sub-2408225',\n",
       "  'sub-2413012',\n",
       "  'sub-2415359',\n",
       "  'sub-2419452',\n",
       "  'sub-2421824',\n",
       "  'sub-2424630',\n",
       "  'sub-2426768',\n",
       "  'sub-2428250',\n",
       "  'sub-2434840',\n",
       "  'sub-2455416',\n",
       "  'sub-2460243',\n",
       "  'sub-2467084',\n",
       "  'sub-2481728',\n",
       "  'sub-2492434',\n",
       "  'sub-2499105',\n",
       "  'sub-2511287',\n",
       "  'sub-2516583',\n",
       "  'sub-2521602',\n",
       "  'sub-2534660',\n",
       "  'sub-2538087',\n",
       "  'sub-2556376',\n",
       "  'sub-2559192',\n",
       "  'sub-2577033',\n",
       "  'sub-2585431',\n",
       "  'sub-2602678',\n",
       "  'sub-2611103',\n",
       "  'sub-2621329',\n",
       "  'sub-2623365',\n",
       "  'sub-2625764',\n",
       "  'sub-2632310',\n",
       "  'sub-2632623',\n",
       "  'sub-2633634',\n",
       "  'sub-2636476',\n",
       "  'sub-2649285',\n",
       "  'sub-2670069',\n",
       "  'sub-2685729',\n",
       "  'sub-2701375',\n",
       "  'sub-2705226',\n",
       "  'sub-2705290',\n",
       "  'sub-2714776',\n",
       "  'sub-2718550',\n",
       "  'sub-2723171',\n",
       "  'sub-2755675',\n",
       "  'sub-2767640',\n",
       "  'sub-2770246',\n",
       "  'sub-2773611',\n",
       "  'sub-2777982',\n",
       "  'sub-2787477',\n",
       "  'sub-2803011',\n",
       "  'sub-2807485',\n",
       "  'sub-2809323',\n",
       "  'sub-2819471',\n",
       "  'sub-2839696',\n",
       "  'sub-2846866',\n",
       "  'sub-2861984',\n",
       "  'sub-2865167',\n",
       "  'sub-2874075',\n",
       "  'sub-2877958',\n",
       "  'sub-2883993',\n",
       "  'sub-2898165',\n",
       "  'sub-2919907',\n",
       "  'sub-2924975',\n",
       "  'sub-2955962',\n",
       "  'sub-2959581',\n",
       "  'sub-2964392',\n",
       "  'sub-2967264',\n",
       "  'sub-2992126',\n",
       "  'sub-2994513',\n",
       "  'sub-2998650',\n",
       "  'sub-3003806',\n",
       "  'sub-3012613',\n",
       "  'sub-3021290',\n",
       "  'sub-3024354',\n",
       "  'sub-3026279',\n",
       "  'sub-3044755',\n",
       "  'sub-3072197',\n",
       "  'sub-3073986',\n",
       "  'sub-3093232',\n",
       "  'sub-3094705',\n",
       "  'sub-3097518',\n",
       "  'sub-3103854',\n",
       "  'sub-3105839',\n",
       "  'sub-3117302',\n",
       "  'sub-3128224',\n",
       "  'sub-3129006',\n",
       "  'sub-3133956',\n",
       "  'sub-3146788',\n",
       "  'sub-3170677',\n",
       "  'sub-3175323',\n",
       "  'sub-3197380',\n",
       "  'sub-3203697',\n",
       "  'sub-3211880',\n",
       "  'sub-3219159',\n",
       "  'sub-3219927',\n",
       "  'sub-3225477',\n",
       "  'sub-3230361',\n",
       "  'sub-3231868',\n",
       "  'sub-3246567',\n",
       "  'sub-3251710',\n",
       "  'sub-3278687',\n",
       "  'sub-3287262',\n",
       "  'sub-3290259',\n",
       "  'sub-3303598',\n",
       "  'sub-3304271',\n",
       "  'sub-3313116',\n",
       "  'sub-3313845',\n",
       "  'sub-3320590',\n",
       "  'sub-3325297',\n",
       "  'sub-3345924',\n",
       "  'sub-3359813',\n",
       "  'sub-3369114',\n",
       "  'sub-3387419',\n",
       "  'sub-3392076',\n",
       "  'sub-3396940',\n",
       "  'sub-3400369',\n",
       "  'sub-3418275',\n",
       "  'sub-3425284',\n",
       "  'sub-3447062',\n",
       "  'sub-3448516',\n",
       "  'sub-3450085',\n",
       "  'sub-3450590',\n",
       "  'sub-3459925',\n",
       "  'sub-3462799',\n",
       "  'sub-3463936',\n",
       "  'sub-3470724',\n",
       "  'sub-3490549',\n",
       "  'sub-3492301',\n",
       "  'sub-3521296',\n",
       "  'sub-3530212',\n",
       "  'sub-3531685',\n",
       "  'sub-3567269',\n",
       "  'sub-3567315',\n",
       "  'sub-3568910',\n",
       "  'sub-3577510',\n",
       "  'sub-3580963',\n",
       "  'sub-3589864',\n",
       "  'sub-3594854',\n",
       "  'sub-3599983',\n",
       "  'sub-3607214',\n",
       "  'sub-3616099',\n",
       "  'sub-3619478',\n",
       "  'sub-3630660',\n",
       "  'sub-3658091',\n",
       "  'sub-3678218',\n",
       "  'sub-3681678',\n",
       "  'sub-3689157',\n",
       "  'sub-3718787',\n",
       "  'sub-3722413',\n",
       "  'sub-3729799',\n",
       "  'sub-3737120',\n",
       "  'sub-3764308',\n",
       "  'sub-3766293',\n",
       "  'sub-3772647',\n",
       "  'sub-3774873',\n",
       "  'sub-3785250',\n",
       "  'sub-3791308',\n",
       "  'sub-3791953',\n",
       "  'sub-3804925',\n",
       "  'sub-3828019',\n",
       "  'sub-3839050',\n",
       "  'sub-3847186',\n",
       "  'sub-3854786',\n",
       "  'sub-3865704',\n",
       "  'sub-3870257',\n",
       "  'sub-3892280',\n",
       "  'sub-3896744',\n",
       "  'sub-3899233',\n",
       "  'sub-3907535',\n",
       "  'sub-3921622',\n",
       "  'sub-3935935',\n",
       "  'sub-3948964',\n",
       "  'sub-3957197',\n",
       "  'sub-3974161',\n",
       "  'sub-3976372',\n",
       "  'sub-3976849',\n",
       "  'sub-3987246',\n",
       "  'sub-3991758',\n",
       "  'sub-3994134',\n",
       "  'sub-4007561',\n",
       "  'sub-4020479',\n",
       "  'sub-4036849',\n",
       "  'sub-4039343',\n",
       "  'sub-4056553',\n",
       "  'sub-4058687',\n",
       "  'sub-4078270',\n",
       "  'sub-4097462',\n",
       "  'sub-4099350',\n",
       "  'sub-4121802',\n",
       "  'sub-4127016',\n",
       "  'sub-4133900',\n",
       "  'sub-4136377',\n",
       "  'sub-4145483',\n",
       "  'sub-4146969',\n",
       "  'sub-4160863',\n",
       "  'sub-4196854',\n",
       "  'sub-4197313',\n",
       "  'sub-4201609',\n",
       "  'sub-4221517',\n",
       "  'sub-4221805',\n",
       "  'sub-4232003',\n",
       "  'sub-4245708',\n",
       "  'sub-4258004',\n",
       "  'sub-4259966',\n",
       "  'sub-4261787',\n",
       "  'sub-4266666',\n",
       "  'sub-4286940',\n",
       "  'sub-4293491',\n",
       "  'sub-4301081',\n",
       "  'sub-4308805',\n",
       "  'sub-4315753',\n",
       "  'sub-4338195',\n",
       "  'sub-4344684',\n",
       "  'sub-4355969',\n",
       "  'sub-4359846',\n",
       "  'sub-4365110',\n",
       "  'sub-4365823',\n",
       "  'sub-4377098',\n",
       "  'sub-4381296',\n",
       "  'sub-4402019',\n",
       "  'sub-4405512',\n",
       "  'sub-4406080',\n",
       "  'sub-4413536',\n",
       "  'sub-4417422',\n",
       "  'sub-4429323',\n",
       "  'sub-4437953',\n",
       "  'sub-4446803',\n",
       "  'sub-4455553',\n",
       "  'sub-4466883',\n",
       "  'sub-4484721',\n",
       "  'sub-4485612',\n",
       "  'sub-4494216',\n",
       "  'sub-4502762',\n",
       "  'sub-4508560',\n",
       "  'sub-4517280',\n",
       "  'sub-4531510',\n",
       "  'sub-4534022',\n",
       "  'sub-4539313',\n",
       "  'sub-4546806',\n",
       "  'sub-4574406',\n",
       "  'sub-4602566',\n",
       "  'sub-4603555',\n",
       "  'sub-4609128',\n",
       "  'sub-4629069',\n",
       "  'sub-4640476',\n",
       "  'sub-4644775',\n",
       "  'sub-4645343',\n",
       "  'sub-4656699',\n",
       "  'sub-4659862',\n",
       "  'sub-4672552',\n",
       "  'sub-4674885',\n",
       "  'sub-4677957',\n",
       "  'sub-4688161',\n",
       "  'sub-4690116',\n",
       "  'sub-4694481',\n",
       "  'sub-4697520',\n",
       "  'sub-4698380',\n",
       "  'sub-4705274',\n",
       "  'sub-4730557',\n",
       "  'sub-4739097',\n",
       "  'sub-4743487',\n",
       "  'sub-4772821',\n",
       "  'sub-4774843',\n",
       "  'sub-4778999',\n",
       "  'sub-4787289',\n",
       "  'sub-4789453',\n",
       "  'sub-4810359',\n",
       "  'sub-4811013',\n",
       "  'sub-4816666',\n",
       "  'sub-4822429',\n",
       "  'sub-4827417',\n",
       "  'sub-4829766',\n",
       "  'sub-4845802',\n",
       "  'sub-4848545',\n",
       "  'sub-4854469',\n",
       "  'sub-4859540',\n",
       "  'sub-4860609',\n",
       "  'sub-4860826',\n",
       "  'sub-4879191',\n",
       "  'sub-4882080',\n",
       "  'sub-4884953',\n",
       "  'sub-4886645',\n",
       "  'sub-4888951',\n",
       "  'sub-4912761',\n",
       "  'sub-4916875',\n",
       "  'sub-4925381',\n",
       "  'sub-4938161',\n",
       "  'sub-4940455',\n",
       "  'sub-4961673',\n",
       "  'sub-4979584',\n",
       "  'sub-4980941',\n",
       "  'sub-4989927',\n",
       "  'sub-5005812',\n",
       "  'sub-5012777',\n",
       "  'sub-5019648',\n",
       "  'sub-5028756',\n",
       "  'sub-5031827',\n",
       "  'sub-5044455',\n",
       "  'sub-5054493',\n",
       "  'sub-5057186',\n",
       "  'sub-5058698',\n",
       "  'sub-5068285',\n",
       "  'sub-5081197',\n",
       "  'sub-5083400',\n",
       "  'sub-5086763',\n",
       "  'sub-5098521',\n",
       "  'sub-5113871',\n",
       "  'sub-5119461',\n",
       "  'sub-5138525',\n",
       "  'sub-5145267',\n",
       "  'sub-5147237',\n",
       "  'sub-5149378',\n",
       "  'sub-5155337',\n",
       "  'sub-5163686',\n",
       "  'sub-5165675',\n",
       "  'sub-5170655',\n",
       "  'sub-5173232',\n",
       "  'sub-5175650',\n",
       "  'sub-5192513',\n",
       "  'sub-5210409',\n",
       "  'sub-5214398',\n",
       "  'sub-5217077',\n",
       "  'sub-5217534',\n",
       "  'sub-5225062',\n",
       "  'sub-5244200',\n",
       "  'sub-5260664',\n",
       "  'sub-5275233',\n",
       "  'sub-5277689',\n",
       "  'sub-5291655',\n",
       "  'sub-5301241',\n",
       "  'sub-5301851',\n",
       "  'sub-5307481',\n",
       "  'sub-5321893',\n",
       "  'sub-5327263',\n",
       "  'sub-5328328',\n",
       "  'sub-5330725',\n",
       "  'sub-5332176',\n",
       "  'sub-5344468',\n",
       "  'sub-5346547',\n",
       "  'sub-5350390',\n",
       "  'sub-5406250',\n",
       "  'sub-5417598',\n",
       "  'sub-5425347',\n",
       "  'sub-5431286',\n",
       "  'sub-5435477',\n",
       "  'sub-5437424',\n",
       "  'sub-5453994',\n",
       "  'sub-5459061',\n",
       "  'sub-5472164',\n",
       "  'sub-5480753',\n",
       "  'sub-5483990',\n",
       "  'sub-5486477',\n",
       "  'sub-5490911',\n",
       "  'sub-5502711',\n",
       "  'sub-5511555',\n",
       "  'sub-5519934',\n",
       "  'sub-5524455',\n",
       "  'sub-5525766',\n",
       "  'sub-5531272',\n",
       "  'sub-5539717',\n",
       "  'sub-5555121',\n",
       "  'sub-5556736',\n",
       "  'sub-5572886',\n",
       "  'sub-5583003',\n",
       "  'sub-5624318',\n",
       "  'sub-5627193',\n",
       "  'sub-5656602',\n",
       "  'sub-5663619',\n",
       "  'sub-5681980',\n",
       "  'sub-5687731',\n",
       "  'sub-5692386',\n",
       "  'sub-5721857',\n",
       "  'sub-5723481',\n",
       "  'sub-5723501',\n",
       "  'sub-5725382',\n",
       "  'sub-5756497',\n",
       "  'sub-5757553',\n",
       "  'sub-5759289',\n",
       "  'sub-5777436',\n",
       "  'sub-5797558',\n",
       "  'sub-5802811',\n",
       "  'sub-5823327',\n",
       "  'sub-5860552',\n",
       "  'sub-5861747',\n",
       "  'sub-5866106',\n",
       "  'sub-5867976',\n",
       "  'sub-5877210',\n",
       "  'sub-5880091',\n",
       "  'sub-5883349',\n",
       "  'sub-5892630',\n",
       "  'sub-5894417',\n",
       "  'sub-5903232',\n",
       "  'sub-5907102',\n",
       "  'sub-5911149',\n",
       "  'sub-5913724',\n",
       "  'sub-5923206',\n",
       "  'sub-5927901',\n",
       "  'sub-5929190',\n",
       "  'sub-5939122',\n",
       "  'sub-5948030',\n",
       "  'sub-5961752',\n",
       "  'sub-5982584',\n",
       "  'sub-5990938',\n",
       "  'sub-5995977',\n",
       "  'sub-6013312'],\n",
       " array([[[[[0],\n",
       "           [0],\n",
       "           [0],\n",
       "           ...,\n",
       "           [0],\n",
       "           [0],\n",
       "           [0]],\n",
       " \n",
       "          [[0],\n",
       "           [0],\n",
       "           [0],\n",
       "           ...,\n",
       "           [0],\n",
       "           [0],\n",
       "           [0]],\n",
       " \n",
       "          [[0],\n",
       "           [0],\n",
       "           [0],\n",
       "           ...,\n",
       "           [0],\n",
       "           [0],\n",
       "           [0]],\n",
       " \n",
       "          ...,\n",
       " \n",
       "          [[0],\n",
       "           [0],\n",
       "           [0],\n",
       "           ...,\n",
       "           [0],\n",
       "           [0],\n",
       "           [0]],\n",
       " \n",
       "          [[0],\n",
       "           [0],\n",
       "           [0],\n",
       "           ...,\n",
       "           [0],\n",
       "           [0],\n",
       "           [0]],\n",
       " \n",
       "          [[0],\n",
       "           [0],\n",
       "           [0],\n",
       "           ...,\n",
       "           [0],\n",
       "           [0],\n",
       "           [0]]],\n",
       " \n",
       " \n",
       "         [[[0],\n",
       "           [0],\n",
       "           [0],\n",
       "           ...,\n",
       "           [0],\n",
       "           [0],\n",
       "           [0]],\n",
       " \n",
       "          [[0],\n",
       "           [0],\n",
       "           [0],\n",
       "           ...,\n",
       "           [0],\n",
       "           [0],\n",
       "           [0]],\n",
       " \n",
       "          [[0],\n",
       "           [0],\n",
       "           [0],\n",
       "           ...,\n",
       "           [0],\n",
       "           [0],\n",
       "           [0]],\n",
       " \n",
       "          ...,\n",
       " \n",
       "          [[0],\n",
       "           [0],\n",
       "           [0],\n",
       "           ...,\n",
       "           [0],\n",
       "           [0],\n",
       "           [0]],\n",
       " \n",
       "          [[0],\n",
       "           [0],\n",
       "           [0],\n",
       "           ...,\n",
       "           [0],\n",
       "           [0],\n",
       "           [0]],\n",
       " \n",
       "          [[0],\n",
       "           [0],\n",
       "           [0],\n",
       "           ...,\n",
       "           [0],\n",
       "           [0],\n",
       "           [0]]],\n",
       " \n",
       " \n",
       "         [[[0],\n",
       "           [0],\n",
       "           [0],\n",
       "           ...,\n",
       "           [0],\n",
       "           [0],\n",
       "           [0]],\n",
       " \n",
       "          [[0],\n",
       "           [0],\n",
       "           [0],\n",
       "           ...,\n",
       "           [0],\n",
       "           [0],\n",
       "           [0]],\n",
       " \n",
       "          [[0],\n",
       "           [0],\n",
       "           [0],\n",
       "           ...,\n",
       "           [0],\n",
       "           [0],\n",
       "           [0]],\n",
       " \n",
       "          ...,\n",
       " \n",
       "          [[0],\n",
       "           [0],\n",
       "           [0],\n",
       "           ...,\n",
       "           [0],\n",
       "           [0],\n",
       "           [0]],\n",
       " \n",
       "          [[0],\n",
       "           [0],\n",
       "           [0],\n",
       "           ...,\n",
       "           [0],\n",
       "           [0],\n",
       "           [0]],\n",
       " \n",
       "          [[0],\n",
       "           [0],\n",
       "           [0],\n",
       "           ...,\n",
       "           [0],\n",
       "           [0],\n",
       "           [0]]],\n",
       " \n",
       " \n",
       "         ...,\n",
       " \n",
       " \n",
       "         [[[0],\n",
       "           [0],\n",
       "           [0],\n",
       "           ...,\n",
       "           [0],\n",
       "           [0],\n",
       "           [0]],\n",
       " \n",
       "          [[0],\n",
       "           [0],\n",
       "           [0],\n",
       "           ...,\n",
       "           [0],\n",
       "           [0],\n",
       "           [0]],\n",
       " \n",
       "          [[0],\n",
       "           [0],\n",
       "           [0],\n",
       "           ...,\n",
       "           [0],\n",
       "           [0],\n",
       "           [0]],\n",
       " \n",
       "          ...,\n",
       " \n",
       "          [[0],\n",
       "           [0],\n",
       "           [0],\n",
       "           ...,\n",
       "           [0],\n",
       "           [0],\n",
       "           [0]],\n",
       " \n",
       "          [[0],\n",
       "           [0],\n",
       "           [0],\n",
       "           ...,\n",
       "           [0],\n",
       "           [0],\n",
       "           [0]],\n",
       " \n",
       "          [[0],\n",
       "           [0],\n",
       "           [0],\n",
       "           ...,\n",
       "           [0],\n",
       "           [0],\n",
       "           [0]]],\n",
       " \n",
       " \n",
       "         [[[0],\n",
       "           [0],\n",
       "           [0],\n",
       "           ...,\n",
       "           [0],\n",
       "           [0],\n",
       "           [0]],\n",
       " \n",
       "          [[0],\n",
       "           [0],\n",
       "           [0],\n",
       "           ...,\n",
       "           [0],\n",
       "           [0],\n",
       "           [0]],\n",
       " \n",
       "          [[0],\n",
       "           [0],\n",
       "           [0],\n",
       "           ...,\n",
       "           [0],\n",
       "           [0],\n",
       "           [0]],\n",
       " \n",
       "          ...,\n",
       " \n",
       "          [[0],\n",
       "           [0],\n",
       "           [0],\n",
       "           ...,\n",
       "           [0],\n",
       "           [0],\n",
       "           [0]],\n",
       " \n",
       "          [[0],\n",
       "           [0],\n",
       "           [0],\n",
       "           ...,\n",
       "           [0],\n",
       "           [0],\n",
       "           [0]],\n",
       " \n",
       "          [[0],\n",
       "           [0],\n",
       "           [0],\n",
       "           ...,\n",
       "           [0],\n",
       "           [0],\n",
       "           [0]]],\n",
       " \n",
       " \n",
       "         [[[0],\n",
       "           [0],\n",
       "           [0],\n",
       "           ...,\n",
       "           [0],\n",
       "           [0],\n",
       "           [0]],\n",
       " \n",
       "          [[0],\n",
       "           [0],\n",
       "           [0],\n",
       "           ...,\n",
       "           [0],\n",
       "           [0],\n",
       "           [0]],\n",
       " \n",
       "          [[0],\n",
       "           [0],\n",
       "           [0],\n",
       "           ...,\n",
       "           [0],\n",
       "           [0],\n",
       "           [0]],\n",
       " \n",
       "          ...,\n",
       " \n",
       "          [[0],\n",
       "           [0],\n",
       "           [0],\n",
       "           ...,\n",
       "           [0],\n",
       "           [0],\n",
       "           [0]],\n",
       " \n",
       "          [[0],\n",
       "           [0],\n",
       "           [0],\n",
       "           ...,\n",
       "           [0],\n",
       "           [0],\n",
       "           [0]],\n",
       " \n",
       "          [[0],\n",
       "           [0],\n",
       "           [0],\n",
       "           ...,\n",
       "           [0],\n",
       "           [0],\n",
       "           [0]]]],\n",
       " \n",
       " \n",
       " \n",
       "        [[[[0],\n",
       "           [0],\n",
       "           [0],\n",
       "           ...,\n",
       "           [0],\n",
       "           [0],\n",
       "           [0]],\n",
       " \n",
       "          [[0],\n",
       "           [0],\n",
       "           [0],\n",
       "           ...,\n",
       "           [0],\n",
       "           [0],\n",
       "           [0]],\n",
       " \n",
       "          [[0],\n",
       "           [0],\n",
       "           [0],\n",
       "           ...,\n",
       "           [0],\n",
       "           [0],\n",
       "           [0]],\n",
       " \n",
       "          ...,\n",
       " \n",
       "          [[0],\n",
       "           [0],\n",
       "           [0],\n",
       "           ...,\n",
       "           [0],\n",
       "           [0],\n",
       "           [0]],\n",
       " \n",
       "          [[0],\n",
       "           [0],\n",
       "           [0],\n",
       "           ...,\n",
       "           [0],\n",
       "           [0],\n",
       "           [0]],\n",
       " \n",
       "          [[0],\n",
       "           [0],\n",
       "           [0],\n",
       "           ...,\n",
       "           [0],\n",
       "           [0],\n",
       "           [0]]],\n",
       " \n",
       " \n",
       "         [[[0],\n",
       "           [0],\n",
       "           [0],\n",
       "           ...,\n",
       "           [0],\n",
       "           [0],\n",
       "           [0]],\n",
       " \n",
       "          [[0],\n",
       "           [0],\n",
       "           [0],\n",
       "           ...,\n",
       "           [0],\n",
       "           [0],\n",
       "           [0]],\n",
       " \n",
       "          [[0],\n",
       "           [0],\n",
       "           [0],\n",
       "           ...,\n",
       "           [0],\n",
       "           [0],\n",
       "           [0]],\n",
       " \n",
       "          ...,\n",
       " \n",
       "          [[0],\n",
       "           [0],\n",
       "           [0],\n",
       "           ...,\n",
       "           [0],\n",
       "           [0],\n",
       "           [0]],\n",
       " \n",
       "          [[0],\n",
       "           [0],\n",
       "           [0],\n",
       "           ...,\n",
       "           [0],\n",
       "           [0],\n",
       "           [0]],\n",
       " \n",
       "          [[0],\n",
       "           [0],\n",
       "           [0],\n",
       "           ...,\n",
       "           [0],\n",
       "           [0],\n",
       "           [0]]],\n",
       " \n",
       " \n",
       "         [[[0],\n",
       "           [0],\n",
       "           [0],\n",
       "           ...,\n",
       "           [0],\n",
       "           [0],\n",
       "           [0]],\n",
       " \n",
       "          [[0],\n",
       "           [0],\n",
       "           [0],\n",
       "           ...,\n",
       "           [0],\n",
       "           [0],\n",
       "           [0]],\n",
       " \n",
       "          [[0],\n",
       "           [0],\n",
       "           [0],\n",
       "           ...,\n",
       "           [0],\n",
       "           [0],\n",
       "           [0]],\n",
       " \n",
       "          ...,\n",
       " \n",
       "          [[0],\n",
       "           [0],\n",
       "           [0],\n",
       "           ...,\n",
       "           [0],\n",
       "           [0],\n",
       "           [0]],\n",
       " \n",
       "          [[0],\n",
       "           [0],\n",
       "           [0],\n",
       "           ...,\n",
       "           [0],\n",
       "           [0],\n",
       "           [0]],\n",
       " \n",
       "          [[0],\n",
       "           [0],\n",
       "           [0],\n",
       "           ...,\n",
       "           [0],\n",
       "           [0],\n",
       "           [0]]],\n",
       " \n",
       " \n",
       "         ...,\n",
       " \n",
       " \n",
       "         [[[0],\n",
       "           [0],\n",
       "           [0],\n",
       "           ...,\n",
       "           [0],\n",
       "           [0],\n",
       "           [0]],\n",
       " \n",
       "          [[0],\n",
       "           [0],\n",
       "           [0],\n",
       "           ...,\n",
       "           [0],\n",
       "           [0],\n",
       "           [0]],\n",
       " \n",
       "          [[0],\n",
       "           [0],\n",
       "           [0],\n",
       "           ...,\n",
       "           [0],\n",
       "           [0],\n",
       "           [0]],\n",
       " \n",
       "          ...,\n",
       " \n",
       "          [[0],\n",
       "           [0],\n",
       "           [0],\n",
       "           ...,\n",
       "           [0],\n",
       "           [0],\n",
       "           [0]],\n",
       " \n",
       "          [[0],\n",
       "           [0],\n",
       "           [0],\n",
       "           ...,\n",
       "           [0],\n",
       "           [0],\n",
       "           [0]],\n",
       " \n",
       "          [[0],\n",
       "           [0],\n",
       "           [0],\n",
       "           ...,\n",
       "           [0],\n",
       "           [0],\n",
       "           [0]]],\n",
       " \n",
       " \n",
       "         [[[0],\n",
       "           [0],\n",
       "           [0],\n",
       "           ...,\n",
       "           [0],\n",
       "           [0],\n",
       "           [0]],\n",
       " \n",
       "          [[0],\n",
       "           [0],\n",
       "           [0],\n",
       "           ...,\n",
       "           [0],\n",
       "           [0],\n",
       "           [0]],\n",
       " \n",
       "          [[0],\n",
       "           [0],\n",
       "           [0],\n",
       "           ...,\n",
       "           [0],\n",
       "           [0],\n",
       "           [0]],\n",
       " \n",
       "          ...,\n",
       " \n",
       "          [[0],\n",
       "           [0],\n",
       "           [0],\n",
       "           ...,\n",
       "           [0],\n",
       "           [0],\n",
       "           [0]],\n",
       " \n",
       "          [[0],\n",
       "           [0],\n",
       "           [0],\n",
       "           ...,\n",
       "           [0],\n",
       "           [0],\n",
       "           [0]],\n",
       " \n",
       "          [[0],\n",
       "           [0],\n",
       "           [0],\n",
       "           ...,\n",
       "           [0],\n",
       "           [0],\n",
       "           [0]]],\n",
       " \n",
       " \n",
       "         [[[0],\n",
       "           [0],\n",
       "           [0],\n",
       "           ...,\n",
       "           [0],\n",
       "           [0],\n",
       "           [0]],\n",
       " \n",
       "          [[0],\n",
       "           [0],\n",
       "           [0],\n",
       "           ...,\n",
       "           [0],\n",
       "           [0],\n",
       "           [0]],\n",
       " \n",
       "          [[0],\n",
       "           [0],\n",
       "           [0],\n",
       "           ...,\n",
       "           [0],\n",
       "           [0],\n",
       "           [0]],\n",
       " \n",
       "          ...,\n",
       " \n",
       "          [[0],\n",
       "           [0],\n",
       "           [0],\n",
       "           ...,\n",
       "           [0],\n",
       "           [0],\n",
       "           [0]],\n",
       " \n",
       "          [[0],\n",
       "           [0],\n",
       "           [0],\n",
       "           ...,\n",
       "           [0],\n",
       "           [0],\n",
       "           [0]],\n",
       " \n",
       "          [[0],\n",
       "           [0],\n",
       "           [0],\n",
       "           ...,\n",
       "           [0],\n",
       "           [0],\n",
       "           [0]]]],\n",
       " \n",
       " \n",
       " \n",
       "        [[[[0],\n",
       "           [0],\n",
       "           [0],\n",
       "           ...,\n",
       "           [0],\n",
       "           [0],\n",
       "           [0]],\n",
       " \n",
       "          [[0],\n",
       "           [0],\n",
       "           [0],\n",
       "           ...,\n",
       "           [0],\n",
       "           [0],\n",
       "           [0]],\n",
       " \n",
       "          [[0],\n",
       "           [0],\n",
       "           [0],\n",
       "           ...,\n",
       "           [0],\n",
       "           [0],\n",
       "           [0]],\n",
       " \n",
       "          ...,\n",
       " \n",
       "          [[0],\n",
       "           [0],\n",
       "           [0],\n",
       "           ...,\n",
       "           [0],\n",
       "           [0],\n",
       "           [0]],\n",
       " \n",
       "          [[0],\n",
       "           [0],\n",
       "           [0],\n",
       "           ...,\n",
       "           [0],\n",
       "           [0],\n",
       "           [0]],\n",
       " \n",
       "          [[0],\n",
       "           [0],\n",
       "           [0],\n",
       "           ...,\n",
       "           [0],\n",
       "           [0],\n",
       "           [0]]],\n",
       " \n",
       " \n",
       "         [[[0],\n",
       "           [0],\n",
       "           [0],\n",
       "           ...,\n",
       "           [0],\n",
       "           [0],\n",
       "           [0]],\n",
       " \n",
       "          [[0],\n",
       "           [0],\n",
       "           [0],\n",
       "           ...,\n",
       "           [0],\n",
       "           [0],\n",
       "           [0]],\n",
       " \n",
       "          [[0],\n",
       "           [0],\n",
       "           [0],\n",
       "           ...,\n",
       "           [0],\n",
       "           [0],\n",
       "           [0]],\n",
       " \n",
       "          ...,\n",
       " \n",
       "          [[0],\n",
       "           [0],\n",
       "           [0],\n",
       "           ...,\n",
       "           [0],\n",
       "           [0],\n",
       "           [0]],\n",
       " \n",
       "          [[0],\n",
       "           [0],\n",
       "           [0],\n",
       "           ...,\n",
       "           [0],\n",
       "           [0],\n",
       "           [0]],\n",
       " \n",
       "          [[0],\n",
       "           [0],\n",
       "           [0],\n",
       "           ...,\n",
       "           [0],\n",
       "           [0],\n",
       "           [0]]],\n",
       " \n",
       " \n",
       "         [[[0],\n",
       "           [0],\n",
       "           [0],\n",
       "           ...,\n",
       "           [0],\n",
       "           [0],\n",
       "           [0]],\n",
       " \n",
       "          [[0],\n",
       "           [0],\n",
       "           [0],\n",
       "           ...,\n",
       "           [0],\n",
       "           [0],\n",
       "           [0]],\n",
       " \n",
       "          [[0],\n",
       "           [0],\n",
       "           [0],\n",
       "           ...,\n",
       "           [0],\n",
       "           [0],\n",
       "           [0]],\n",
       " \n",
       "          ...,\n",
       " \n",
       "          [[0],\n",
       "           [0],\n",
       "           [0],\n",
       "           ...,\n",
       "           [0],\n",
       "           [0],\n",
       "           [0]],\n",
       " \n",
       "          [[0],\n",
       "           [0],\n",
       "           [0],\n",
       "           ...,\n",
       "           [0],\n",
       "           [0],\n",
       "           [0]],\n",
       " \n",
       "          [[0],\n",
       "           [0],\n",
       "           [0],\n",
       "           ...,\n",
       "           [0],\n",
       "           [0],\n",
       "           [0]]],\n",
       " \n",
       " \n",
       "         ...,\n",
       " \n",
       " \n",
       "         [[[0],\n",
       "           [0],\n",
       "           [0],\n",
       "           ...,\n",
       "           [0],\n",
       "           [0],\n",
       "           [0]],\n",
       " \n",
       "          [[0],\n",
       "           [0],\n",
       "           [0],\n",
       "           ...,\n",
       "           [0],\n",
       "           [0],\n",
       "           [0]],\n",
       " \n",
       "          [[0],\n",
       "           [0],\n",
       "           [0],\n",
       "           ...,\n",
       "           [0],\n",
       "           [0],\n",
       "           [0]],\n",
       " \n",
       "          ...,\n",
       " \n",
       "          [[0],\n",
       "           [0],\n",
       "           [0],\n",
       "           ...,\n",
       "           [0],\n",
       "           [0],\n",
       "           [0]],\n",
       " \n",
       "          [[0],\n",
       "           [0],\n",
       "           [0],\n",
       "           ...,\n",
       "           [0],\n",
       "           [0],\n",
       "           [0]],\n",
       " \n",
       "          [[0],\n",
       "           [0],\n",
       "           [0],\n",
       "           ...,\n",
       "           [0],\n",
       "           [0],\n",
       "           [0]]],\n",
       " \n",
       " \n",
       "         [[[0],\n",
       "           [0],\n",
       "           [0],\n",
       "           ...,\n",
       "           [0],\n",
       "           [0],\n",
       "           [0]],\n",
       " \n",
       "          [[0],\n",
       "           [0],\n",
       "           [0],\n",
       "           ...,\n",
       "           [0],\n",
       "           [0],\n",
       "           [0]],\n",
       " \n",
       "          [[0],\n",
       "           [0],\n",
       "           [0],\n",
       "           ...,\n",
       "           [0],\n",
       "           [0],\n",
       "           [0]],\n",
       " \n",
       "          ...,\n",
       " \n",
       "          [[0],\n",
       "           [0],\n",
       "           [0],\n",
       "           ...,\n",
       "           [0],\n",
       "           [0],\n",
       "           [0]],\n",
       " \n",
       "          [[0],\n",
       "           [0],\n",
       "           [0],\n",
       "           ...,\n",
       "           [0],\n",
       "           [0],\n",
       "           [0]],\n",
       " \n",
       "          [[0],\n",
       "           [0],\n",
       "           [0],\n",
       "           ...,\n",
       "           [0],\n",
       "           [0],\n",
       "           [0]]],\n",
       " \n",
       " \n",
       "         [[[0],\n",
       "           [0],\n",
       "           [0],\n",
       "           ...,\n",
       "           [0],\n",
       "           [0],\n",
       "           [0]],\n",
       " \n",
       "          [[0],\n",
       "           [0],\n",
       "           [0],\n",
       "           ...,\n",
       "           [0],\n",
       "           [0],\n",
       "           [0]],\n",
       " \n",
       "          [[0],\n",
       "           [0],\n",
       "           [0],\n",
       "           ...,\n",
       "           [0],\n",
       "           [0],\n",
       "           [0]],\n",
       " \n",
       "          ...,\n",
       " \n",
       "          [[0],\n",
       "           [0],\n",
       "           [0],\n",
       "           ...,\n",
       "           [0],\n",
       "           [0],\n",
       "           [0]],\n",
       " \n",
       "          [[0],\n",
       "           [0],\n",
       "           [0],\n",
       "           ...,\n",
       "           [0],\n",
       "           [0],\n",
       "           [0]],\n",
       " \n",
       "          [[0],\n",
       "           [0],\n",
       "           [0],\n",
       "           ...,\n",
       "           [0],\n",
       "           [0],\n",
       "           [0]]]],\n",
       " \n",
       " \n",
       " \n",
       "        ...,\n",
       " \n",
       " \n",
       " \n",
       "        [[[[0],\n",
       "           [0],\n",
       "           [0],\n",
       "           ...,\n",
       "           [0],\n",
       "           [0],\n",
       "           [0]],\n",
       " \n",
       "          [[0],\n",
       "           [0],\n",
       "           [0],\n",
       "           ...,\n",
       "           [0],\n",
       "           [0],\n",
       "           [0]],\n",
       " \n",
       "          [[0],\n",
       "           [0],\n",
       "           [0],\n",
       "           ...,\n",
       "           [0],\n",
       "           [0],\n",
       "           [0]],\n",
       " \n",
       "          ...,\n",
       " \n",
       "          [[0],\n",
       "           [0],\n",
       "           [0],\n",
       "           ...,\n",
       "           [0],\n",
       "           [0],\n",
       "           [0]],\n",
       " \n",
       "          [[0],\n",
       "           [0],\n",
       "           [0],\n",
       "           ...,\n",
       "           [0],\n",
       "           [0],\n",
       "           [0]],\n",
       " \n",
       "          [[0],\n",
       "           [0],\n",
       "           [0],\n",
       "           ...,\n",
       "           [0],\n",
       "           [0],\n",
       "           [0]]],\n",
       " \n",
       " \n",
       "         [[[0],\n",
       "           [0],\n",
       "           [0],\n",
       "           ...,\n",
       "           [0],\n",
       "           [0],\n",
       "           [0]],\n",
       " \n",
       "          [[0],\n",
       "           [0],\n",
       "           [0],\n",
       "           ...,\n",
       "           [0],\n",
       "           [0],\n",
       "           [0]],\n",
       " \n",
       "          [[0],\n",
       "           [0],\n",
       "           [0],\n",
       "           ...,\n",
       "           [0],\n",
       "           [0],\n",
       "           [0]],\n",
       " \n",
       "          ...,\n",
       " \n",
       "          [[0],\n",
       "           [0],\n",
       "           [0],\n",
       "           ...,\n",
       "           [0],\n",
       "           [0],\n",
       "           [0]],\n",
       " \n",
       "          [[0],\n",
       "           [0],\n",
       "           [0],\n",
       "           ...,\n",
       "           [0],\n",
       "           [0],\n",
       "           [0]],\n",
       " \n",
       "          [[0],\n",
       "           [0],\n",
       "           [0],\n",
       "           ...,\n",
       "           [0],\n",
       "           [0],\n",
       "           [0]]],\n",
       " \n",
       " \n",
       "         [[[0],\n",
       "           [0],\n",
       "           [0],\n",
       "           ...,\n",
       "           [0],\n",
       "           [0],\n",
       "           [0]],\n",
       " \n",
       "          [[0],\n",
       "           [0],\n",
       "           [0],\n",
       "           ...,\n",
       "           [0],\n",
       "           [0],\n",
       "           [0]],\n",
       " \n",
       "          [[0],\n",
       "           [0],\n",
       "           [0],\n",
       "           ...,\n",
       "           [0],\n",
       "           [0],\n",
       "           [0]],\n",
       " \n",
       "          ...,\n",
       " \n",
       "          [[0],\n",
       "           [0],\n",
       "           [0],\n",
       "           ...,\n",
       "           [0],\n",
       "           [0],\n",
       "           [0]],\n",
       " \n",
       "          [[0],\n",
       "           [0],\n",
       "           [0],\n",
       "           ...,\n",
       "           [0],\n",
       "           [0],\n",
       "           [0]],\n",
       " \n",
       "          [[0],\n",
       "           [0],\n",
       "           [0],\n",
       "           ...,\n",
       "           [0],\n",
       "           [0],\n",
       "           [0]]],\n",
       " \n",
       " \n",
       "         ...,\n",
       " \n",
       " \n",
       "         [[[0],\n",
       "           [0],\n",
       "           [0],\n",
       "           ...,\n",
       "           [0],\n",
       "           [0],\n",
       "           [0]],\n",
       " \n",
       "          [[0],\n",
       "           [0],\n",
       "           [0],\n",
       "           ...,\n",
       "           [0],\n",
       "           [0],\n",
       "           [0]],\n",
       " \n",
       "          [[0],\n",
       "           [0],\n",
       "           [0],\n",
       "           ...,\n",
       "           [0],\n",
       "           [0],\n",
       "           [0]],\n",
       " \n",
       "          ...,\n",
       " \n",
       "          [[0],\n",
       "           [0],\n",
       "           [0],\n",
       "           ...,\n",
       "           [0],\n",
       "           [0],\n",
       "           [0]],\n",
       " \n",
       "          [[0],\n",
       "           [0],\n",
       "           [0],\n",
       "           ...,\n",
       "           [0],\n",
       "           [0],\n",
       "           [0]],\n",
       " \n",
       "          [[0],\n",
       "           [0],\n",
       "           [0],\n",
       "           ...,\n",
       "           [0],\n",
       "           [0],\n",
       "           [0]]],\n",
       " \n",
       " \n",
       "         [[[0],\n",
       "           [0],\n",
       "           [0],\n",
       "           ...,\n",
       "           [0],\n",
       "           [0],\n",
       "           [0]],\n",
       " \n",
       "          [[0],\n",
       "           [0],\n",
       "           [0],\n",
       "           ...,\n",
       "           [0],\n",
       "           [0],\n",
       "           [0]],\n",
       " \n",
       "          [[0],\n",
       "           [0],\n",
       "           [0],\n",
       "           ...,\n",
       "           [0],\n",
       "           [0],\n",
       "           [0]],\n",
       " \n",
       "          ...,\n",
       " \n",
       "          [[0],\n",
       "           [0],\n",
       "           [0],\n",
       "           ...,\n",
       "           [0],\n",
       "           [0],\n",
       "           [0]],\n",
       " \n",
       "          [[0],\n",
       "           [0],\n",
       "           [0],\n",
       "           ...,\n",
       "           [0],\n",
       "           [0],\n",
       "           [0]],\n",
       " \n",
       "          [[0],\n",
       "           [0],\n",
       "           [0],\n",
       "           ...,\n",
       "           [0],\n",
       "           [0],\n",
       "           [0]]],\n",
       " \n",
       " \n",
       "         [[[0],\n",
       "           [0],\n",
       "           [0],\n",
       "           ...,\n",
       "           [0],\n",
       "           [0],\n",
       "           [0]],\n",
       " \n",
       "          [[0],\n",
       "           [0],\n",
       "           [0],\n",
       "           ...,\n",
       "           [0],\n",
       "           [0],\n",
       "           [0]],\n",
       " \n",
       "          [[0],\n",
       "           [0],\n",
       "           [0],\n",
       "           ...,\n",
       "           [0],\n",
       "           [0],\n",
       "           [0]],\n",
       " \n",
       "          ...,\n",
       " \n",
       "          [[0],\n",
       "           [0],\n",
       "           [0],\n",
       "           ...,\n",
       "           [0],\n",
       "           [0],\n",
       "           [0]],\n",
       " \n",
       "          [[0],\n",
       "           [0],\n",
       "           [0],\n",
       "           ...,\n",
       "           [0],\n",
       "           [0],\n",
       "           [0]],\n",
       " \n",
       "          [[0],\n",
       "           [0],\n",
       "           [0],\n",
       "           ...,\n",
       "           [0],\n",
       "           [0],\n",
       "           [0]]]],\n",
       " \n",
       " \n",
       " \n",
       "        [[[[0],\n",
       "           [0],\n",
       "           [0],\n",
       "           ...,\n",
       "           [0],\n",
       "           [0],\n",
       "           [0]],\n",
       " \n",
       "          [[0],\n",
       "           [0],\n",
       "           [0],\n",
       "           ...,\n",
       "           [0],\n",
       "           [0],\n",
       "           [0]],\n",
       " \n",
       "          [[0],\n",
       "           [0],\n",
       "           [0],\n",
       "           ...,\n",
       "           [0],\n",
       "           [0],\n",
       "           [0]],\n",
       " \n",
       "          ...,\n",
       " \n",
       "          [[0],\n",
       "           [0],\n",
       "           [0],\n",
       "           ...,\n",
       "           [0],\n",
       "           [0],\n",
       "           [0]],\n",
       " \n",
       "          [[0],\n",
       "           [0],\n",
       "           [0],\n",
       "           ...,\n",
       "           [0],\n",
       "           [0],\n",
       "           [0]],\n",
       " \n",
       "          [[0],\n",
       "           [0],\n",
       "           [0],\n",
       "           ...,\n",
       "           [0],\n",
       "           [0],\n",
       "           [0]]],\n",
       " \n",
       " \n",
       "         [[[0],\n",
       "           [0],\n",
       "           [0],\n",
       "           ...,\n",
       "           [0],\n",
       "           [0],\n",
       "           [0]],\n",
       " \n",
       "          [[0],\n",
       "           [0],\n",
       "           [0],\n",
       "           ...,\n",
       "           [0],\n",
       "           [0],\n",
       "           [0]],\n",
       " \n",
       "          [[0],\n",
       "           [0],\n",
       "           [0],\n",
       "           ...,\n",
       "           [0],\n",
       "           [0],\n",
       "           [0]],\n",
       " \n",
       "          ...,\n",
       " \n",
       "          [[0],\n",
       "           [0],\n",
       "           [0],\n",
       "           ...,\n",
       "           [0],\n",
       "           [0],\n",
       "           [0]],\n",
       " \n",
       "          [[0],\n",
       "           [0],\n",
       "           [0],\n",
       "           ...,\n",
       "           [0],\n",
       "           [0],\n",
       "           [0]],\n",
       " \n",
       "          [[0],\n",
       "           [0],\n",
       "           [0],\n",
       "           ...,\n",
       "           [0],\n",
       "           [0],\n",
       "           [0]]],\n",
       " \n",
       " \n",
       "         [[[0],\n",
       "           [0],\n",
       "           [0],\n",
       "           ...,\n",
       "           [0],\n",
       "           [0],\n",
       "           [0]],\n",
       " \n",
       "          [[0],\n",
       "           [0],\n",
       "           [0],\n",
       "           ...,\n",
       "           [0],\n",
       "           [0],\n",
       "           [0]],\n",
       " \n",
       "          [[0],\n",
       "           [0],\n",
       "           [0],\n",
       "           ...,\n",
       "           [0],\n",
       "           [0],\n",
       "           [0]],\n",
       " \n",
       "          ...,\n",
       " \n",
       "          [[0],\n",
       "           [0],\n",
       "           [0],\n",
       "           ...,\n",
       "           [0],\n",
       "           [0],\n",
       "           [0]],\n",
       " \n",
       "          [[0],\n",
       "           [0],\n",
       "           [0],\n",
       "           ...,\n",
       "           [0],\n",
       "           [0],\n",
       "           [0]],\n",
       " \n",
       "          [[0],\n",
       "           [0],\n",
       "           [0],\n",
       "           ...,\n",
       "           [0],\n",
       "           [0],\n",
       "           [0]]],\n",
       " \n",
       " \n",
       "         ...,\n",
       " \n",
       " \n",
       "         [[[0],\n",
       "           [0],\n",
       "           [0],\n",
       "           ...,\n",
       "           [0],\n",
       "           [0],\n",
       "           [0]],\n",
       " \n",
       "          [[0],\n",
       "           [0],\n",
       "           [0],\n",
       "           ...,\n",
       "           [0],\n",
       "           [0],\n",
       "           [0]],\n",
       " \n",
       "          [[0],\n",
       "           [0],\n",
       "           [0],\n",
       "           ...,\n",
       "           [0],\n",
       "           [0],\n",
       "           [0]],\n",
       " \n",
       "          ...,\n",
       " \n",
       "          [[0],\n",
       "           [0],\n",
       "           [0],\n",
       "           ...,\n",
       "           [0],\n",
       "           [0],\n",
       "           [0]],\n",
       " \n",
       "          [[0],\n",
       "           [0],\n",
       "           [0],\n",
       "           ...,\n",
       "           [0],\n",
       "           [0],\n",
       "           [0]],\n",
       " \n",
       "          [[0],\n",
       "           [0],\n",
       "           [0],\n",
       "           ...,\n",
       "           [0],\n",
       "           [0],\n",
       "           [0]]],\n",
       " \n",
       " \n",
       "         [[[0],\n",
       "           [0],\n",
       "           [0],\n",
       "           ...,\n",
       "           [0],\n",
       "           [0],\n",
       "           [0]],\n",
       " \n",
       "          [[0],\n",
       "           [0],\n",
       "           [0],\n",
       "           ...,\n",
       "           [0],\n",
       "           [0],\n",
       "           [0]],\n",
       " \n",
       "          [[0],\n",
       "           [0],\n",
       "           [0],\n",
       "           ...,\n",
       "           [0],\n",
       "           [0],\n",
       "           [0]],\n",
       " \n",
       "          ...,\n",
       " \n",
       "          [[0],\n",
       "           [0],\n",
       "           [0],\n",
       "           ...,\n",
       "           [0],\n",
       "           [0],\n",
       "           [0]],\n",
       " \n",
       "          [[0],\n",
       "           [0],\n",
       "           [0],\n",
       "           ...,\n",
       "           [0],\n",
       "           [0],\n",
       "           [0]],\n",
       " \n",
       "          [[0],\n",
       "           [0],\n",
       "           [0],\n",
       "           ...,\n",
       "           [0],\n",
       "           [0],\n",
       "           [0]]],\n",
       " \n",
       " \n",
       "         [[[0],\n",
       "           [0],\n",
       "           [0],\n",
       "           ...,\n",
       "           [0],\n",
       "           [0],\n",
       "           [0]],\n",
       " \n",
       "          [[0],\n",
       "           [0],\n",
       "           [0],\n",
       "           ...,\n",
       "           [0],\n",
       "           [0],\n",
       "           [0]],\n",
       " \n",
       "          [[0],\n",
       "           [0],\n",
       "           [0],\n",
       "           ...,\n",
       "           [0],\n",
       "           [0],\n",
       "           [0]],\n",
       " \n",
       "          ...,\n",
       " \n",
       "          [[0],\n",
       "           [0],\n",
       "           [0],\n",
       "           ...,\n",
       "           [0],\n",
       "           [0],\n",
       "           [0]],\n",
       " \n",
       "          [[0],\n",
       "           [0],\n",
       "           [0],\n",
       "           ...,\n",
       "           [0],\n",
       "           [0],\n",
       "           [0]],\n",
       " \n",
       "          [[0],\n",
       "           [0],\n",
       "           [0],\n",
       "           ...,\n",
       "           [0],\n",
       "           [0],\n",
       "           [0]]]],\n",
       " \n",
       " \n",
       " \n",
       "        [[[[0],\n",
       "           [0],\n",
       "           [0],\n",
       "           ...,\n",
       "           [0],\n",
       "           [0],\n",
       "           [0]],\n",
       " \n",
       "          [[0],\n",
       "           [0],\n",
       "           [0],\n",
       "           ...,\n",
       "           [0],\n",
       "           [0],\n",
       "           [0]],\n",
       " \n",
       "          [[0],\n",
       "           [0],\n",
       "           [0],\n",
       "           ...,\n",
       "           [0],\n",
       "           [0],\n",
       "           [0]],\n",
       " \n",
       "          ...,\n",
       " \n",
       "          [[0],\n",
       "           [0],\n",
       "           [0],\n",
       "           ...,\n",
       "           [0],\n",
       "           [0],\n",
       "           [0]],\n",
       " \n",
       "          [[0],\n",
       "           [0],\n",
       "           [0],\n",
       "           ...,\n",
       "           [0],\n",
       "           [0],\n",
       "           [0]],\n",
       " \n",
       "          [[0],\n",
       "           [0],\n",
       "           [0],\n",
       "           ...,\n",
       "           [0],\n",
       "           [0],\n",
       "           [0]]],\n",
       " \n",
       " \n",
       "         [[[0],\n",
       "           [0],\n",
       "           [0],\n",
       "           ...,\n",
       "           [0],\n",
       "           [0],\n",
       "           [0]],\n",
       " \n",
       "          [[0],\n",
       "           [0],\n",
       "           [0],\n",
       "           ...,\n",
       "           [0],\n",
       "           [0],\n",
       "           [0]],\n",
       " \n",
       "          [[0],\n",
       "           [0],\n",
       "           [0],\n",
       "           ...,\n",
       "           [0],\n",
       "           [0],\n",
       "           [0]],\n",
       " \n",
       "          ...,\n",
       " \n",
       "          [[0],\n",
       "           [0],\n",
       "           [0],\n",
       "           ...,\n",
       "           [0],\n",
       "           [0],\n",
       "           [0]],\n",
       " \n",
       "          [[0],\n",
       "           [0],\n",
       "           [0],\n",
       "           ...,\n",
       "           [0],\n",
       "           [0],\n",
       "           [0]],\n",
       " \n",
       "          [[0],\n",
       "           [0],\n",
       "           [0],\n",
       "           ...,\n",
       "           [0],\n",
       "           [0],\n",
       "           [0]]],\n",
       " \n",
       " \n",
       "         [[[0],\n",
       "           [0],\n",
       "           [0],\n",
       "           ...,\n",
       "           [0],\n",
       "           [0],\n",
       "           [0]],\n",
       " \n",
       "          [[0],\n",
       "           [0],\n",
       "           [0],\n",
       "           ...,\n",
       "           [0],\n",
       "           [0],\n",
       "           [0]],\n",
       " \n",
       "          [[0],\n",
       "           [0],\n",
       "           [0],\n",
       "           ...,\n",
       "           [0],\n",
       "           [0],\n",
       "           [0]],\n",
       " \n",
       "          ...,\n",
       " \n",
       "          [[0],\n",
       "           [0],\n",
       "           [0],\n",
       "           ...,\n",
       "           [0],\n",
       "           [0],\n",
       "           [0]],\n",
       " \n",
       "          [[0],\n",
       "           [0],\n",
       "           [0],\n",
       "           ...,\n",
       "           [0],\n",
       "           [0],\n",
       "           [0]],\n",
       " \n",
       "          [[0],\n",
       "           [0],\n",
       "           [0],\n",
       "           ...,\n",
       "           [0],\n",
       "           [0],\n",
       "           [0]]],\n",
       " \n",
       " \n",
       "         ...,\n",
       " \n",
       " \n",
       "         [[[0],\n",
       "           [0],\n",
       "           [0],\n",
       "           ...,\n",
       "           [0],\n",
       "           [0],\n",
       "           [0]],\n",
       " \n",
       "          [[0],\n",
       "           [0],\n",
       "           [0],\n",
       "           ...,\n",
       "           [0],\n",
       "           [0],\n",
       "           [0]],\n",
       " \n",
       "          [[0],\n",
       "           [0],\n",
       "           [0],\n",
       "           ...,\n",
       "           [0],\n",
       "           [0],\n",
       "           [0]],\n",
       " \n",
       "          ...,\n",
       " \n",
       "          [[0],\n",
       "           [0],\n",
       "           [0],\n",
       "           ...,\n",
       "           [0],\n",
       "           [0],\n",
       "           [0]],\n",
       " \n",
       "          [[0],\n",
       "           [0],\n",
       "           [0],\n",
       "           ...,\n",
       "           [0],\n",
       "           [0],\n",
       "           [0]],\n",
       " \n",
       "          [[0],\n",
       "           [0],\n",
       "           [0],\n",
       "           ...,\n",
       "           [0],\n",
       "           [0],\n",
       "           [0]]],\n",
       " \n",
       " \n",
       "         [[[0],\n",
       "           [0],\n",
       "           [0],\n",
       "           ...,\n",
       "           [0],\n",
       "           [0],\n",
       "           [0]],\n",
       " \n",
       "          [[0],\n",
       "           [0],\n",
       "           [0],\n",
       "           ...,\n",
       "           [0],\n",
       "           [0],\n",
       "           [0]],\n",
       " \n",
       "          [[0],\n",
       "           [0],\n",
       "           [0],\n",
       "           ...,\n",
       "           [0],\n",
       "           [0],\n",
       "           [0]],\n",
       " \n",
       "          ...,\n",
       " \n",
       "          [[0],\n",
       "           [0],\n",
       "           [0],\n",
       "           ...,\n",
       "           [0],\n",
       "           [0],\n",
       "           [0]],\n",
       " \n",
       "          [[0],\n",
       "           [0],\n",
       "           [0],\n",
       "           ...,\n",
       "           [0],\n",
       "           [0],\n",
       "           [0]],\n",
       " \n",
       "          [[0],\n",
       "           [0],\n",
       "           [0],\n",
       "           ...,\n",
       "           [0],\n",
       "           [0],\n",
       "           [0]]],\n",
       " \n",
       " \n",
       "         [[[0],\n",
       "           [0],\n",
       "           [0],\n",
       "           ...,\n",
       "           [0],\n",
       "           [0],\n",
       "           [0]],\n",
       " \n",
       "          [[0],\n",
       "           [0],\n",
       "           [0],\n",
       "           ...,\n",
       "           [0],\n",
       "           [0],\n",
       "           [0]],\n",
       " \n",
       "          [[0],\n",
       "           [0],\n",
       "           [0],\n",
       "           ...,\n",
       "           [0],\n",
       "           [0],\n",
       "           [0]],\n",
       " \n",
       "          ...,\n",
       " \n",
       "          [[0],\n",
       "           [0],\n",
       "           [0],\n",
       "           ...,\n",
       "           [0],\n",
       "           [0],\n",
       "           [0]],\n",
       " \n",
       "          [[0],\n",
       "           [0],\n",
       "           [0],\n",
       "           ...,\n",
       "           [0],\n",
       "           [0],\n",
       "           [0]],\n",
       " \n",
       "          [[0],\n",
       "           [0],\n",
       "           [0],\n",
       "           ...,\n",
       "           [0],\n",
       "           [0],\n",
       "           [0]]]]], dtype=int16))"
      ]
     },
     "execution_count": 2,
     "metadata": {},
     "output_type": "execute_result"
    }
   ],
   "source": [
    "crop_path = \"/neurospin/dico/data/deep_folding/current/datasets/UkBioBank/crops/2mm/CINGULATE/mask/Rlabels/\"\n",
    "save_path = \"/neurospin/dico/data/deep_folding/current/datasets/UkBioBank/crops/2mm/CINGULATE/mask\"\n",
    "file_basename = 'Rlabel_most_folded_551'\n",
    "\n",
    "subset_df = pd.read_csv(\"/neurospin/dico/agaudin/Runs/05_rigourous/2022_jchavas_cingulate_inhibitory_control/contrastive/notebooks/most_folded_551.csv\", header=None)\n",
    "subset_list = subset_df.values.flatten().tolist()\n",
    "\n",
    "save_to_numpy(crop_path, subset_list=subset_list, tgt_dir=save_path, file_basename=file_basename)"
   ]
  },
  {
   "cell_type": "code",
   "execution_count": 3,
   "metadata": {},
   "outputs": [
    {
     "name": "stdout",
     "output_type": "stream",
     "text": [
      "(551, 17, 40, 38, 1)\n",
      "[   0    1    2 ... 7626 7690 7713]\n"
     ]
    }
   ],
   "source": [
    "arr = np.load(save_path+'/'+file_basename+'.npy')\n",
    "print(arr.shape)\n",
    "print(np.unique(arr))"
   ]
  },
  {
   "cell_type": "code",
   "execution_count": 6,
   "metadata": {},
   "outputs": [
    {
     "name": "stdout",
     "output_type": "stream",
     "text": [
      "(551, 17, 40, 38, 1)\n",
      "[  0  30  35  60 100 120]\n"
     ]
    }
   ],
   "source": [
    "arr = np.load(\"/neurospin/dico/data/deep_folding/current/datasets/UkBioBank/crops/2mm/CINGULATE/mask/subsets/Rskeleton_most_folded_551.npy\")\n",
    "print(arr.shape)\n",
    "print(np.unique(arr))"
   ]
  }
 ],
 "metadata": {
  "kernelspec": {
   "display_name": "venv_df",
   "language": "python",
   "name": "python3"
  },
  "language_info": {
   "codemirror_mode": {
    "name": "ipython",
    "version": 3
   },
   "file_extension": ".py",
   "mimetype": "text/x-python",
   "name": "python",
   "nbconvert_exporter": "python",
   "pygments_lexer": "ipython3",
   "version": "3.6.9"
  },
  "orig_nbformat": 4,
  "vscode": {
   "interpreter": {
    "hash": "67e4201290d1febdd63c4febf7d6d764e4488466c866e3719bfd98a417965338"
   }
  }
 },
 "nbformat": 4,
 "nbformat_minor": 2
}
