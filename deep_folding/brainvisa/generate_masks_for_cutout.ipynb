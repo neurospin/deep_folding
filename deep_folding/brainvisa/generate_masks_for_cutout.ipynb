{
 "cells": [
  {
   "cell_type": "code",
   "execution_count": 1,
   "metadata": {},
   "outputs": [
    {
     "name": "stderr",
     "output_type": "stream",
     "text": [
      "/usr/lib/python3/dist-packages/scipy/__init__.py:146: UserWarning: A NumPy version >=1.17.3 and <1.25.0 is required for this version of SciPy (detected version 1.26.4\n",
      "  warnings.warn(f\"A NumPy version >={np_minversion} and <{np_maxversion}\"\n"
     ]
    }
   ],
   "source": [
    "import os\n",
    "import numpy as np\n",
    "from soma import aims"
   ]
  },
  {
   "cell_type": "code",
   "execution_count": 2,
   "metadata": {},
   "outputs": [],
   "source": [
    "sulcus_list = ['F.Coll.-S.Rh.', 'S.F.median-S.F.pol.tr.-S.F.sup.', 'S.F.inf.-BROCA-S.Pe.C.inf.', \\\n",
    "               'S.Po.C.', 'fronto-parietal_medial_face.', 'F.I.P.', 'S.T.s.-S.GSM.', 'CINGULATE.', \\\n",
    "               'F.C.L.p.-S.GSM.', 'S.C.-S.Po.C.', 'S.F.inter.-S.F.sup.', 'F.C.M.post.-S.p.C.', \\\n",
    "               'S.s.P.-S.Pa.int.', 'S.Or.-S.Olf.', 'F.P.O.-S.Cu.-Sc.Cal.', 'S.F.marginal-S.F.inf.ant.', \\\n",
    "               'S.F.int.-F.C.M.ant.', 'S.T.i.-S.T.s.-S.T.pol.', 'S.F.int.-S.R.', 'Lobule_parietal_sup.', \\\n",
    "               'S.T.i.-S.O.T.lat.', 'S.Pe.C.', 'S.T.s.br.', 'Sc.Cal.-S.Li.', 'S.T.s.', 'F.C.L.p.-subsc.-F.C.L.a.-INSULA.', \\\n",
    "               'S.C.-sylv.', 'S.C.-S.Pe.C.', 'OCCIPITAL', 'S.Or.', 'deMatos.']\n",
    "sulcus_list = ['S.Call.', 'S.Call.-S.s.P.-S.intraCing.','F.I.P.-F.I.P.Po.C.inf.']\n",
    "sides = ['L', 'R']"
   ]
  },
  {
   "cell_type": "code",
   "execution_count": 3,
   "metadata": {},
   "outputs": [
    {
     "data": {
      "text/plain": [
       "(66, 6, 0)"
      ]
     },
     "execution_count": 3,
     "metadata": {},
     "output_type": "execute_result"
    }
   ],
   "source": [
    "## check that the list matches the crops regions\n",
    "list_regions = os.listdir('/neurospin/dico/jlaval/Runs_jl277509/2023_jlaval_STSbabies/contrastive/configs/dataset/julien/UKB40/sparse_load')\n",
    "list_regions = [elem[:-23] for elem in list_regions]\n",
    "list_sulci = [''.join(sulcus.split('.'))+f'_{side}' for sulcus in sulcus_list for side in ['left', 'right']]\n",
    "len(list_regions), len(list_sulci), len(set(list_regions).intersection(set(list_sulci)))"
   ]
  },
  {
   "cell_type": "code",
   "execution_count": null,
   "metadata": {},
   "outputs": [],
   "source": []
  },
  {
   "cell_type": "code",
   "execution_count": null,
   "metadata": {},
   "outputs": [
    {
     "ename": "FileNotFoundError",
     "evalue": "[Errno 2] No such file or directory: '/neurospin/dico/data/deep_folding/current/datasets/UkBioBank40/crops/2mm/mask/S.Call.'",
     "output_type": "error",
     "traceback": [
      "\u001b[0;31m---------------------------------------------------------------------------\u001b[0m",
      "\u001b[0;31mFileNotFoundError\u001b[0m                         Traceback (most recent call last)",
      "\u001b[0;32m<ipython-input-6-64fa6f8c9e18>\u001b[0m in \u001b[0;36m<module>\u001b[0;34m\u001b[0m\n\u001b[1;32m     13\u001b[0m         \u001b[0;32melse\u001b[0m\u001b[0;34m:\u001b[0m\u001b[0;34m\u001b[0m\u001b[0;34m\u001b[0m\u001b[0m\n\u001b[1;32m     14\u001b[0m             \u001b[0;32mif\u001b[0m \u001b[0;32mnot\u001b[0m \u001b[0mos\u001b[0m\u001b[0;34m.\u001b[0m\u001b[0mpath\u001b[0m\u001b[0;34m.\u001b[0m\u001b[0misdir\u001b[0m\u001b[0;34m(\u001b[0m\u001b[0mmask_save_dir\u001b[0m\u001b[0;34m)\u001b[0m\u001b[0;34m:\u001b[0m\u001b[0;34m\u001b[0m\u001b[0;34m\u001b[0m\u001b[0m\n\u001b[0;32m---> 15\u001b[0;31m                 \u001b[0mos\u001b[0m\u001b[0;34m.\u001b[0m\u001b[0mmkdir\u001b[0m\u001b[0;34m(\u001b[0m\u001b[0mmask_save_dir\u001b[0m\u001b[0;34m)\u001b[0m\u001b[0;34m\u001b[0m\u001b[0;34m\u001b[0m\u001b[0m\n\u001b[0m\u001b[1;32m     16\u001b[0m             \u001b[0mvol\u001b[0m \u001b[0;34m=\u001b[0m \u001b[0maims\u001b[0m\u001b[0;34m.\u001b[0m\u001b[0mread\u001b[0m\u001b[0;34m(\u001b[0m\u001b[0mmask_load_dir\u001b[0m\u001b[0;34m)\u001b[0m\u001b[0;34m\u001b[0m\u001b[0;34m\u001b[0m\u001b[0m\n\u001b[1;32m     17\u001b[0m             \u001b[0marr\u001b[0m \u001b[0;34m=\u001b[0m \u001b[0mvol\u001b[0m\u001b[0;34m.\u001b[0m\u001b[0mnp\u001b[0m\u001b[0;34m\u001b[0m\u001b[0;34m\u001b[0m\u001b[0m\n",
      "\u001b[0;31mFileNotFoundError\u001b[0m: [Errno 2] No such file or directory: '/neurospin/dico/data/deep_folding/current/datasets/UkBioBank40/crops/2mm/mask/S.Call.'"
     ]
    }
   ],
   "source": [
    "#save_dataset_folder = '/home_local/jl277509/data/sparse_load/UkBioBank40/crops/2mm/'\n",
    "save_dataset_folder = '/neurospin/dico/data/deep_folding/current/datasets/UkBioBank40/crops/2mm/'\n",
    "read_dataset_folder = '/neurospin/dico/data/deep_folding/current/datasets/UkBioBank40/crops/2mm/'\n",
    "\n",
    "\n",
    "for sulcus in sulcus_list:\n",
    "    for side in sides:\n",
    "        mask_load_dir = os.path.join(read_dataset_folder, f'{sulcus}/mask/{side}mask_cropped.nii.gz')\n",
    "        mask_save_dir = os.path.join(save_dataset_folder,f'{sulcus}')\n",
    "        mask_save_filename = os.path.join(mask_save_dir, f'{side}mask.npy')\n",
    "        if os.path.isfile(mask_save_filename):\n",
    "            print(f'{sulcus}/{side} mask exists.')\n",
    "        else:\n",
    "            if not os.path.isdir(mask_save_dir):\n",
    "                os.mkdir(mask_save_dir)\n",
    "            vol = aims.read(mask_load_dir)\n",
    "            arr = vol.np\n",
    "            arr = arr.astype(bool)\n",
    "            np.save(mask_save_filename, arr)\n",
    "            print(f'Nb vx in mask {sulcus}/{side}: {np.sum(arr)}')\n"
   ]
  },
  {
   "cell_type": "code",
   "execution_count": 26,
   "metadata": {},
   "outputs": [],
   "source": [
    "## make a config name list\n",
    "list_config_names = ['julien/UKB40/sparse_load/'+''.join(sulcus.split('.'))+f'_{side}_UKB40_sparse_load' for sulcus in sulcus_list for side in ['left', 'right']]"
   ]
  },
  {
   "cell_type": "code",
   "execution_count": 27,
   "metadata": {},
   "outputs": [
    {
     "data": {
      "text/plain": [
       "62"
      ]
     },
     "execution_count": 27,
     "metadata": {},
     "output_type": "execute_result"
    }
   ],
   "source": [
    "len(list_config_names)"
   ]
  },
  {
   "cell_type": "code",
   "execution_count": 30,
   "metadata": {},
   "outputs": [
    {
     "name": "stdout",
     "output_type": "stream",
     "text": [
      "julien/UKB40/sparse_load/FColl-SRh_left_UKB40_sparse_load,julien/UKB40/sparse_load/FColl-SRh_right_UKB40_sparse_load,julien/UKB40/sparse_load/SFmedian-SFpoltr-SFsup_left_UKB40_sparse_load,julien/UKB40/sparse_load/SFmedian-SFpoltr-SFsup_right_UKB40_sparse_load,julien/UKB40/sparse_load/SFinf-BROCA-SPeCinf_left_UKB40_sparse_load,julien/UKB40/sparse_load/SFinf-BROCA-SPeCinf_right_UKB40_sparse_load,julien/UKB40/sparse_load/SPoC_left_UKB40_sparse_load,julien/UKB40/sparse_load/SPoC_right_UKB40_sparse_load,julien/UKB40/sparse_load/fronto-parietal_medial_face_left_UKB40_sparse_load,julien/UKB40/sparse_load/fronto-parietal_medial_face_right_UKB40_sparse_load,julien/UKB40/sparse_load/FIP_left_UKB40_sparse_load,julien/UKB40/sparse_load/FIP_right_UKB40_sparse_load,julien/UKB40/sparse_load/STs-SGSM_left_UKB40_sparse_load,julien/UKB40/sparse_load/STs-SGSM_right_UKB40_sparse_load,julien/UKB40/sparse_load/CINGULATE_left_UKB40_sparse_load,julien/UKB40/sparse_load/CINGULATE_right_UKB40_sparse_load,julien/UKB40/sparse_load/FCLp-SGSM_left_UKB40_sparse_load,julien/UKB40/sparse_load/FCLp-SGSM_right_UKB40_sparse_load,julien/UKB40/sparse_load/SC-SPoC_left_UKB40_sparse_load,julien/UKB40/sparse_load/SC-SPoC_right_UKB40_sparse_load,julien/UKB40/sparse_load/SFinter-SFsup_left_UKB40_sparse_load,julien/UKB40/sparse_load/SFinter-SFsup_right_UKB40_sparse_load,julien/UKB40/sparse_load/FCMpost-SpC_left_UKB40_sparse_load,julien/UKB40/sparse_load/FCMpost-SpC_right_UKB40_sparse_load,julien/UKB40/sparse_load/SsP-SPaint_left_UKB40_sparse_load,julien/UKB40/sparse_load/SsP-SPaint_right_UKB40_sparse_load,julien/UKB40/sparse_load/SOr-SOlf_left_UKB40_sparse_load,julien/UKB40/sparse_load/SOr-SOlf_right_UKB40_sparse_load,julien/UKB40/sparse_load/FPO-SCu-ScCal_left_UKB40_sparse_load,julien/UKB40/sparse_load/FPO-SCu-ScCal_right_UKB40_sparse_load,julien/UKB40/sparse_load/SFmarginal-SFinfant_left_UKB40_sparse_load,julien/UKB40/sparse_load/SFmarginal-SFinfant_right_UKB40_sparse_load,julien/UKB40/sparse_load/SFint-FCMant_left_UKB40_sparse_load,julien/UKB40/sparse_load/SFint-FCMant_right_UKB40_sparse_load,julien/UKB40/sparse_load/STi-STs-STpol_left_UKB40_sparse_load,julien/UKB40/sparse_load/STi-STs-STpol_right_UKB40_sparse_load,julien/UKB40/sparse_load/SFint-SR_left_UKB40_sparse_load,julien/UKB40/sparse_load/SFint-SR_right_UKB40_sparse_load,julien/UKB40/sparse_load/Lobule_parietal_sup_left_UKB40_sparse_load,julien/UKB40/sparse_load/Lobule_parietal_sup_right_UKB40_sparse_load,julien/UKB40/sparse_load/STi-SOTlat_left_UKB40_sparse_load,julien/UKB40/sparse_load/STi-SOTlat_right_UKB40_sparse_load,julien/UKB40/sparse_load/SPeC_left_UKB40_sparse_load,julien/UKB40/sparse_load/SPeC_right_UKB40_sparse_load,julien/UKB40/sparse_load/STsbr_left_UKB40_sparse_load,julien/UKB40/sparse_load/STsbr_right_UKB40_sparse_load,julien/UKB40/sparse_load/ScCal-SLi_left_UKB40_sparse_load,julien/UKB40/sparse_load/ScCal-SLi_right_UKB40_sparse_load,julien/UKB40/sparse_load/STs_left_UKB40_sparse_load,julien/UKB40/sparse_load/STs_right_UKB40_sparse_load,julien/UKB40/sparse_load/FCLp-subsc-FCLa-INSULA_left_UKB40_sparse_load,julien/UKB40/sparse_load/FCLp-subsc-FCLa-INSULA_right_UKB40_sparse_load,julien/UKB40/sparse_load/SC-sylv_left_UKB40_sparse_load,julien/UKB40/sparse_load/SC-sylv_right_UKB40_sparse_load,julien/UKB40/sparse_load/SC-SPeC_left_UKB40_sparse_load,julien/UKB40/sparse_load/SC-SPeC_right_UKB40_sparse_load,julien/UKB40/sparse_load/OCCIPITAL_left_UKB40_sparse_load,julien/UKB40/sparse_load/OCCIPITAL_right_UKB40_sparse_load,julien/UKB40/sparse_load/SOr_left_UKB40_sparse_load,julien/UKB40/sparse_load/SOr_right_UKB40_sparse_load,julien/UKB40/sparse_load/deMatos_left_UKB40_sparse_load,julien/UKB40/sparse_load/deMatos_right_UKB40_sparse_load\n"
     ]
    }
   ],
   "source": [
    "print(*list_config_names, sep=',')"
   ]
  }
 ],
 "metadata": {
  "kernelspec": {
   "display_name": "venv",
   "language": "python",
   "name": "python3"
  },
  "language_info": {
   "codemirror_mode": {
    "name": "ipython",
    "version": 3
   },
   "file_extension": ".py",
   "mimetype": "text/x-python",
   "name": "python",
   "nbconvert_exporter": "python",
   "pygments_lexer": "ipython3",
   "version": "3.10.12"
  }
 },
 "nbformat": 4,
 "nbformat_minor": 2
}
